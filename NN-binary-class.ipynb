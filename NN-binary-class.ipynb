{
 "cells": [
  {
   "cell_type": "code",
   "execution_count": 28,
   "id": "59927578",
   "metadata": {},
   "outputs": [],
   "source": [
    "import pandas as pd\n",
    "import numpy as np\n",
    "import matplotlib.pyplot as plt\n",
    "\n",
    "from sklearn.model_selection import train_test_split\n",
    "from sklearn.metrics import r2_score\n",
    "\n",
    "from tensorflow.keras.models import Sequential, Model\n",
    "from tensorflow.keras.layers import Dense, Dropout, Input\n",
    "from tensorflow.keras import regularizers\n",
    "from tensorflow.keras.regularizers import l2\n",
    "from tensorflow.keras.callbacks import EarlyStopping"
   ]
  },
  {
   "cell_type": "code",
   "execution_count": 29,
   "id": "8da97fc7",
   "metadata": {},
   "outputs": [],
   "source": [
    "df = pd.read_csv('./dataset/cleaned.csv')"
   ]
  },
  {
   "cell_type": "code",
   "execution_count": 30,
   "id": "2d99839f",
   "metadata": {},
   "outputs": [],
   "source": [
    "df_dummies = df.filter(['city', 'state', 'event_type', 'flight_condition','flight_operation', 'sightseeing', 'second_pilot'], axis=1)"
   ]
  },
  {
   "cell_type": "code",
   "execution_count": 31,
   "id": "4e7890f2",
   "metadata": {},
   "outputs": [],
   "source": [
    "# One-hot encode 'city', 'state', 'event_type', 'flight_condition','flight_operation', 'sightseeing', 'second_pilot'\n",
    "\n",
    "df_dummies = pd.get_dummies(df_dummies, columns=['city', 'state', 'event_type', 'flight_condition','flight_operation', 'sightseeing', 'second_pilot'], drop_first=True)"
   ]
  },
  {
   "cell_type": "code",
   "execution_count": 32,
   "id": "6d2a58be",
   "metadata": {
    "scrolled": true
   },
   "outputs": [
    {
     "data": {
      "text/html": [
       "<div>\n",
       "<style scoped>\n",
       "    .dataframe tbody tr th:only-of-type {\n",
       "        vertical-align: middle;\n",
       "    }\n",
       "\n",
       "    .dataframe tbody tr th {\n",
       "        vertical-align: top;\n",
       "    }\n",
       "\n",
       "    .dataframe thead th {\n",
       "        text-align: right;\n",
       "    }\n",
       "</style>\n",
       "<table border=\"1\" class=\"dataframe\">\n",
       "  <thead>\n",
       "    <tr style=\"text-align: right;\">\n",
       "      <th></th>\n",
       "      <th>city_AGUA DULCE</th>\n",
       "      <th>city_ALBUQUERQUE</th>\n",
       "      <th>city_ANAHUAC</th>\n",
       "      <th>city_ANDOVER</th>\n",
       "      <th>city_ANGLETON</th>\n",
       "      <th>city_ANOKA</th>\n",
       "      <th>city_ARCADIA</th>\n",
       "      <th>city_ARECIBO</th>\n",
       "      <th>city_ARGYLE</th>\n",
       "      <th>city_ATLANTA</th>\n",
       "      <th>...</th>\n",
       "      <th>flight_operation_PERS</th>\n",
       "      <th>flight_operation_POSI</th>\n",
       "      <th>flight_operation_PUBF</th>\n",
       "      <th>flight_operation_PUBL</th>\n",
       "      <th>flight_operation_PUBS</th>\n",
       "      <th>flight_operation_PUBU</th>\n",
       "      <th>flight_operation_SKYD</th>\n",
       "      <th>flight_operation_UNK</th>\n",
       "      <th>sightseeing_True</th>\n",
       "      <th>second_pilot_True</th>\n",
       "    </tr>\n",
       "  </thead>\n",
       "  <tbody>\n",
       "    <tr>\n",
       "      <th>0</th>\n",
       "      <td>0</td>\n",
       "      <td>0</td>\n",
       "      <td>0</td>\n",
       "      <td>0</td>\n",
       "      <td>0</td>\n",
       "      <td>0</td>\n",
       "      <td>0</td>\n",
       "      <td>0</td>\n",
       "      <td>0</td>\n",
       "      <td>0</td>\n",
       "      <td>...</td>\n",
       "      <td>1</td>\n",
       "      <td>0</td>\n",
       "      <td>0</td>\n",
       "      <td>0</td>\n",
       "      <td>0</td>\n",
       "      <td>0</td>\n",
       "      <td>0</td>\n",
       "      <td>0</td>\n",
       "      <td>0</td>\n",
       "      <td>0</td>\n",
       "    </tr>\n",
       "  </tbody>\n",
       "</table>\n",
       "<p>1 rows × 5166 columns</p>\n",
       "</div>"
      ],
      "text/plain": [
       "   city_AGUA DULCE  city_ALBUQUERQUE  city_ANAHUAC  city_ANDOVER  \\\n",
       "0                0                 0             0             0   \n",
       "\n",
       "   city_ANGLETON  city_ANOKA  city_ARCADIA  city_ARECIBO  city_ARGYLE  \\\n",
       "0              0           0             0             0            0   \n",
       "\n",
       "   city_ATLANTA  ...  flight_operation_PERS  flight_operation_POSI  \\\n",
       "0             0  ...                      1                      0   \n",
       "\n",
       "   flight_operation_PUBF  flight_operation_PUBL  flight_operation_PUBS  \\\n",
       "0                      0                      0                      0   \n",
       "\n",
       "   flight_operation_PUBU  flight_operation_SKYD  flight_operation_UNK  \\\n",
       "0                      0                      0                     0   \n",
       "\n",
       "   sightseeing_True  second_pilot_True  \n",
       "0                 0                  0  \n",
       "\n",
       "[1 rows x 5166 columns]"
      ]
     },
     "execution_count": 32,
     "metadata": {},
     "output_type": "execute_result"
    }
   ],
   "source": [
    "df_dummies.head(1)"
   ]
  },
  {
   "cell_type": "code",
   "execution_count": 33,
   "id": "12af7617",
   "metadata": {
    "scrolled": false
   },
   "outputs": [
    {
     "name": "stderr",
     "output_type": "stream",
     "text": [
      "<ipython-input-33-4febe336a289>:5: SettingWithCopyWarning: \n",
      "A value is trying to be set on a copy of a slice from a DataFrame\n",
      "\n",
      "See the caveats in the documentation: https://pandas.pydata.org/pandas-docs/stable/user_guide/indexing.html#returning-a-view-versus-a-copy\n",
      "  df['deaths_and_injuries'][i] = 1\n"
     ]
    }
   ],
   "source": [
    "# making death and injuries as either 1 or 0\n",
    "\n",
    "for i in range(len(df['deaths_and_injuries'])):\n",
    "    if df['deaths_and_injuries'][i] > 0:\n",
    "        df['deaths_and_injuries'][i] = 1"
   ]
  },
  {
   "cell_type": "code",
   "execution_count": 34,
   "id": "05565b34",
   "metadata": {},
   "outputs": [
    {
     "data": {
      "text/plain": [
       "0        0.0\n",
       "1        0.0\n",
       "2        1.0\n",
       "3        1.0\n",
       "4        0.0\n",
       "        ... \n",
       "14317    0.0\n",
       "14318    1.0\n",
       "14319    1.0\n",
       "14320    0.0\n",
       "14321    1.0\n",
       "Name: deaths_and_injuries, Length: 14322, dtype: float64"
      ]
     },
     "execution_count": 34,
     "metadata": {},
     "output_type": "execute_result"
    }
   ],
   "source": [
    "df['deaths_and_injuries']"
   ]
  },
  {
   "cell_type": "code",
   "execution_count": 67,
   "id": "e0acc9f6",
   "metadata": {},
   "outputs": [],
   "source": [
    "X = df_dummies.values\n",
    "y = df['deaths_and_injuries'].astype(int).values\n",
    "\n",
    "X_train, X_test, y_train, y_test = train_test_split(X, y, random_state=42)"
   ]
  },
  {
   "cell_type": "code",
   "execution_count": 65,
   "id": "a99ad578",
   "metadata": {},
   "outputs": [
    {
     "data": {
      "text/plain": [
       "(5166,)"
      ]
     },
     "execution_count": 65,
     "metadata": {},
     "output_type": "execute_result"
    }
   ],
   "source": [
    "X_train[0].shape"
   ]
  },
  {
   "cell_type": "markdown",
   "id": "1983af54",
   "metadata": {},
   "source": [
    "### Basic Model, 10 layers"
   ]
  },
  {
   "cell_type": "code",
   "execution_count": 102,
   "id": "620bf9f3",
   "metadata": {},
   "outputs": [
    {
     "name": "stdout",
     "output_type": "stream",
     "text": [
      "Epoch 1/20\n",
      "42/42 [==============================] - 10s 225ms/step - loss: 0.6814 - val_loss: 0.6699\n",
      "Epoch 2/20\n",
      "42/42 [==============================] - 9s 216ms/step - loss: 0.6137 - val_loss: 0.7064s -\n",
      "Epoch 3/20\n",
      "42/42 [==============================] - 9s 222ms/step - loss: 0.4764 - val_loss: 0.7472\n",
      "Epoch 4/20\n",
      "42/42 [==============================] - 10s 234ms/step - loss: 0.3686 - val_loss: 0.9901\n",
      "Epoch 5/20\n",
      "42/42 [==============================] - 9s 218ms/step - loss: 0.2928 - val_loss: 1.2913\n",
      "Epoch 6/20\n",
      "42/42 [==============================] - 9s 225ms/step - loss: 0.2619 - val_loss: 1.1680\n",
      "Epoch 7/20\n",
      "42/42 [==============================] - 9s 224ms/step - loss: 0.2480 - val_loss: 1.5401\n",
      "Epoch 8/20\n",
      "42/42 [==============================] - 9s 225ms/step - loss: 0.2347 - val_loss: 1.6108\n",
      "Epoch 9/20\n",
      "42/42 [==============================] - 9s 222ms/step - loss: 0.2173 - val_loss: 2.0656\n",
      "Epoch 10/20\n",
      "42/42 [==============================] - 9s 223ms/step - loss: 0.2122 - val_loss: 1.8921\n",
      "Epoch 11/20\n",
      "42/42 [==============================] - 9s 222ms/step - loss: 0.2104 - val_loss: 2.0061\n",
      "Epoch 12/20\n",
      "42/42 [==============================] - 9s 220ms/step - loss: 0.2067 - val_loss: 2.1240\n",
      "Epoch 13/20\n",
      "42/42 [==============================] - 9s 225ms/step - loss: 0.2047 - val_loss: 2.3460\n",
      "Epoch 14/20\n",
      "42/42 [==============================] - 9s 221ms/step - loss: 0.2014 - val_loss: 2.1656\n",
      "Epoch 15/20\n",
      "42/42 [==============================] - 9s 221ms/step - loss: 0.2053 - val_loss: 1.9087\n",
      "Epoch 16/20\n",
      "42/42 [==============================] - 9s 223ms/step - loss: 0.2111 - val_loss: 1.5886\n",
      "Epoch 17/20\n",
      "42/42 [==============================] - 9s 216ms/step - loss: 0.2043 - val_loss: 2.4384\n",
      "Epoch 18/20\n",
      "42/42 [==============================] - 9s 218ms/step - loss: 0.2060 - val_loss: 1.6396\n",
      "Epoch 19/20\n",
      "42/42 [==============================] - 9s 224ms/step - loss: 0.2138 - val_loss: 1.8021\n",
      "Epoch 20/20\n",
      "42/42 [==============================] - 9s 220ms/step - loss: 0.2054 - val_loss: 2.2932\n"
     ]
    }
   ],
   "source": [
    "# model\n",
    "model = Sequential()\n",
    "\n",
    "# h1\n",
    "model.add(Dense(4096, activation='relu', input_shape=(5166,)))\n",
    "\n",
    "# h2\n",
    "model.add(Dense(2048, activation='relu'))\n",
    "\n",
    "# h3\n",
    "model.add(Dense(1024, activation='relu'))\n",
    "\n",
    "# h4\n",
    "model.add(Dense(512, activation='relu'))\n",
    "\n",
    "# h5\n",
    "model.add(Dense(256, activation='relu'))\n",
    "\n",
    "# h6\n",
    "model.add(Dense(128, activation='relu'))\n",
    "\n",
    "# h7\n",
    "model.add(Dense(64, activation='relu'))\n",
    "\n",
    "# h8\n",
    "model.add(Dense(32, activation='relu'))\n",
    "\n",
    "# h9\n",
    "model.add(Dense(16, activation='relu'))\n",
    "\n",
    "# h10\n",
    "model.add(Dense(8, activation='relu'))\n",
    "\n",
    "# output\n",
    "model.add(Dense(1, activation='sigmoid'))\n",
    "\n",
    "# Compile it\n",
    "model.compile(loss='binary_crossentropy', optimizer='adam')\n",
    "\n",
    "# Fit it\n",
    "results = model.fit(X_train, y_train,\n",
    "                    batch_size=256,\n",
    "                    epochs=20,\n",
    "                    validation_data=(X_test, y_test),\n",
    "                    verbose=1) # <- printing"
   ]
  },
  {
   "cell_type": "code",
   "execution_count": 103,
   "id": "1fedc94c",
   "metadata": {},
   "outputs": [],
   "source": [
    "preds_loss_10 = model.predict(X_test)"
   ]
  },
  {
   "cell_type": "code",
   "execution_count": 104,
   "id": "6643d8e1",
   "metadata": {},
   "outputs": [],
   "source": [
    "# Visualize the loss\n",
    "train_loss_10 = results.history['loss']\n",
    "test_loss_10 = results.history['val_loss']"
   ]
  },
  {
   "cell_type": "code",
   "execution_count": 105,
   "id": "79c0a5a9",
   "metadata": {},
   "outputs": [
    {
     "data": {
      "image/png": "[encoded data removed]",
      "text/plain": [
       "<Figure size 864x576 with 1 Axes>"
      ]
     },
     "metadata": {
      "needs_background": "light"
     },
     "output_type": "display_data"
    }
   ],
   "source": [
    "plt.figure(figsize=(12, 8))\n",
    "plt.plot(train_loss_10, label='Training loss', color='navy')\n",
    "plt.plot(test_loss_10, label='Testing loss', color='skyblue')\n",
    "plt.legend();\n",
    "\n",
    "plt.savefig('./images/nn_10.png', bbox_inches='tight')"
   ]
  },
  {
   "cell_type": "markdown",
   "id": "8be8fec7",
   "metadata": {},
   "source": [
    "### Basic Model, 5 layers A"
   ]
  },
  {
   "cell_type": "code",
   "execution_count": 106,
   "id": "073caad8",
   "metadata": {},
   "outputs": [
    {
     "name": "stdout",
     "output_type": "stream",
     "text": [
      "Epoch 1/20\n",
      "42/42 [==============================] - 10s 222ms/step - loss: 0.6770 - val_loss: 0.6667\n",
      "Epoch 2/20\n",
      "42/42 [==============================] - 9s 221ms/step - loss: 0.5766 - val_loss: 0.6970ss: 0.\n",
      "Epoch 3/20\n",
      "42/42 [==============================] - 9s 223ms/step - loss: 0.4395 - val_loss: 0.8282\n",
      "Epoch 4/20\n",
      "42/42 [==============================] - 9s 219ms/step - loss: 0.3464 - val_loss: 1.1062\n",
      "Epoch 5/20\n",
      "42/42 [==============================] - 9s 219ms/step - loss: 0.2853 - val_loss: 1.1095\n",
      "Epoch 6/20\n",
      "42/42 [==============================] - 9s 215ms/step - loss: 0.2545 - val_loss: 1.3759\n",
      "Epoch 7/20\n",
      "42/42 [==============================] - 9s 215ms/step - loss: 0.2386 - val_loss: 1.4604\n",
      "Epoch 8/20\n",
      "42/42 [==============================] - 9s 224ms/step - loss: 0.2301 - val_loss: 1.4217\n",
      "Epoch 9/20\n",
      "42/42 [==============================] - 9s 225ms/step - loss: 0.2267 - val_loss: 1.7116\n",
      "Epoch 10/20\n",
      "42/42 [==============================] - 9s 212ms/step - loss: 0.2152 - val_loss: 1.6438\n",
      "Epoch 11/20\n",
      "42/42 [==============================] - 9s 211ms/step - loss: 0.2105 - val_loss: 2.1594\n",
      "Epoch 12/20\n",
      "42/42 [==============================] - 9s 210ms/step - loss: 0.2061 - val_loss: 2.1530\n",
      "Epoch 13/20\n",
      "42/42 [==============================] - 9s 214ms/step - loss: 0.2040 - val_loss: 2.3116\n",
      "Epoch 14/20\n",
      "42/42 [==============================] - 9s 213ms/step - loss: 0.2036 - val_loss: 1.8948\n",
      "Epoch 15/20\n",
      "42/42 [==============================] - 9s 217ms/step - loss: 0.2012 - val_loss: 2.0017\n",
      "Epoch 16/20\n",
      "42/42 [==============================] - 9s 222ms/step - loss: 0.2008 - val_loss: 1.9459\n",
      "Epoch 17/20\n",
      "42/42 [==============================] - 9s 220ms/step - loss: 0.1988 - val_loss: 2.5482s - loss:\n",
      "Epoch 18/20\n",
      "42/42 [==============================] - 9s 219ms/step - loss: 0.2000 - val_loss: 1.9169\n",
      "Epoch 19/20\n",
      "42/42 [==============================] - 9s 213ms/step - loss: 0.1977 - val_loss: 2.3116\n",
      "Epoch 20/20\n",
      "42/42 [==============================] - 9s 218ms/step - loss: 0.1967 - val_loss: 2.4926\n"
     ]
    }
   ],
   "source": [
    "# model\n",
    "model = Sequential()\n",
    "\n",
    "# h1\n",
    "model.add(Dense(4096, activation='relu', input_shape=(5166,)))\n",
    "\n",
    "# h2\n",
    "model.add(Dense(2048, activation='relu'))\n",
    "\n",
    "# h3\n",
    "model.add(Dense(1024, activation='relu'))\n",
    "\n",
    "# h4\n",
    "model.add(Dense(512, activation='relu'))\n",
    "\n",
    "# h5\n",
    "model.add(Dense(256, activation='relu'))\n",
    "\n",
    "# output\n",
    "model.add(Dense(1, activation='sigmoid'))\n",
    "\n",
    "# Compile it\n",
    "model.compile(loss='binary_crossentropy', optimizer='adam')\n",
    "\n",
    "# Fit it\n",
    "results = model.fit(X_train, y_train,\n",
    "                    batch_size=256,\n",
    "                    epochs=20,\n",
    "                    validation_data=(X_test, y_test),\n",
    "                    verbose=1) # <- printing"
   ]
  },
  {
   "cell_type": "code",
   "execution_count": 107,
   "id": "d8135982",
   "metadata": {},
   "outputs": [],
   "source": [
    "preds_loss_a = model.predict(X_test)"
   ]
  },
  {
   "cell_type": "code",
   "execution_count": 108,
   "id": "e882437c",
   "metadata": {},
   "outputs": [],
   "source": [
    "# Visualize the loss\n",
    "train_loss_a = results.history['loss']\n",
    "test_loss_a = results.history['val_loss']"
   ]
  },
  {
   "cell_type": "code",
   "execution_count": 109,
   "id": "15f2c416",
   "metadata": {},
   "outputs": [
    {
     "data": {
      "image/png": "[encoded data removed]",
      "text/plain": [
       "<Figure size 864x576 with 1 Axes>"
      ]
     },
     "metadata": {
      "needs_background": "light"
     },
     "output_type": "display_data"
    }
   ],
   "source": [
    "plt.figure(figsize=(12, 8))\n",
    "\n",
    "plt.plot(train_loss_a, label='Training Loss', color='green')\n",
    "plt.plot(test_loss_a, label='Testing Loss', color='purple')\n",
    "\n",
    "plt.legend();\n",
    "\n",
    "plt.savefig('./images/nn_a.png', bbox_inches='tight')"
   ]
  },
  {
   "cell_type": "markdown",
   "id": "4e501fc7",
   "metadata": {},
   "source": [
    "### Basic Model, 5 layers B"
   ]
  },
  {
   "cell_type": "code",
   "execution_count": 110,
   "id": "459c92e1",
   "metadata": {},
   "outputs": [
    {
     "name": "stdout",
     "output_type": "stream",
     "text": [
      "Epoch 1/20\n",
      "21/21 [==============================] - 6s 239ms/step - loss: 0.6784 - val_loss: 0.6683\n",
      "Epoch 2/20\n",
      "21/21 [==============================] - 5s 241ms/step - loss: 0.5865 - val_loss: 0.7227\n",
      "Epoch 3/20\n",
      "21/21 [==============================] - 5s 238ms/step - loss: 0.4484 - val_loss: 0.7680\n",
      "Epoch 4/20\n",
      "21/21 [==============================] - 5s 236ms/step - loss: 0.3658 - val_loss: 0.8673\n",
      "Epoch 5/20\n",
      "21/21 [==============================] - 5s 229ms/step - loss: 0.3147 - val_loss: 1.0484\n",
      "Epoch 6/20\n",
      "21/21 [==============================] - 5s 236ms/step - loss: 0.2773 - val_loss: 1.0940\n",
      "Epoch 7/20\n",
      "21/21 [==============================] - 5s 232ms/step - loss: 0.2631 - val_loss: 1.0433\n",
      "Epoch 8/20\n",
      "21/21 [==============================] - 5s 237ms/step - loss: 0.2527 - val_loss: 1.1572\n",
      "Epoch 9/20\n",
      "21/21 [==============================] - 5s 239ms/step - loss: 0.2438 - val_loss: 1.1658\n",
      "Epoch 10/20\n",
      "21/21 [==============================] - 5s 252ms/step - loss: 0.2309 - val_loss: 1.3039\n",
      "Epoch 11/20\n",
      "21/21 [==============================] - 5s 235ms/step - loss: 0.2239 - val_loss: 1.3013\n",
      "Epoch 12/20\n",
      "21/21 [==============================] - 5s 245ms/step - loss: 0.2159 - val_loss: 1.4233\n",
      "Epoch 13/20\n",
      "21/21 [==============================] - 5s 239ms/step - loss: 0.2127 - val_loss: 1.4478\n",
      "Epoch 14/20\n",
      "21/21 [==============================] - 5s 236ms/step - loss: 0.2091 - val_loss: 1.5640\n",
      "Epoch 15/20\n",
      "21/21 [==============================] - 5s 239ms/step - loss: 0.2062 - val_loss: 1.6869\n",
      "Epoch 16/20\n",
      "21/21 [==============================] - 5s 244ms/step - loss: 0.2037 - val_loss: 1.8879\n",
      "Epoch 17/20\n",
      "21/21 [==============================] - 5s 240ms/step - loss: 0.2026 - val_loss: 1.9978\n",
      "Epoch 18/20\n",
      "21/21 [==============================] - 5s 233ms/step - loss: 0.2011 - val_loss: 1.8166\n",
      "Epoch 19/20\n",
      "21/21 [==============================] - 5s 245ms/step - loss: 0.1993 - val_loss: 2.0775\n",
      "Epoch 20/20\n",
      "21/21 [==============================] - 5s 238ms/step - loss: 0.2005 - val_loss: 2.0504\n"
     ]
    }
   ],
   "source": [
    "# model\n",
    "model = Sequential()\n",
    "\n",
    "# h1\n",
    "model.add(Dense(4096, activation='relu', input_shape=(5166,)))\n",
    "\n",
    "# h2\n",
    "model.add(Dense(1024, activation='relu'))\n",
    "\n",
    "# h3\n",
    "model.add(Dense(256, activation='relu'))\n",
    "\n",
    "# h4\n",
    "model.add(Dense(64, activation='relu'))\n",
    "\n",
    "# h5\n",
    "model.add(Dense(16, activation='relu'))\n",
    "\n",
    "# output\n",
    "model.add(Dense(1, activation='sigmoid'))\n",
    "\n",
    "# Compile it\n",
    "model.compile(loss='binary_crossentropy', optimizer='adam')\n",
    "\n",
    "# Fit it\n",
    "results = model.fit(X_train, y_train,\n",
    "                    batch_size=512,\n",
    "                    epochs=20,\n",
    "                    validation_data=(X_test, y_test),\n",
    "                    verbose=1) # <- printing"
   ]
  },
  {
   "cell_type": "code",
   "execution_count": 111,
   "id": "8cf11611",
   "metadata": {},
   "outputs": [],
   "source": [
    "preds_loss_b = model.predict(X_test)"
   ]
  },
  {
   "cell_type": "code",
   "execution_count": 112,
   "id": "e7607f2a",
   "metadata": {},
   "outputs": [],
   "source": [
    "# Visualize the loss\n",
    "train_loss_b = results.history['loss']\n",
    "test_loss_b = results.history['val_loss']"
   ]
  },
  {
   "cell_type": "code",
   "execution_count": 113,
   "id": "b8bb788e",
   "metadata": {
    "scrolled": true
   },
   "outputs": [
    {
     "data": {
      "image/png": "[encoded data removed]",
      "text/plain": [
       "<Figure size 864x576 with 1 Axes>"
      ]
     },
     "metadata": {
      "needs_background": "light"
     },
     "output_type": "display_data"
    }
   ],
   "source": [
    "plt.figure(figsize=(12, 8))\n",
    "\n",
    "plt.plot(train_loss_b, label='Training loss', color='navy')\n",
    "plt.plot(test_loss_b, label='Testing loss', color='red')\n",
    "\n",
    "plt.legend();\n",
    "\n",
    "plt.savefig('./images/nn_b.png', bbox_inches='tight')"
   ]
  },
  {
   "cell_type": "markdown",
   "id": "6601982a",
   "metadata": {},
   "source": [
    "==="
   ]
  },
  {
   "cell_type": "markdown",
   "id": "949cb17b",
   "metadata": {},
   "source": [
    "### Model with L2 Regularizer, 5 layers B"
   ]
  },
  {
   "cell_type": "code",
   "execution_count": 114,
   "id": "eab599f2",
   "metadata": {},
   "outputs": [
    {
     "name": "stdout",
     "output_type": "stream",
     "text": [
      "Epoch 1/30\n",
      "42/42 [==============================] - 12s 263ms/step - loss: 2.2318 - val_loss: 0.8431\n",
      "Epoch 2/30\n",
      "42/42 [==============================] - 11s 253ms/step - loss: 0.7634 - val_loss: 0.7212\n",
      "Epoch 3/30\n",
      "42/42 [==============================] - 11s 259ms/step - loss: 0.7096 - val_loss: 0.7060\n",
      "Epoch 4/30\n",
      "42/42 [==============================] - 11s 252ms/step - loss: 0.6967 - val_loss: 0.7137\n",
      "Epoch 5/30\n",
      "42/42 [==============================] - 11s 258ms/step - loss: 0.6760 - val_loss: 0.7457\n",
      "Epoch 6/30\n",
      "42/42 [==============================] - 10s 250ms/step - loss: 0.6432 - val_loss: 0.7686\n",
      "Epoch 7/30\n",
      "42/42 [==============================] - 11s 260ms/step - loss: 0.5947 - val_loss: 0.8190\n",
      "Epoch 8/30\n",
      "42/42 [==============================] - 11s 258ms/step - loss: 0.5687 - val_loss: 0.8103\n",
      "Epoch 9/30\n",
      "42/42 [==============================] - 11s 257ms/step - loss: 0.5336 - val_loss: 0.8495\n",
      "Epoch 10/30\n",
      "42/42 [==============================] - 11s 254ms/step - loss: 0.5061 - val_loss: 0.8732\n",
      "Epoch 11/30\n",
      "42/42 [==============================] - 11s 257ms/step - loss: 0.4676 - val_loss: 0.9670\n",
      "Epoch 12/30\n",
      "42/42 [==============================] - 11s 267ms/step - loss: 0.4409 - val_loss: 0.9770\n",
      "Epoch 13/30\n",
      "42/42 [==============================] - 11s 254ms/step - loss: 0.4219 - val_loss: 1.0179\n",
      "Epoch 14/30\n",
      "42/42 [==============================] - 11s 257ms/step - loss: 0.4070 - val_loss: 1.0319\n",
      "Epoch 15/30\n",
      "42/42 [==============================] - 11s 257ms/step - loss: 0.3991 - val_loss: 1.0873\n",
      "Epoch 16/30\n",
      "42/42 [==============================] - 11s 264ms/step - loss: 0.3848 - val_loss: 1.0633\n",
      "Epoch 17/30\n",
      "42/42 [==============================] - 11s 257ms/step - loss: 0.3723 - val_loss: 1.0715\n",
      "Epoch 18/30\n",
      "42/42 [==============================] - 11s 256ms/step - loss: 0.3660 - val_loss: 1.0864\n",
      "Epoch 19/30\n",
      "42/42 [==============================] - 11s 256ms/step - loss: 0.3586 - val_loss: 1.0899\n",
      "Epoch 20/30\n",
      "42/42 [==============================] - 11s 260ms/step - loss: 0.3530 - val_loss: 1.1236\n",
      "Epoch 21/30\n",
      "42/42 [==============================] - 11s 254ms/step - loss: 0.3559 - val_loss: 1.1214\n",
      "Epoch 22/30\n",
      "42/42 [==============================] - 11s 264ms/step - loss: 0.3434 - val_loss: 1.1570\n",
      "Epoch 23/30\n",
      "42/42 [==============================] - 11s 263ms/step - loss: 0.3395 - val_loss: 1.1416\n",
      "Epoch 24/30\n",
      "42/42 [==============================] - 11s 270ms/step - loss: 0.3378 - val_loss: 1.1268\n",
      "Epoch 25/30\n",
      "42/42 [==============================] - 11s 268ms/step - loss: 0.3351 - val_loss: 1.1370\n",
      "Epoch 26/30\n",
      "42/42 [==============================] - 11s 256ms/step - loss: 0.3347 - val_loss: 1.1536\n",
      "Epoch 27/30\n",
      "42/42 [==============================] - 11s 267ms/step - loss: 0.3364 - val_loss: 1.1487\n",
      "Epoch 28/30\n",
      "42/42 [==============================] - 11s 256ms/step - loss: 0.3335 - val_loss: 1.1671\n",
      "Epoch 29/30\n",
      "42/42 [==============================] - 11s 258ms/step - loss: 0.3302 - val_loss: 1.1536\n",
      "Epoch 30/30\n",
      "42/42 [==============================] - 11s 260ms/step - loss: 0.3286 - val_loss: 1.1746\n"
     ]
    }
   ],
   "source": [
    "# model\n",
    "model = Sequential()\n",
    "\n",
    "# h1\n",
    "model.add(Dense(4096, activation='relu', input_shape=(5166,), kernel_regularizer=l2(.001)))\n",
    "\n",
    "# h2\n",
    "model.add(Dense(1024, activation='relu', kernel_regularizer=l2(.001)))\n",
    "\n",
    "# h3\n",
    "model.add(Dense(256, activation='relu', kernel_regularizer=l2(.001)))\n",
    "\n",
    "# h4\n",
    "model.add(Dense(64, activation='relu', kernel_regularizer=l2(.001)))\n",
    "\n",
    "# h5\n",
    "model.add(Dense(16, activation='relu', kernel_regularizer=l2(.001)))\n",
    "\n",
    "# output\n",
    "model.add(Dense(1, activation='sigmoid'))\n",
    "\n",
    "# Compile it\n",
    "model.compile(loss='binary_crossentropy', optimizer='adam')\n",
    "\n",
    "# Fit it\n",
    "results = model.fit(X_train, y_train,\n",
    "                    batch_size=256,\n",
    "                    epochs=30,\n",
    "                    validation_data=(X_test, y_test),\n",
    "                    verbose=1) # <- printing"
   ]
  },
  {
   "cell_type": "code",
   "execution_count": 115,
   "id": "987579c1",
   "metadata": {},
   "outputs": [],
   "source": [
    "preds_l2_b = model.predict(X_test)"
   ]
  },
  {
   "cell_type": "code",
   "execution_count": 116,
   "id": "74eaa272",
   "metadata": {},
   "outputs": [],
   "source": [
    "# Visualize loss\n",
    "train_l2_b = results.history['loss']\n",
    "test_l2_b = results.history['val_loss']"
   ]
  },
  {
   "cell_type": "code",
   "execution_count": 117,
   "id": "9894b373",
   "metadata": {
    "scrolled": true
   },
   "outputs": [
    {
     "data": {
      "image/png": "[encoded data removed]",
      "text/plain": [
       "<Figure size 864x576 with 1 Axes>"
      ]
     },
     "metadata": {
      "needs_background": "light"
     },
     "output_type": "display_data"
    }
   ],
   "source": [
    "plt.figure(figsize=(12, 8))\n",
    "\n",
    "plt.plot(train_l2_b, label='L2 Training loss', color='green')\n",
    "plt.plot(test_l2_b, label='L2 Testing loss', color='purple')\n",
    "\n",
    "plt.legend();\n",
    "\n",
    "plt.savefig('./images/nn_rl2b.png', bbox_inches='tight')"
   ]
  },
  {
   "cell_type": "code",
   "execution_count": null,
   "id": "19d7aefd",
   "metadata": {},
   "outputs": [],
   "source": []
  },
  {
   "cell_type": "markdown",
   "id": "da5779ec",
   "metadata": {},
   "source": [
    "### Model with L2 Regularizer, 5 layers A"
   ]
  },
  {
   "cell_type": "code",
   "execution_count": 118,
   "id": "9cfbbc56",
   "metadata": {},
   "outputs": [
    {
     "name": "stdout",
     "output_type": "stream",
     "text": [
      "Epoch 1/20\n",
      "42/42 [==============================] - 14s 325ms/step - loss: 3.0101 - val_loss: 0.8834\n",
      "Epoch 2/20\n",
      "42/42 [==============================] - 13s 320ms/step - loss: 0.7561 - val_loss: 0.7099\n",
      "Epoch 3/20\n",
      "42/42 [==============================] - 13s 321ms/step - loss: 0.7014 - val_loss: 0.6954\n",
      "Epoch 4/20\n",
      "42/42 [==============================] - 14s 331ms/step - loss: 0.6895 - val_loss: 0.7083\n",
      "Epoch 5/20\n",
      "42/42 [==============================] - 14s 343ms/step - loss: 0.6653 - val_loss: 0.7373\n",
      "Epoch 6/20\n",
      "42/42 [==============================] - 14s 342ms/step - loss: 0.6324 - val_loss: 0.7584\n",
      "Epoch 7/20\n",
      "42/42 [==============================] - 14s 345ms/step - loss: 0.5882 - val_loss: 0.7995\n",
      "Epoch 8/20\n",
      "42/42 [==============================] - 15s 350ms/step - loss: 0.5587 - val_loss: 0.8073\n",
      "Epoch 9/20\n",
      "42/42 [==============================] - 15s 353ms/step - loss: 0.5306 - val_loss: 0.8134\n",
      "Epoch 10/20\n",
      "42/42 [==============================] - 15s 349ms/step - loss: 0.4987 - val_loss: 0.8604\n",
      "Epoch 11/20\n",
      "42/42 [==============================] - 14s 327ms/step - loss: 0.4709 - val_loss: 0.9253\n",
      "Epoch 12/20\n",
      "42/42 [==============================] - 14s 331ms/step - loss: 0.4513 - val_loss: 0.9224\n",
      "Epoch 13/20\n",
      "42/42 [==============================] - 14s 328ms/step - loss: 0.4316 - val_loss: 0.9941\n",
      "Epoch 14/20\n",
      "42/42 [==============================] - 14s 323ms/step - loss: 0.4151 - val_loss: 0.9373\n",
      "Epoch 15/20\n",
      "42/42 [==============================] - 14s 327ms/step - loss: 0.4011 - val_loss: 0.9952\n",
      "Epoch 16/20\n",
      "42/42 [==============================] - 13s 322ms/step - loss: 0.3899 - val_loss: 1.0167\n",
      "Epoch 17/20\n",
      "42/42 [==============================] - 14s 329ms/step - loss: 0.3825 - val_loss: 1.0265\n",
      "Epoch 18/20\n",
      "42/42 [==============================] - 14s 341ms/step - loss: 0.3730 - val_loss: 1.0284\n",
      "Epoch 19/20\n",
      "42/42 [==============================] - 14s 345ms/step - loss: 0.3626 - val_loss: 1.0642\n",
      "Epoch 20/20\n",
      "42/42 [==============================] - 15s 346ms/step - loss: 0.3584 - val_loss: 1.0503\n"
     ]
    }
   ],
   "source": [
    "# model\n",
    "model = Sequential()\n",
    "\n",
    "# h1\n",
    "model.add(Dense(4096, activation='relu', input_shape=(5166,), kernel_regularizer=l2(.001)))\n",
    "\n",
    "# h2\n",
    "model.add(Dense(2048, activation='relu', kernel_regularizer=l2(.001)))\n",
    "\n",
    "# h3\n",
    "model.add(Dense(1024, activation='relu', kernel_regularizer=l2(.001)))\n",
    "\n",
    "# h4\n",
    "model.add(Dense(512, activation='relu', kernel_regularizer=l2(.001)))\n",
    "\n",
    "# h5\n",
    "model.add(Dense(256, activation='relu', kernel_regularizer=l2(.001)))\n",
    "\n",
    "# output\n",
    "model.add(Dense(1, activation='sigmoid'))\n",
    "\n",
    "# Compile it\n",
    "model.compile(loss='binary_crossentropy',  optimizer='adam')\n",
    "\n",
    "# Fit it\n",
    "results = model.fit(X_train, y_train,\n",
    "                    batch_size=256,\n",
    "                    epochs=20,\n",
    "                    validation_data=(X_test, y_test),\n",
    "                    verbose=1) # <- printing"
   ]
  },
  {
   "cell_type": "code",
   "execution_count": 119,
   "id": "f1675d11",
   "metadata": {},
   "outputs": [],
   "source": [
    "preds_l2_a = model.predict(X_test)"
   ]
  },
  {
   "cell_type": "code",
   "execution_count": 120,
   "id": "97902e88",
   "metadata": {},
   "outputs": [],
   "source": [
    "# Visualize loss\n",
    "train_l2_a = results.history['loss']\n",
    "test_l2_a = results.history['val_loss']"
   ]
  },
  {
   "cell_type": "code",
   "execution_count": 121,
   "id": "91e2efe5",
   "metadata": {},
   "outputs": [
    {
     "data": {
      "image/png": "[encoded data removed]",
      "text/plain": [
       "<Figure size 864x576 with 1 Axes>"
      ]
     },
     "metadata": {
      "needs_background": "light"
     },
     "output_type": "display_data"
    }
   ],
   "source": [
    "plt.figure(figsize=(12, 8))\n",
    "\n",
    "plt.plot(train_l2_a, label='L2 Training loss', color='green')\n",
    "plt.plot(test_l2_a, label='L2 Testing loss', color='purple')\n",
    "\n",
    "plt.legend();\n",
    "\n",
    "plt.savefig('./images/nn_rl2a.png', bbox_inches='tight')"
   ]
  },
  {
   "cell_type": "markdown",
   "id": "013149c5",
   "metadata": {},
   "source": [
    "==="
   ]
  },
  {
   "cell_type": "markdown",
   "id": "5dfaa186",
   "metadata": {},
   "source": [
    "### Dropout Model, 5 layers B"
   ]
  },
  {
   "cell_type": "code",
   "execution_count": 122,
   "id": "c0b6b2b9",
   "metadata": {},
   "outputs": [
    {
     "name": "stdout",
     "output_type": "stream",
     "text": [
      "Epoch 1/20\n",
      "42/42 [==============================] - 9s 194ms/step - loss: 0.7480 - val_loss: 0.6914\n",
      "Epoch 2/20\n",
      "42/42 [==============================] - 8s 189ms/step - loss: 0.7053 - val_loss: 0.6903\n",
      "Epoch 3/20\n",
      "42/42 [==============================] - 8s 188ms/step - loss: 0.6967 - val_loss: 0.6894\n",
      "Epoch 4/20\n",
      "42/42 [==============================] - 7s 174ms/step - loss: 0.6941 - val_loss: 0.6889\n",
      "Epoch 5/20\n",
      "42/42 [==============================] - 7s 172ms/step - loss: 0.6935 - val_loss: 0.6885\n",
      "Epoch 6/20\n",
      "42/42 [==============================] - 7s 172ms/step - loss: 0.6940 - val_loss: 0.6882\n",
      "Epoch 7/20\n",
      "42/42 [==============================] - 7s 172ms/step - loss: 0.6910 - val_loss: 0.6879\n",
      "Epoch 8/20\n",
      "42/42 [==============================] - 7s 176ms/step - loss: 0.6910 - val_loss: 0.6877\n",
      "Epoch 9/20\n",
      "42/42 [==============================] - 8s 181ms/step - loss: 0.6907 - val_loss: 0.6876\n",
      "Epoch 10/20\n",
      "42/42 [==============================] - 7s 176ms/step - loss: 0.6898 - val_loss: 0.6875\n",
      "Epoch 11/20\n",
      "42/42 [==============================] - 7s 175ms/step - loss: 0.6911 - val_loss: 0.6874\n",
      "Epoch 12/20\n",
      "42/42 [==============================] - 8s 184ms/step - loss: 0.6909 - val_loss: 0.6874\n",
      "Epoch 13/20\n",
      "42/42 [==============================] - 8s 190ms/step - loss: 0.6890 - val_loss: 0.6874\n",
      "Epoch 14/20\n",
      "42/42 [==============================] - 8s 185ms/step - loss: 0.6906 - val_loss: 0.6873\n",
      "Epoch 15/20\n",
      "42/42 [==============================] - 8s 189ms/step - loss: 0.6895 - val_loss: 0.6873\n",
      "Epoch 16/20\n",
      "42/42 [==============================] - 8s 190ms/step - loss: 0.6893 - val_loss: 0.6873\n",
      "Epoch 17/20\n",
      "42/42 [==============================] - 8s 184ms/step - loss: 0.6894 - val_loss: 0.6873\n",
      "Epoch 18/20\n",
      "42/42 [==============================] - 8s 190ms/step - loss: 0.6892 - val_loss: 0.6872\n",
      "Epoch 19/20\n",
      "42/42 [==============================] - 8s 191ms/step - loss: 0.6889 - val_loss: 0.6872\n",
      "Epoch 20/20\n",
      "42/42 [==============================] - 8s 187ms/step - loss: 0.6889 - val_loss: 0.6872\n"
     ]
    }
   ],
   "source": [
    "# model\n",
    "model = Sequential()\n",
    "\n",
    "# h1\n",
    "model.add(Dense(4096, activation='relu', input_shape=(5166,)))\n",
    "model.add(Dropout(.8))\n",
    "\n",
    "# h2\n",
    "model.add(Dense(1024, activation='relu'))\n",
    "model.add(Dropout(.8))\n",
    "\n",
    "# h3\n",
    "model.add(Dense(256, activation='relu'))\n",
    "model.add(Dropout(.8))\n",
    "\n",
    "# h4\n",
    "model.add(Dense(64, activation='relu'))\n",
    "model.add(Dropout(.8))\n",
    "\n",
    "# h5\n",
    "model.add(Dense(16, activation='relu'))\n",
    "model.add(Dropout(.8))\n",
    "\n",
    "# output\n",
    "model.add(Dense(1, activation='sigmoid'))\n",
    "\n",
    "# Compile it\n",
    "model.compile(loss='binary_crossentropy', optimizer='adam')\n",
    "\n",
    "# Fit it\n",
    "results = model.fit(X_train, y_train,\n",
    "                    batch_size=256,\n",
    "                    epochs=20,\n",
    "                    validation_data=(X_test, y_test),\n",
    "                    verbose=1) # <- printing"
   ]
  },
  {
   "cell_type": "code",
   "execution_count": 123,
   "id": "a0254ffc",
   "metadata": {},
   "outputs": [],
   "source": [
    "preds_dropout_b = model.predict(X_test)"
   ]
  },
  {
   "cell_type": "code",
   "execution_count": 124,
   "id": "b039ea56",
   "metadata": {},
   "outputs": [],
   "source": [
    "train_dropout_b = results.history['loss']\n",
    "test_dropout_b = results.history['val_loss']"
   ]
  },
  {
   "cell_type": "code",
   "execution_count": 138,
   "id": "b3c6a17b",
   "metadata": {},
   "outputs": [
    {
     "data": {
      "image/png": "[encoded data removed]",
      "text/plain": [
       "<Figure size 864x576 with 1 Axes>"
      ]
     },
     "metadata": {
      "needs_background": "light"
     },
     "output_type": "display_data"
    }
   ],
   "source": [
    "plt.figure(figsize=(12, 8))\n",
    "\n",
    "plt.plot(train_dropout_b, label='Dropout Training loss', color='navy')\n",
    "plt.plot(test_dropout_b, label='Dropout Testing loss', color='blue')\n",
    "\n",
    "plt.legend();\n",
    "\n",
    "plt.savefig('./images/nn_drop_b.png', bbox_inches='tight')"
   ]
  },
  {
   "cell_type": "markdown",
   "id": "853ab475",
   "metadata": {},
   "source": [
    "==="
   ]
  },
  {
   "cell_type": "markdown",
   "id": "ae990957",
   "metadata": {},
   "source": [
    "### Dropout Model, 5 layers A"
   ]
  },
  {
   "cell_type": "code",
   "execution_count": 126,
   "id": "fc5dc511",
   "metadata": {},
   "outputs": [
    {
     "name": "stdout",
     "output_type": "stream",
     "text": [
      "Epoch 1/20\n",
      "21/21 [==============================] - 6s 266ms/step - loss: 0.7290 - val_loss: 0.6923\n",
      "Epoch 2/20\n",
      "21/21 [==============================] - 5s 252ms/step - loss: 0.7040 - val_loss: 0.6914\n",
      "Epoch 3/20\n",
      "21/21 [==============================] - 5s 261ms/step - loss: 0.6954 - val_loss: 0.6907\n",
      "Epoch 4/20\n",
      "21/21 [==============================] - 5s 256ms/step - loss: 0.6954 - val_loss: 0.6902\n",
      "Epoch 5/20\n",
      "21/21 [==============================] - 5s 252ms/step - loss: 0.6946 - val_loss: 0.6897\n",
      "Epoch 6/20\n",
      "21/21 [==============================] - 5s 255ms/step - loss: 0.6921 - val_loss: 0.6893\n",
      "Epoch 7/20\n",
      "21/21 [==============================] - 6s 263ms/step - loss: 0.6906 - val_loss: 0.6889\n",
      "Epoch 8/20\n",
      "21/21 [==============================] - 6s 264ms/step - loss: 0.6910 - val_loss: 0.6886\n",
      "Epoch 9/20\n",
      "21/21 [==============================] - 5s 256ms/step - loss: 0.6912 - val_loss: 0.6884\n",
      "Epoch 10/20\n",
      "21/21 [==============================] - 5s 252ms/step - loss: 0.6904 - val_loss: 0.6882\n",
      "Epoch 11/20\n",
      "21/21 [==============================] - 5s 254ms/step - loss: 0.6902 - val_loss: 0.6880\n",
      "Epoch 12/20\n",
      "21/21 [==============================] - 5s 254ms/step - loss: 0.6895 - val_loss: 0.6879\n",
      "Epoch 13/20\n",
      "21/21 [==============================] - 6s 268ms/step - loss: 0.6905 - val_loss: 0.6878\n",
      "Epoch 14/20\n",
      "21/21 [==============================] - 6s 271ms/step - loss: 0.6895 - val_loss: 0.6878\n",
      "Epoch 15/20\n",
      "21/21 [==============================] - 6s 274ms/step - loss: 0.6894 - val_loss: 0.6877\n",
      "Epoch 16/20\n",
      "21/21 [==============================] - 6s 270ms/step - loss: 0.6900 - val_loss: 0.6876\n",
      "Epoch 17/20\n",
      "21/21 [==============================] - 6s 278ms/step - loss: 0.6896 - val_loss: 0.6876\n",
      "Epoch 18/20\n",
      "21/21 [==============================] - 6s 291ms/step - loss: 0.6890 - val_loss: 0.6875\n",
      "Epoch 19/20\n",
      "21/21 [==============================] - 6s 282ms/step - loss: 0.6894 - val_loss: 0.6875\n",
      "Epoch 20/20\n",
      "21/21 [==============================] - 6s 282ms/step - loss: 0.6885 - val_loss: 0.6875\n"
     ]
    }
   ],
   "source": [
    "# model\n",
    "model = Sequential()\n",
    "\n",
    "# h1\n",
    "model.add(Dense(4096, activation='relu', input_shape=(5166,)))\n",
    "model.add(Dropout(.8))\n",
    "\n",
    "# h2\n",
    "model.add(Dense(1024, activation='relu'))\n",
    "model.add(Dropout(.8))\n",
    "\n",
    "# h3\n",
    "model.add(Dense(256, activation='relu'))\n",
    "model.add(Dropout(.8))\n",
    "\n",
    "# h4\n",
    "model.add(Dense(64, activation='relu'))\n",
    "model.add(Dropout(.8))\n",
    "\n",
    "# h5\n",
    "model.add(Dense(16, activation='relu'))\n",
    "model.add(Dropout(.8))\n",
    "\n",
    "# output\n",
    "model.add(Dense(1, activation='sigmoid'))\n",
    "\n",
    "# Compile it\n",
    "model.compile(loss='binary_crossentropy', optimizer='adam')\n",
    "\n",
    "# Fit it\n",
    "results = model.fit(X_train, y_train,\n",
    "                    batch_size=512,\n",
    "                    epochs=20,\n",
    "                    validation_data=(X_test, y_test),\n",
    "                    verbose=1) # <- printing"
   ]
  },
  {
   "cell_type": "code",
   "execution_count": 127,
   "id": "51a6e277",
   "metadata": {},
   "outputs": [],
   "source": [
    "preds_dropout_a = model.predict(X_test)"
   ]
  },
  {
   "cell_type": "code",
   "execution_count": 128,
   "id": "e995943f",
   "metadata": {},
   "outputs": [],
   "source": [
    "train_dropout_a = results.history['loss']\n",
    "test_dropout_a = results.history['val_loss']"
   ]
  },
  {
   "cell_type": "code",
   "execution_count": 129,
   "id": "fcc6b5aa",
   "metadata": {},
   "outputs": [
    {
     "data": {
      "image/png": "[encoded data removed]",
      "text/plain": [
       "<Figure size 864x576 with 1 Axes>"
      ]
     },
     "metadata": {
      "needs_background": "light"
     },
     "output_type": "display_data"
    }
   ],
   "source": [
    "plt.figure(figsize=(12, 8))\n",
    "\n",
    "plt.plot(train_dropout_a, label='Dropout Training loss', color='darkgreen')\n",
    "plt.plot(test_dropout_a, label='Dropout Testing loss', color='lightgreen')\n",
    "\n",
    "plt.legend();\n",
    "\n",
    "plt.savefig('./images/nn_drop_a.png', bbox_inches='tight')"
   ]
  },
  {
   "cell_type": "markdown",
   "id": "e1f031dd",
   "metadata": {},
   "source": [
    "==="
   ]
  },
  {
   "cell_type": "markdown",
   "id": "9cb2ac25",
   "metadata": {},
   "source": [
    "### Add early stops"
   ]
  },
  {
   "cell_type": "code",
   "execution_count": 130,
   "id": "56a539f4",
   "metadata": {},
   "outputs": [
    {
     "name": "stdout",
     "output_type": "stream",
     "text": [
      "Epoch 1/20\n",
      "21/21 [==============================] - 6s 271ms/step - loss: 0.7550 - val_loss: 0.6919\n",
      "Epoch 2/20\n",
      "21/21 [==============================] - 5s 257ms/step - loss: 0.7067 - val_loss: 0.6912\n",
      "Epoch 3/20\n",
      "21/21 [==============================] - 5s 255ms/step - loss: 0.6952 - val_loss: 0.6905\n",
      "Epoch 4/20\n",
      "21/21 [==============================] - 5s 247ms/step - loss: 0.6963 - val_loss: 0.6900\n",
      "Epoch 5/20\n",
      "21/21 [==============================] - 5s 259ms/step - loss: 0.6936 - val_loss: 0.6896\n",
      "Epoch 6/20\n",
      "21/21 [==============================] - 5s 250ms/step - loss: 0.6930 - val_loss: 0.6893\n",
      "Epoch 7/20\n",
      "21/21 [==============================] - 5s 247ms/step - loss: 0.6925 - val_loss: 0.6889\n",
      "Epoch 8/20\n",
      "21/21 [==============================] - 5s 255ms/step - loss: 0.6913 - val_loss: 0.6886\n",
      "Epoch 9/20\n",
      "21/21 [==============================] - 5s 248ms/step - loss: 0.6921 - val_loss: 0.6884\n",
      "Epoch 10/20\n",
      "21/21 [==============================] - 5s 249ms/step - loss: 0.6903 - val_loss: 0.6882\n",
      "Epoch 11/20\n",
      "21/21 [==============================] - 5s 243ms/step - loss: 0.6917 - val_loss: 0.6880\n",
      "Epoch 12/20\n",
      "21/21 [==============================] - 6s 267ms/step - loss: 0.6903 - val_loss: 0.6878\n",
      "Epoch 13/20\n",
      "21/21 [==============================] - 6s 283ms/step - loss: 0.6899 - val_loss: 0.6877\n",
      "Epoch 14/20\n",
      "21/21 [==============================] - 6s 276ms/step - loss: 0.6896 - val_loss: 0.6876\n",
      "Epoch 15/20\n",
      "21/21 [==============================] - 6s 272ms/step - loss: 0.6909 - val_loss: 0.6876\n",
      "Epoch 16/20\n",
      "21/21 [==============================] - 6s 270ms/step - loss: 0.6894 - val_loss: 0.6875\n",
      "Epoch 17/20\n",
      "21/21 [==============================] - 6s 273ms/step - loss: 0.6899 - val_loss: 0.6875\n",
      "Epoch 18/20\n",
      "21/21 [==============================] - 6s 275ms/step - loss: 0.6884 - val_loss: 0.6874\n",
      "Epoch 19/20\n",
      "21/21 [==============================] - 6s 279ms/step - loss: 0.6889 - val_loss: 0.6874\n",
      "Epoch 20/20\n",
      "21/21 [==============================] - 6s 277ms/step - loss: 0.6891 - val_loss: 0.6874\n"
     ]
    }
   ],
   "source": [
    "# model\n",
    "model = Sequential()\n",
    "\n",
    "# h1\n",
    "model.add(Dense(4096, activation='relu', input_shape=(5166,)))\n",
    "model.add(Dropout(.8))\n",
    "\n",
    "# h2\n",
    "model.add(Dense(1024, activation='relu'))\n",
    "model.add(Dropout(.8))\n",
    "\n",
    "# h3\n",
    "model.add(Dense(256, activation='relu'))\n",
    "model.add(Dropout(.8))\n",
    "\n",
    "# h4\n",
    "model.add(Dense(64, activation='relu'))\n",
    "model.add(Dropout(.8))\n",
    "\n",
    "# h5\n",
    "model.add(Dense(16, activation='relu'))\n",
    "model.add(Dropout(.8))\n",
    "\n",
    "# output\n",
    "model.add(Dense(1, activation='sigmoid'))\n",
    "early_stop = EarlyStopping(patience=5)\n",
    "\n",
    "# Compile it\n",
    "model.compile(loss='binary_crossentropy', optimizer='adam')\n",
    "\n",
    "# Fit it\n",
    "results = model.fit(X_train, y_train,\n",
    "                    batch_size=512,\n",
    "                    epochs=20,\n",
    "                    validation_data=(X_test, y_test),\n",
    "                    callbacks=[early_stop],\n",
    "                    verbose=1) # <- printing"
   ]
  },
  {
   "cell_type": "code",
   "execution_count": 131,
   "id": "6f96e294",
   "metadata": {},
   "outputs": [],
   "source": [
    "preds_es = model.predict(X_test)"
   ]
  },
  {
   "cell_type": "code",
   "execution_count": 132,
   "id": "142d3401",
   "metadata": {},
   "outputs": [],
   "source": [
    "# Visualize loss\n",
    "train_es = results.history['loss']\n",
    "test_es = results.history['val_loss']"
   ]
  },
  {
   "cell_type": "code",
   "execution_count": 133,
   "id": "0322747e",
   "metadata": {},
   "outputs": [
    {
     "data": {
      "image/png": "[encoded data removed]",
      "text/plain": [
       "<Figure size 864x576 with 1 Axes>"
      ]
     },
     "metadata": {
      "needs_background": "light"
     },
     "output_type": "display_data"
    }
   ],
   "source": [
    "plt.figure(figsize=(12, 8))\n",
    "\n",
    "plt.plot(train_es, label='ES Training loss', color='blue')\n",
    "plt.plot(test_es, label='ES Testing loss', color='red')\n",
    "\n",
    "plt.legend();\n",
    "\n",
    "plt.savefig('./images/nn_es.png', bbox_inches='tight')"
   ]
  },
  {
   "cell_type": "code",
   "execution_count": null,
   "id": "52cb3f30",
   "metadata": {},
   "outputs": [],
   "source": []
  },
  {
   "cell_type": "markdown",
   "id": "b38db553",
   "metadata": {},
   "source": [
    "### Add early stops, drop and regularizer"
   ]
  },
  {
   "cell_type": "code",
   "execution_count": 139,
   "id": "d42c0dc8",
   "metadata": {},
   "outputs": [
    {
     "name": "stdout",
     "output_type": "stream",
     "text": [
      "Epoch 1/50\n",
      "21/21 [==============================] - 8s 346ms/step - loss: 4.3663 - val_loss: 2.6318\n",
      "Epoch 2/50\n",
      "21/21 [==============================] - 7s 345ms/step - loss: 2.3372 - val_loss: 2.0696\n",
      "Epoch 3/50\n",
      "21/21 [==============================] - 7s 353ms/step - loss: 1.8818 - val_loss: 1.6931\n",
      "Epoch 4/50\n",
      "21/21 [==============================] - 7s 355ms/step - loss: 1.5639 - val_loss: 1.4343\n",
      "Epoch 5/50\n",
      "21/21 [==============================] - 7s 345ms/step - loss: 1.3408 - val_loss: 1.2464\n",
      "Epoch 6/50\n",
      "21/21 [==============================] - 7s 334ms/step - loss: 1.1786 - val_loss: 1.1092\n",
      "Epoch 7/50\n",
      "21/21 [==============================] - 7s 343ms/step - loss: 1.0587 - val_loss: 1.0081\n",
      "Epoch 8/50\n",
      "21/21 [==============================] - 7s 337ms/step - loss: 0.9720 - val_loss: 0.9347\n",
      "Epoch 9/50\n",
      "21/21 [==============================] - 7s 336ms/step - loss: 0.9083 - val_loss: 0.8806\n",
      "Epoch 10/50\n",
      "21/21 [==============================] - 7s 334ms/step - loss: 0.8617 - val_loss: 0.8402\n",
      "Epoch 11/50\n",
      "21/21 [==============================] - 7s 357ms/step - loss: 0.8258 - val_loss: 0.8090\n",
      "Epoch 12/50\n",
      "21/21 [==============================] - 7s 349ms/step - loss: 0.7983 - val_loss: 0.7850\n",
      "Epoch 13/50\n",
      "21/21 [==============================] - 7s 345ms/step - loss: 0.7769 - val_loss: 0.7664\n",
      "Epoch 14/50\n",
      "21/21 [==============================] - 7s 338ms/step - loss: 0.7606 - val_loss: 0.7520\n",
      "Epoch 15/50\n",
      "21/21 [==============================] - 7s 335ms/step - loss: 0.7476 - val_loss: 0.7405\n",
      "Epoch 16/50\n",
      "21/21 [==============================] - 7s 340ms/step - loss: 0.7372 - val_loss: 0.7313\n",
      "Epoch 17/50\n",
      "21/21 [==============================] - 7s 337ms/step - loss: 0.7290 - val_loss: 0.7239\n",
      "Epoch 18/50\n",
      "21/21 [==============================] - 7s 336ms/step - loss: 0.7224 - val_loss: 0.7179\n",
      "Epoch 19/50\n",
      "21/21 [==============================] - 7s 334ms/step - loss: 0.7170 - val_loss: 0.7131\n",
      "Epoch 20/50\n",
      "21/21 [==============================] - 7s 348ms/step - loss: 0.7128 - val_loss: 0.7091\n",
      "Epoch 21/50\n",
      "21/21 [==============================] - 7s 346ms/step - loss: 0.7088 - val_loss: 0.7057\n",
      "Epoch 22/50\n",
      "21/21 [==============================] - 7s 361ms/step - loss: 0.7058 - val_loss: 0.7029\n",
      "Epoch 23/50\n",
      "21/21 [==============================] - 7s 355ms/step - loss: 0.7033 - val_loss: 0.7006\n",
      "Epoch 24/50\n",
      "21/21 [==============================] - 7s 352ms/step - loss: 0.7010 - val_loss: 0.6988\n",
      "Epoch 25/50\n",
      "21/21 [==============================] - 7s 358ms/step - loss: 0.6996 - val_loss: 0.6972\n",
      "Epoch 26/50\n",
      "21/21 [==============================] - 8s 362ms/step - loss: 0.6981 - val_loss: 0.6958\n",
      "Epoch 27/50\n",
      "21/21 [==============================] - 7s 335ms/step - loss: 0.6967 - val_loss: 0.6946\n",
      "Epoch 28/50\n",
      "21/21 [==============================] - 7s 335ms/step - loss: 0.6956 - val_loss: 0.6936\n",
      "Epoch 29/50\n",
      "21/21 [==============================] - 7s 334ms/step - loss: 0.6947 - val_loss: 0.6928\n",
      "Epoch 30/50\n",
      "21/21 [==============================] - 7s 340ms/step - loss: 0.6941 - val_loss: 0.6921\n",
      "Epoch 31/50\n",
      "21/21 [==============================] - 7s 337ms/step - loss: 0.6932 - val_loss: 0.6915\n",
      "Epoch 32/50\n",
      "21/21 [==============================] - 7s 346ms/step - loss: 0.6928 - val_loss: 0.6910\n",
      "Epoch 33/50\n",
      "21/21 [==============================] - 7s 341ms/step - loss: 0.6922 - val_loss: 0.6905\n",
      "Epoch 34/50\n",
      "21/21 [==============================] - 7s 339ms/step - loss: 0.6919 - val_loss: 0.6901\n",
      "Epoch 35/50\n",
      "21/21 [==============================] - 7s 357ms/step - loss: 0.6913 - val_loss: 0.6898\n",
      "Epoch 36/50\n",
      "21/21 [==============================] - 8s 363ms/step - loss: 0.6911 - val_loss: 0.6895\n",
      "Epoch 37/50\n",
      "21/21 [==============================] - 8s 361ms/step - loss: 0.6910 - val_loss: 0.6892\n",
      "Epoch 38/50\n",
      "21/21 [==============================] - 7s 355ms/step - loss: 0.6906 - val_loss: 0.6890\n",
      "Epoch 39/50\n",
      "21/21 [==============================] - 7s 342ms/step - loss: 0.6904 - val_loss: 0.6888\n",
      "Epoch 40/50\n",
      "21/21 [==============================] - 7s 338ms/step - loss: 0.6902 - val_loss: 0.6886\n",
      "Epoch 41/50\n",
      "21/21 [==============================] - 7s 337ms/step - loss: 0.6901 - val_loss: 0.6885\n",
      "Epoch 42/50\n",
      "21/21 [==============================] - 7s 334ms/step - loss: 0.6899 - val_loss: 0.6883\n",
      "Epoch 43/50\n",
      "21/21 [==============================] - 7s 337ms/step - loss: 0.6899 - val_loss: 0.6882\n",
      "Epoch 44/50\n",
      "21/21 [==============================] - 8s 371ms/step - loss: 0.6897 - val_loss: 0.6881\n",
      "Epoch 45/50\n",
      "21/21 [==============================] - 8s 361ms/step - loss: 0.6896 - val_loss: 0.6880\n",
      "Epoch 46/50\n",
      "21/21 [==============================] - 7s 351ms/step - loss: 0.6895 - val_loss: 0.6879\n",
      "Epoch 47/50\n",
      "21/21 [==============================] - 7s 355ms/step - loss: 0.6894 - val_loss: 0.6878\n",
      "Epoch 48/50\n",
      "21/21 [==============================] - 8s 359ms/step - loss: 0.6893 - val_loss: 0.6878\n",
      "Epoch 49/50\n",
      "21/21 [==============================] - 7s 355ms/step - loss: 0.6892 - val_loss: 0.6877\n",
      "Epoch 50/50\n",
      "21/21 [==============================] - 7s 348ms/step - loss: 0.6892 - val_loss: 0.6877\n"
     ]
    }
   ],
   "source": [
    "# model\n",
    "model = Sequential()\n",
    "\n",
    "# h1\n",
    "model.add(Dense(4096, activation='relu', input_shape=(5166,), kernel_regularizer=l2(.001)))\n",
    "model.add(Dropout(.8))\n",
    "\n",
    "# h2\n",
    "model.add(Dense(1024, activation='relu', kernel_regularizer=l2(.001)))\n",
    "model.add(Dropout(.8))\n",
    "\n",
    "# h3\n",
    "model.add(Dense(256, activation='relu', kernel_regularizer=l2(.001)))\n",
    "model.add(Dropout(.8))\n",
    "\n",
    "# h4\n",
    "model.add(Dense(64, activation='relu', kernel_regularizer=l2(.001)))\n",
    "model.add(Dropout(.8))\n",
    "\n",
    "# h5\n",
    "model.add(Dense(16, activation='relu', kernel_regularizer=l2(.001)))\n",
    "model.add(Dropout(.8))\n",
    "\n",
    "# output\n",
    "model.add(Dense(1, activation='sigmoid'))\n",
    "early_stop = EarlyStopping(patience=5)\n",
    "\n",
    "# Compile it\n",
    "model.compile(loss='binary_crossentropy', optimizer='adam')\n",
    "\n",
    "# Fit it\n",
    "results = model.fit(X_train, y_train,\n",
    "                    batch_size=512,\n",
    "                    epochs=50,\n",
    "                    validation_data=(X_test, y_test),\n",
    "                    callbacks=[early_stop],\n",
    "                    verbose=1) # <- printing"
   ]
  },
  {
   "cell_type": "code",
   "execution_count": 140,
   "id": "e05304e7",
   "metadata": {},
   "outputs": [],
   "source": [
    "preds_es_rg = model.predict(X_test)"
   ]
  },
  {
   "cell_type": "code",
   "execution_count": 141,
   "id": "f168df24",
   "metadata": {},
   "outputs": [],
   "source": [
    "# Visualize loss\n",
    "train_es_rg = results.history['loss']\n",
    "test_es_rg = results.history['val_loss']"
   ]
  },
  {
   "cell_type": "code",
   "execution_count": 142,
   "id": "04808e11",
   "metadata": {},
   "outputs": [
    {
     "data": {
      "image/png": "[encoded data removed]",
      "text/plain": [
       "<Figure size 864x576 with 1 Axes>"
      ]
     },
     "metadata": {
      "needs_background": "light"
     },
     "output_type": "display_data"
    }
   ],
   "source": [
    "plt.figure(figsize=(12, 8))\n",
    "\n",
    "plt.plot(train_es_rg, label='ES Training loss', color='Red')\n",
    "plt.plot(test_es_rg, label='ES Testing loss', color='green')\n",
    "\n",
    "plt.legend();\n",
    "\n",
    "plt.savefig('./images/nn_es_rg.png', bbox_inches='tight')"
   ]
  },
  {
   "cell_type": "code",
   "execution_count": null,
   "id": "5d01c41a",
   "metadata": {},
   "outputs": [],
   "source": []
  }
 ],
 "metadata": {
  "kernelspec": {
   "display_name": "Python 3",
   "language": "python",
   "name": "python3"
  },
  "language_info": {
   "codemirror_mode": {
    "name": "ipython",
    "version": 3
   },
   "file_extension": ".py",
   "mimetype": "text/x-python",
   "name": "python",
   "nbconvert_exporter": "python",
   "pygments_lexer": "ipython3",
   "version": "3.8.8"
  }
 },
 "nbformat": 4,
 "nbformat_minor": 5
}
