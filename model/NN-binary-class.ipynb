{
 "cells": [
  {
   "cell_type": "code",
   "execution_count": 2,
   "id": "59927578",
   "metadata": {},
   "outputs": [],
   "source": [
    "import pandas as pd\n",
    "import numpy as np\n",
    "import matplotlib.pyplot as plt\n",
    "\n",
    "from sklearn.model_selection import train_test_split\n",
    "from sklearn.metrics import r2_score\n",
    "\n",
    "from tensorflow.keras.models import Sequential, Model\n",
    "from tensorflow.keras.layers import Dense, Dropout, Input\n",
    "from tensorflow.keras import regularizers\n",
    "from tensorflow.keras.regularizers import l2\n",
    "from tensorflow.keras.callbacks import EarlyStopping"
   ]
  },
  {
   "cell_type": "code",
   "execution_count": 3,
   "id": "8da97fc7",
   "metadata": {},
   "outputs": [
    {
     "ename": "FileNotFoundError",
     "evalue": "[Errno 2] No such file or directory: './dataset/cleaned.csv'",
     "output_type": "error",
     "traceback": [
      "\u001b[1;31m---------------------------------------------------------------------------\u001b[0m",
      "\u001b[1;31mFileNotFoundError\u001b[0m                         Traceback (most recent call last)",
      "\u001b[1;32m<ipython-input-3-de8e60eaa2b6>\u001b[0m in \u001b[0;36m<module>\u001b[1;34m\u001b[0m\n\u001b[1;32m----> 1\u001b[1;33m \u001b[0mdf\u001b[0m \u001b[1;33m=\u001b[0m \u001b[0mpd\u001b[0m\u001b[1;33m.\u001b[0m\u001b[0mread_csv\u001b[0m\u001b[1;33m(\u001b[0m\u001b[1;34m'./dataset/cleaned.csv'\u001b[0m\u001b[1;33m)\u001b[0m\u001b[1;33m\u001b[0m\u001b[1;33m\u001b[0m\u001b[0m\n\u001b[0m",
      "\u001b[1;32m~\\anaconda3\\lib\\site-packages\\pandas\\io\\parsers.py\u001b[0m in \u001b[0;36mread_csv\u001b[1;34m(filepath_or_buffer, sep, delimiter, header, names, index_col, usecols, squeeze, prefix, mangle_dupe_cols, dtype, engine, converters, true_values, false_values, skipinitialspace, skiprows, skipfooter, nrows, na_values, keep_default_na, na_filter, verbose, skip_blank_lines, parse_dates, infer_datetime_format, keep_date_col, date_parser, dayfirst, cache_dates, iterator, chunksize, compression, thousands, decimal, lineterminator, quotechar, quoting, doublequote, escapechar, comment, encoding, dialect, error_bad_lines, warn_bad_lines, delim_whitespace, low_memory, memory_map, float_precision, storage_options)\u001b[0m\n\u001b[0;32m    608\u001b[0m     \u001b[0mkwds\u001b[0m\u001b[1;33m.\u001b[0m\u001b[0mupdate\u001b[0m\u001b[1;33m(\u001b[0m\u001b[0mkwds_defaults\u001b[0m\u001b[1;33m)\u001b[0m\u001b[1;33m\u001b[0m\u001b[1;33m\u001b[0m\u001b[0m\n\u001b[0;32m    609\u001b[0m \u001b[1;33m\u001b[0m\u001b[0m\n\u001b[1;32m--> 610\u001b[1;33m     \u001b[1;32mreturn\u001b[0m \u001b[0m_read\u001b[0m\u001b[1;33m(\u001b[0m\u001b[0mfilepath_or_buffer\u001b[0m\u001b[1;33m,\u001b[0m \u001b[0mkwds\u001b[0m\u001b[1;33m)\u001b[0m\u001b[1;33m\u001b[0m\u001b[1;33m\u001b[0m\u001b[0m\n\u001b[0m\u001b[0;32m    611\u001b[0m \u001b[1;33m\u001b[0m\u001b[0m\n\u001b[0;32m    612\u001b[0m \u001b[1;33m\u001b[0m\u001b[0m\n",
      "\u001b[1;32m~\\anaconda3\\lib\\site-packages\\pandas\\io\\parsers.py\u001b[0m in \u001b[0;36m_read\u001b[1;34m(filepath_or_buffer, kwds)\u001b[0m\n\u001b[0;32m    460\u001b[0m \u001b[1;33m\u001b[0m\u001b[0m\n\u001b[0;32m    461\u001b[0m     \u001b[1;31m# Create the parser.\u001b[0m\u001b[1;33m\u001b[0m\u001b[1;33m\u001b[0m\u001b[1;33m\u001b[0m\u001b[0m\n\u001b[1;32m--> 462\u001b[1;33m     \u001b[0mparser\u001b[0m \u001b[1;33m=\u001b[0m \u001b[0mTextFileReader\u001b[0m\u001b[1;33m(\u001b[0m\u001b[0mfilepath_or_buffer\u001b[0m\u001b[1;33m,\u001b[0m \u001b[1;33m**\u001b[0m\u001b[0mkwds\u001b[0m\u001b[1;33m)\u001b[0m\u001b[1;33m\u001b[0m\u001b[1;33m\u001b[0m\u001b[0m\n\u001b[0m\u001b[0;32m    463\u001b[0m \u001b[1;33m\u001b[0m\u001b[0m\n\u001b[0;32m    464\u001b[0m     \u001b[1;32mif\u001b[0m \u001b[0mchunksize\u001b[0m \u001b[1;32mor\u001b[0m \u001b[0miterator\u001b[0m\u001b[1;33m:\u001b[0m\u001b[1;33m\u001b[0m\u001b[1;33m\u001b[0m\u001b[0m\n",
      "\u001b[1;32m~\\anaconda3\\lib\\site-packages\\pandas\\io\\parsers.py\u001b[0m in \u001b[0;36m__init__\u001b[1;34m(self, f, engine, **kwds)\u001b[0m\n\u001b[0;32m    817\u001b[0m             \u001b[0mself\u001b[0m\u001b[1;33m.\u001b[0m\u001b[0moptions\u001b[0m\u001b[1;33m[\u001b[0m\u001b[1;34m\"has_index_names\"\u001b[0m\u001b[1;33m]\u001b[0m \u001b[1;33m=\u001b[0m \u001b[0mkwds\u001b[0m\u001b[1;33m[\u001b[0m\u001b[1;34m\"has_index_names\"\u001b[0m\u001b[1;33m]\u001b[0m\u001b[1;33m\u001b[0m\u001b[1;33m\u001b[0m\u001b[0m\n\u001b[0;32m    818\u001b[0m \u001b[1;33m\u001b[0m\u001b[0m\n\u001b[1;32m--> 819\u001b[1;33m         \u001b[0mself\u001b[0m\u001b[1;33m.\u001b[0m\u001b[0m_engine\u001b[0m \u001b[1;33m=\u001b[0m \u001b[0mself\u001b[0m\u001b[1;33m.\u001b[0m\u001b[0m_make_engine\u001b[0m\u001b[1;33m(\u001b[0m\u001b[0mself\u001b[0m\u001b[1;33m.\u001b[0m\u001b[0mengine\u001b[0m\u001b[1;33m)\u001b[0m\u001b[1;33m\u001b[0m\u001b[1;33m\u001b[0m\u001b[0m\n\u001b[0m\u001b[0;32m    820\u001b[0m \u001b[1;33m\u001b[0m\u001b[0m\n\u001b[0;32m    821\u001b[0m     \u001b[1;32mdef\u001b[0m \u001b[0mclose\u001b[0m\u001b[1;33m(\u001b[0m\u001b[0mself\u001b[0m\u001b[1;33m)\u001b[0m\u001b[1;33m:\u001b[0m\u001b[1;33m\u001b[0m\u001b[1;33m\u001b[0m\u001b[0m\n",
      "\u001b[1;32m~\\anaconda3\\lib\\site-packages\\pandas\\io\\parsers.py\u001b[0m in \u001b[0;36m_make_engine\u001b[1;34m(self, engine)\u001b[0m\n\u001b[0;32m   1048\u001b[0m             )\n\u001b[0;32m   1049\u001b[0m         \u001b[1;31m# error: Too many arguments for \"ParserBase\"\u001b[0m\u001b[1;33m\u001b[0m\u001b[1;33m\u001b[0m\u001b[1;33m\u001b[0m\u001b[0m\n\u001b[1;32m-> 1050\u001b[1;33m         \u001b[1;32mreturn\u001b[0m \u001b[0mmapping\u001b[0m\u001b[1;33m[\u001b[0m\u001b[0mengine\u001b[0m\u001b[1;33m]\u001b[0m\u001b[1;33m(\u001b[0m\u001b[0mself\u001b[0m\u001b[1;33m.\u001b[0m\u001b[0mf\u001b[0m\u001b[1;33m,\u001b[0m \u001b[1;33m**\u001b[0m\u001b[0mself\u001b[0m\u001b[1;33m.\u001b[0m\u001b[0moptions\u001b[0m\u001b[1;33m)\u001b[0m  \u001b[1;31m# type: ignore[call-arg]\u001b[0m\u001b[1;33m\u001b[0m\u001b[1;33m\u001b[0m\u001b[0m\n\u001b[0m\u001b[0;32m   1051\u001b[0m \u001b[1;33m\u001b[0m\u001b[0m\n\u001b[0;32m   1052\u001b[0m     \u001b[1;32mdef\u001b[0m \u001b[0m_failover_to_python\u001b[0m\u001b[1;33m(\u001b[0m\u001b[0mself\u001b[0m\u001b[1;33m)\u001b[0m\u001b[1;33m:\u001b[0m\u001b[1;33m\u001b[0m\u001b[1;33m\u001b[0m\u001b[0m\n",
      "\u001b[1;32m~\\anaconda3\\lib\\site-packages\\pandas\\io\\parsers.py\u001b[0m in \u001b[0;36m__init__\u001b[1;34m(self, src, **kwds)\u001b[0m\n\u001b[0;32m   1865\u001b[0m \u001b[1;33m\u001b[0m\u001b[0m\n\u001b[0;32m   1866\u001b[0m         \u001b[1;31m# open handles\u001b[0m\u001b[1;33m\u001b[0m\u001b[1;33m\u001b[0m\u001b[1;33m\u001b[0m\u001b[0m\n\u001b[1;32m-> 1867\u001b[1;33m         \u001b[0mself\u001b[0m\u001b[1;33m.\u001b[0m\u001b[0m_open_handles\u001b[0m\u001b[1;33m(\u001b[0m\u001b[0msrc\u001b[0m\u001b[1;33m,\u001b[0m \u001b[0mkwds\u001b[0m\u001b[1;33m)\u001b[0m\u001b[1;33m\u001b[0m\u001b[1;33m\u001b[0m\u001b[0m\n\u001b[0m\u001b[0;32m   1868\u001b[0m         \u001b[1;32massert\u001b[0m \u001b[0mself\u001b[0m\u001b[1;33m.\u001b[0m\u001b[0mhandles\u001b[0m \u001b[1;32mis\u001b[0m \u001b[1;32mnot\u001b[0m \u001b[1;32mNone\u001b[0m\u001b[1;33m\u001b[0m\u001b[1;33m\u001b[0m\u001b[0m\n\u001b[0;32m   1869\u001b[0m         \u001b[1;32mfor\u001b[0m \u001b[0mkey\u001b[0m \u001b[1;32min\u001b[0m \u001b[1;33m(\u001b[0m\u001b[1;34m\"storage_options\"\u001b[0m\u001b[1;33m,\u001b[0m \u001b[1;34m\"encoding\"\u001b[0m\u001b[1;33m,\u001b[0m \u001b[1;34m\"memory_map\"\u001b[0m\u001b[1;33m,\u001b[0m \u001b[1;34m\"compression\"\u001b[0m\u001b[1;33m)\u001b[0m\u001b[1;33m:\u001b[0m\u001b[1;33m\u001b[0m\u001b[1;33m\u001b[0m\u001b[0m\n",
      "\u001b[1;32m~\\anaconda3\\lib\\site-packages\\pandas\\io\\parsers.py\u001b[0m in \u001b[0;36m_open_handles\u001b[1;34m(self, src, kwds)\u001b[0m\n\u001b[0;32m   1360\u001b[0m         \u001b[0mLet\u001b[0m \u001b[0mthe\u001b[0m \u001b[0mreaders\u001b[0m \u001b[0mopen\u001b[0m \u001b[0mIOHanldes\u001b[0m \u001b[0mafter\u001b[0m \u001b[0mthey\u001b[0m \u001b[0mare\u001b[0m \u001b[0mdone\u001b[0m \u001b[1;32mwith\u001b[0m \u001b[0mtheir\u001b[0m \u001b[0mpotential\u001b[0m \u001b[0mraises\u001b[0m\u001b[1;33m.\u001b[0m\u001b[1;33m\u001b[0m\u001b[1;33m\u001b[0m\u001b[0m\n\u001b[0;32m   1361\u001b[0m         \"\"\"\n\u001b[1;32m-> 1362\u001b[1;33m         self.handles = get_handle(\n\u001b[0m\u001b[0;32m   1363\u001b[0m             \u001b[0msrc\u001b[0m\u001b[1;33m,\u001b[0m\u001b[1;33m\u001b[0m\u001b[1;33m\u001b[0m\u001b[0m\n\u001b[0;32m   1364\u001b[0m             \u001b[1;34m\"r\"\u001b[0m\u001b[1;33m,\u001b[0m\u001b[1;33m\u001b[0m\u001b[1;33m\u001b[0m\u001b[0m\n",
      "\u001b[1;32m~\\anaconda3\\lib\\site-packages\\pandas\\io\\common.py\u001b[0m in \u001b[0;36mget_handle\u001b[1;34m(path_or_buf, mode, encoding, compression, memory_map, is_text, errors, storage_options)\u001b[0m\n\u001b[0;32m    640\u001b[0m                 \u001b[0merrors\u001b[0m \u001b[1;33m=\u001b[0m \u001b[1;34m\"replace\"\u001b[0m\u001b[1;33m\u001b[0m\u001b[1;33m\u001b[0m\u001b[0m\n\u001b[0;32m    641\u001b[0m             \u001b[1;31m# Encoding\u001b[0m\u001b[1;33m\u001b[0m\u001b[1;33m\u001b[0m\u001b[1;33m\u001b[0m\u001b[0m\n\u001b[1;32m--> 642\u001b[1;33m             handle = open(\n\u001b[0m\u001b[0;32m    643\u001b[0m                 \u001b[0mhandle\u001b[0m\u001b[1;33m,\u001b[0m\u001b[1;33m\u001b[0m\u001b[1;33m\u001b[0m\u001b[0m\n\u001b[0;32m    644\u001b[0m                 \u001b[0mioargs\u001b[0m\u001b[1;33m.\u001b[0m\u001b[0mmode\u001b[0m\u001b[1;33m,\u001b[0m\u001b[1;33m\u001b[0m\u001b[1;33m\u001b[0m\u001b[0m\n",
      "\u001b[1;31mFileNotFoundError\u001b[0m: [Errno 2] No such file or directory: './dataset/cleaned.csv'"
     ]
    }
   ],
   "source": [
    "df = pd.read_csv('./dataset/cleaned.csv')"
   ]
  },
  {
   "cell_type": "code",
   "execution_count": 3,
   "id": "2d99839f",
   "metadata": {},
   "outputs": [],
   "source": [
    "df_dummies = df.filter(['city', 'state', 'event_type', 'flight_condition','flight_operation', 'sightseeing', 'second_pilot'], axis=1)"
   ]
  },
  {
   "cell_type": "code",
   "execution_count": 4,
   "id": "4e7890f2",
   "metadata": {},
   "outputs": [],
   "source": [
    "# One-hot encode 'city', 'state', 'event_type', 'flight_condition','flight_operation', 'sightseeing', 'second_pilot'\n",
    "\n",
    "df_dummies = pd.get_dummies(df_dummies, columns=['city', 'state', 'event_type', 'flight_condition','flight_operation', 'sightseeing', 'second_pilot'], drop_first=True)"
   ]
  },
  {
   "cell_type": "code",
   "execution_count": 5,
   "id": "6d2a58be",
   "metadata": {
    "scrolled": true
   },
   "outputs": [
    {
     "data": {
      "text/html": [
       "<div>\n",
       "<style scoped>\n",
       "    .dataframe tbody tr th:only-of-type {\n",
       "        vertical-align: middle;\n",
       "    }\n",
       "\n",
       "    .dataframe tbody tr th {\n",
       "        vertical-align: top;\n",
       "    }\n",
       "\n",
       "    .dataframe thead th {\n",
       "        text-align: right;\n",
       "    }\n",
       "</style>\n",
       "<table border=\"1\" class=\"dataframe\">\n",
       "  <thead>\n",
       "    <tr style=\"text-align: right;\">\n",
       "      <th></th>\n",
       "      <th>city_AGUA DULCE</th>\n",
       "      <th>city_ALBUQUERQUE</th>\n",
       "      <th>city_ANAHUAC</th>\n",
       "      <th>city_ANDOVER</th>\n",
       "      <th>city_ANGLETON</th>\n",
       "      <th>city_ANOKA</th>\n",
       "      <th>city_ARCADIA</th>\n",
       "      <th>city_ARECIBO</th>\n",
       "      <th>city_ARGYLE</th>\n",
       "      <th>city_ATLANTA</th>\n",
       "      <th>...</th>\n",
       "      <th>flight_operation_PERS</th>\n",
       "      <th>flight_operation_POSI</th>\n",
       "      <th>flight_operation_PUBF</th>\n",
       "      <th>flight_operation_PUBL</th>\n",
       "      <th>flight_operation_PUBS</th>\n",
       "      <th>flight_operation_PUBU</th>\n",
       "      <th>flight_operation_SKYD</th>\n",
       "      <th>flight_operation_UNK</th>\n",
       "      <th>sightseeing_True</th>\n",
       "      <th>second_pilot_True</th>\n",
       "    </tr>\n",
       "  </thead>\n",
       "  <tbody>\n",
       "    <tr>\n",
       "      <th>0</th>\n",
       "      <td>0</td>\n",
       "      <td>0</td>\n",
       "      <td>0</td>\n",
       "      <td>0</td>\n",
       "      <td>0</td>\n",
       "      <td>0</td>\n",
       "      <td>0</td>\n",
       "      <td>0</td>\n",
       "      <td>0</td>\n",
       "      <td>0</td>\n",
       "      <td>...</td>\n",
       "      <td>1</td>\n",
       "      <td>0</td>\n",
       "      <td>0</td>\n",
       "      <td>0</td>\n",
       "      <td>0</td>\n",
       "      <td>0</td>\n",
       "      <td>0</td>\n",
       "      <td>0</td>\n",
       "      <td>0</td>\n",
       "      <td>0</td>\n",
       "    </tr>\n",
       "  </tbody>\n",
       "</table>\n",
       "<p>1 rows × 5166 columns</p>\n",
       "</div>"
      ],
      "text/plain": [
       "   city_AGUA DULCE  city_ALBUQUERQUE  city_ANAHUAC  city_ANDOVER  \\\n",
       "0                0                 0             0             0   \n",
       "\n",
       "   city_ANGLETON  city_ANOKA  city_ARCADIA  city_ARECIBO  city_ARGYLE  \\\n",
       "0              0           0             0             0            0   \n",
       "\n",
       "   city_ATLANTA  ...  flight_operation_PERS  flight_operation_POSI  \\\n",
       "0             0  ...                      1                      0   \n",
       "\n",
       "   flight_operation_PUBF  flight_operation_PUBL  flight_operation_PUBS  \\\n",
       "0                      0                      0                      0   \n",
       "\n",
       "   flight_operation_PUBU  flight_operation_SKYD  flight_operation_UNK  \\\n",
       "0                      0                      0                     0   \n",
       "\n",
       "   sightseeing_True  second_pilot_True  \n",
       "0                 0                  0  \n",
       "\n",
       "[1 rows x 5166 columns]"
      ]
     },
     "execution_count": 5,
     "metadata": {},
     "output_type": "execute_result"
    }
   ],
   "source": [
    "df_dummies.head(1)"
   ]
  },
  {
   "cell_type": "code",
   "execution_count": 6,
   "id": "12af7617",
   "metadata": {
    "scrolled": false
   },
   "outputs": [
    {
     "name": "stderr",
     "output_type": "stream",
     "text": [
      "<ipython-input-6-4febe336a289>:5: SettingWithCopyWarning: \n",
      "A value is trying to be set on a copy of a slice from a DataFrame\n",
      "\n",
      "See the caveats in the documentation: https://pandas.pydata.org/pandas-docs/stable/user_guide/indexing.html#returning-a-view-versus-a-copy\n",
      "  df['deaths_and_injuries'][i] = 1\n"
     ]
    }
   ],
   "source": [
    "# making death and injuries as either 1 or 0\n",
    "\n",
    "for i in range(len(df['deaths_and_injuries'])):\n",
    "    if df['deaths_and_injuries'][i] > 0:\n",
    "        df['deaths_and_injuries'][i] = 1"
   ]
  },
  {
   "cell_type": "code",
   "execution_count": 7,
   "id": "05565b34",
   "metadata": {},
   "outputs": [
    {
     "data": {
      "text/plain": [
       "0        0.0\n",
       "1        0.0\n",
       "2        1.0\n",
       "3        1.0\n",
       "4        0.0\n",
       "        ... \n",
       "14317    0.0\n",
       "14318    1.0\n",
       "14319    1.0\n",
       "14320    0.0\n",
       "14321    1.0\n",
       "Name: deaths_and_injuries, Length: 14322, dtype: float64"
      ]
     },
     "execution_count": 7,
     "metadata": {},
     "output_type": "execute_result"
    }
   ],
   "source": [
    "df['deaths_and_injuries']"
   ]
  },
  {
   "cell_type": "code",
   "execution_count": 8,
   "id": "e0acc9f6",
   "metadata": {},
   "outputs": [],
   "source": [
    "X = df_dummies.values\n",
    "y = df['deaths_and_injuries'].astype(int).values\n",
    "\n",
    "X_train, X_test, y_train, y_test = train_test_split(X, y, random_state=42)"
   ]
  },
  {
   "cell_type": "code",
   "execution_count": 9,
   "id": "a99ad578",
   "metadata": {},
   "outputs": [
    {
     "data": {
      "text/plain": [
       "(5166,)"
      ]
     },
     "execution_count": 9,
     "metadata": {},
     "output_type": "execute_result"
    }
   ],
   "source": [
    "X_train[0].shape"
   ]
  },
  {
   "cell_type": "markdown",
   "id": "1983af54",
   "metadata": {},
   "source": [
    "### Basic Model, 10 layers"
   ]
  },
  {
   "cell_type": "code",
   "execution_count": 10,
   "id": "620bf9f3",
   "metadata": {},
   "outputs": [
    {
     "name": "stdout",
     "output_type": "stream",
     "text": [
      "Epoch 1/20\n",
      "42/42 [==============================] - 10s 230ms/step - loss: 0.6837 - acc: 0.5513 - val_loss: 0.6782 - val_acc: 0.5398\n",
      "Epoch 2/20\n",
      "42/42 [==============================] - 11s 268ms/step - loss: 0.6061 - acc: 0.6843 - val_loss: 0.7160 - val_acc: 0.5624\n",
      "Epoch 3/20\n",
      "42/42 [==============================] - 15s 367ms/step - loss: 0.4713 - acc: 0.7834 - val_loss: 0.7424 - val_acc: 0.5554\n",
      "Epoch 4/20\n",
      "42/42 [==============================] - 16s 380ms/step - loss: 0.3678 - acc: 0.8247 - val_loss: 0.9593 - val_acc: 0.5605\n",
      "Epoch 5/20\n",
      "42/42 [==============================] - 15s 366ms/step - loss: 0.3020 - acc: 0.8507 - val_loss: 1.1214 - val_acc: 0.5512\n",
      "Epoch 6/20\n",
      "42/42 [==============================] - 15s 354ms/step - loss: 0.2668 - acc: 0.8527 - val_loss: 1.3081 - val_acc: 0.5599\n",
      "Epoch 7/20\n",
      "42/42 [==============================] - 15s 368ms/step - loss: 0.2401 - acc: 0.8618 - val_loss: 1.7059 - val_acc: 0.5619\n",
      "Epoch 8/20\n",
      "42/42 [==============================] - 15s 360ms/step - loss: 0.2260 - acc: 0.8704 - val_loss: 1.8089 - val_acc: 0.5591\n",
      "Epoch 9/20\n",
      "42/42 [==============================] - 15s 359ms/step - loss: 0.2215 - acc: 0.8722 - val_loss: 1.5641 - val_acc: 0.5677\n",
      "Epoch 10/20\n",
      "42/42 [==============================] - 15s 356ms/step - loss: 0.2169 - acc: 0.8738 - val_loss: 1.7281 - val_acc: 0.5652\n",
      "Epoch 11/20\n",
      "42/42 [==============================] - 15s 357ms/step - loss: 0.2124 - acc: 0.8748 - val_loss: 1.7987 - val_acc: 0.5613\n",
      "Epoch 12/20\n",
      "42/42 [==============================] - 15s 364ms/step - loss: 0.2172 - acc: 0.8797 - val_loss: 1.6908 - val_acc: 0.5535\n",
      "Epoch 13/20\n",
      "42/42 [==============================] - 15s 356ms/step - loss: 0.2149 - acc: 0.8755 - val_loss: 2.0442 - val_acc: 0.5557\n",
      "Epoch 14/20\n",
      "42/42 [==============================] - 15s 362ms/step - loss: 0.2121 - acc: 0.8776 - val_loss: 1.9265 - val_acc: 0.5512\n",
      "Epoch 15/20\n",
      "42/42 [==============================] - 15s 369ms/step - loss: 0.2059 - acc: 0.8810 - val_loss: 2.1177 - val_acc: 0.5605\n",
      "Epoch 16/20\n",
      "42/42 [==============================] - 15s 352ms/step - loss: 0.2035 - acc: 0.8833 - val_loss: 1.9091 - val_acc: 0.5672\n",
      "Epoch 17/20\n",
      "42/42 [==============================] - 15s 360ms/step - loss: 0.2003 - acc: 0.8806 - val_loss: 2.1514 - val_acc: 0.5560\n",
      "Epoch 18/20\n",
      "42/42 [==============================] - 15s 364ms/step - loss: 0.2047 - acc: 0.8816 - val_loss: 1.7075 - val_acc: 0.5591\n",
      "Epoch 19/20\n",
      "42/42 [==============================] - 15s 365ms/step - loss: 0.2021 - acc: 0.8800 - val_loss: 2.2015 - val_acc: 0.5669\n",
      "Epoch 20/20\n",
      "42/42 [==============================] - 15s 364ms/step - loss: 0.1991 - acc: 0.8806 - val_loss: 2.4085 - val_acc: 0.5641\n"
     ]
    }
   ],
   "source": [
    "# model\n",
    "model = Sequential()\n",
    "\n",
    "# h1\n",
    "model.add(Dense(4096, activation='relu', input_shape=(5166,)))\n",
    "\n",
    "# h2\n",
    "model.add(Dense(2048, activation='relu'))\n",
    "\n",
    "# h3\n",
    "model.add(Dense(1024, activation='relu'))\n",
    "\n",
    "# h4\n",
    "model.add(Dense(512, activation='relu'))\n",
    "\n",
    "# h5\n",
    "model.add(Dense(256, activation='relu'))\n",
    "\n",
    "# h6\n",
    "model.add(Dense(128, activation='relu'))\n",
    "\n",
    "# h7\n",
    "model.add(Dense(64, activation='relu'))\n",
    "\n",
    "# h8\n",
    "model.add(Dense(32, activation='relu'))\n",
    "\n",
    "# h9\n",
    "model.add(Dense(16, activation='relu'))\n",
    "\n",
    "# h10\n",
    "model.add(Dense(8, activation='relu'))\n",
    "\n",
    "# output\n",
    "model.add(Dense(1, activation='sigmoid'))\n",
    "\n",
    "# Compile it\n",
    "model.compile(loss='binary_crossentropy', optimizer='adam', metrics='acc')\n",
    "\n",
    "# Fit it\n",
    "results = model.fit(X_train, y_train,\n",
    "                    batch_size=256,\n",
    "                    epochs=20,\n",
    "                    validation_data=(X_test, y_test),\n",
    "                    verbose=1) # <- printing"
   ]
  },
  {
   "cell_type": "code",
   "execution_count": 11,
   "id": "1fedc94c",
   "metadata": {},
   "outputs": [],
   "source": [
    "preds_loss_10 = model.predict(X_test)"
   ]
  },
  {
   "cell_type": "code",
   "execution_count": 12,
   "id": "6643d8e1",
   "metadata": {},
   "outputs": [],
   "source": [
    "# Visualize the loss\n",
    "train_loss_10 = results.history['loss']\n",
    "test_loss_10 = results.history['val_loss']"
   ]
  },
  {
   "cell_type": "code",
   "execution_count": 1,
   "id": "79c0a5a9",
   "metadata": {},
   "outputs": [
    {
     "ename": "NameError",
     "evalue": "name 'plt' is not defined",
     "output_type": "error",
     "traceback": [
      "\u001b[1;31m---------------------------------------------------------------------------\u001b[0m",
      "\u001b[1;31mNameError\u001b[0m                                 Traceback (most recent call last)",
      "\u001b[1;32m<ipython-input-1-898e0f27e60e>\u001b[0m in \u001b[0;36m<module>\u001b[1;34m\u001b[0m\n\u001b[1;32m----> 1\u001b[1;33m \u001b[0mplt\u001b[0m\u001b[1;33m.\u001b[0m\u001b[0mfigure\u001b[0m\u001b[1;33m(\u001b[0m\u001b[0mfigsize\u001b[0m\u001b[1;33m=\u001b[0m\u001b[1;33m(\u001b[0m\u001b[1;36m12\u001b[0m\u001b[1;33m,\u001b[0m \u001b[1;36m8\u001b[0m\u001b[1;33m)\u001b[0m\u001b[1;33m)\u001b[0m\u001b[1;33m\u001b[0m\u001b[1;33m\u001b[0m\u001b[0m\n\u001b[0m\u001b[0;32m      2\u001b[0m \u001b[0mplt\u001b[0m\u001b[1;33m.\u001b[0m\u001b[0mplot\u001b[0m\u001b[1;33m(\u001b[0m\u001b[0mtrain_loss_10\u001b[0m\u001b[1;33m,\u001b[0m \u001b[0mlabel\u001b[0m\u001b[1;33m=\u001b[0m\u001b[1;34m'Training loss'\u001b[0m\u001b[1;33m,\u001b[0m \u001b[0mcolor\u001b[0m\u001b[1;33m=\u001b[0m\u001b[1;34m'navy'\u001b[0m\u001b[1;33m)\u001b[0m\u001b[1;33m\u001b[0m\u001b[1;33m\u001b[0m\u001b[0m\n\u001b[0;32m      3\u001b[0m \u001b[0mplt\u001b[0m\u001b[1;33m.\u001b[0m\u001b[0mplot\u001b[0m\u001b[1;33m(\u001b[0m\u001b[0mtest_loss_10\u001b[0m\u001b[1;33m,\u001b[0m \u001b[0mlabel\u001b[0m\u001b[1;33m=\u001b[0m\u001b[1;34m'Testing loss'\u001b[0m\u001b[1;33m,\u001b[0m \u001b[0mcolor\u001b[0m\u001b[1;33m=\u001b[0m\u001b[1;34m'skyblue'\u001b[0m\u001b[1;33m)\u001b[0m\u001b[1;33m\u001b[0m\u001b[1;33m\u001b[0m\u001b[0m\n\u001b[0;32m      4\u001b[0m \u001b[0mplt\u001b[0m\u001b[1;33m.\u001b[0m\u001b[0mlegend\u001b[0m\u001b[1;33m(\u001b[0m\u001b[1;33m)\u001b[0m\u001b[1;33m;\u001b[0m\u001b[1;33m\u001b[0m\u001b[1;33m\u001b[0m\u001b[0m\n\u001b[0;32m      5\u001b[0m \u001b[1;33m\u001b[0m\u001b[0m\n",
      "\u001b[1;31mNameError\u001b[0m: name 'plt' is not defined"
     ]
    }
   ],
   "source": [
    "plt.figure(figsize=(12, 8))\n",
    "plt.plot(train_loss_10, label='Training loss', color='navy')\n",
    "plt.plot(test_loss_10, label='Testing loss', color='skyblue')\n",
    "plt.legend();\n",
    "\n",
    "plt.savefig('../images/nn_10.png', bbox_inches='tight')"
   ]
  },
  {
   "cell_type": "markdown",
   "id": "8be8fec7",
   "metadata": {},
   "source": [
    "### Basic Model, 5 layers A"
   ]
  },
  {
   "cell_type": "code",
   "execution_count": 14,
   "id": "073caad8",
   "metadata": {},
   "outputs": [
    {
     "name": "stdout",
     "output_type": "stream",
     "text": [
      "Epoch 1/20\n",
      "42/42 [==============================] - 17s 363ms/step - loss: 0.6783 - val_loss: 0.6646\n",
      "Epoch 2/20\n",
      "42/42 [==============================] - 15s 359ms/step - loss: 0.5792 - val_loss: 0.7058\n",
      "Epoch 3/20\n",
      "42/42 [==============================] - 15s 357ms/step - loss: 0.4352 - val_loss: 0.7802\n",
      "Epoch 4/20\n",
      "42/42 [==============================] - 15s 362ms/step - loss: 0.3434 - val_loss: 0.9713\n",
      "Epoch 5/20\n",
      "42/42 [==============================] - 15s 358ms/step - loss: 0.2885 - val_loss: 1.2392\n",
      "Epoch 6/20\n",
      "42/42 [==============================] - 15s 368ms/step - loss: 0.2560 - val_loss: 1.4822\n",
      "Epoch 7/20\n",
      "42/42 [==============================] - 16s 370ms/step - loss: 0.2355 - val_loss: 1.5600\n",
      "Epoch 8/20\n",
      "42/42 [==============================] - 15s 357ms/step - loss: 0.2300 - val_loss: 1.4855\n",
      "Epoch 9/20\n",
      "42/42 [==============================] - 15s 353ms/step - loss: 0.2199 - val_loss: 1.9857\n",
      "Epoch 10/20\n",
      "42/42 [==============================] - 15s 362ms/step - loss: 0.2156 - val_loss: 1.6184\n",
      "Epoch 11/20\n",
      "42/42 [==============================] - 15s 355ms/step - loss: 0.2086 - val_loss: 1.8701\n",
      "Epoch 12/20\n",
      "42/42 [==============================] - 15s 366ms/step - loss: 0.2087 - val_loss: 2.0233\n",
      "Epoch 13/20\n",
      "42/42 [==============================] - 15s 356ms/step - loss: 0.2103 - val_loss: 1.9468\n",
      "Epoch 14/20\n",
      "42/42 [==============================] - 15s 360ms/step - loss: 0.2083 - val_loss: 1.8879\n",
      "Epoch 15/20\n",
      "42/42 [==============================] - 16s 374ms/step - loss: 0.2065 - val_loss: 1.9856\n",
      "Epoch 16/20\n",
      "42/42 [==============================] - 15s 361ms/step - loss: 0.2018 - val_loss: 2.2779\n",
      "Epoch 17/20\n",
      "42/42 [==============================] - 15s 356ms/step - loss: 0.2002 - val_loss: 2.4525\n",
      "Epoch 18/20\n",
      "42/42 [==============================] - 15s 369ms/step - loss: 0.1992 - val_loss: 2.2487\n",
      "Epoch 19/20\n",
      "42/42 [==============================] - 13s 302ms/step - loss: 0.2013 - val_loss: 1.8733\n",
      "Epoch 20/20\n",
      "42/42 [==============================] - 15s 362ms/step - loss: 0.2029 - val_loss: 2.3262\n"
     ]
    }
   ],
   "source": [
    "# model\n",
    "model = Sequential()\n",
    "\n",
    "# h1\n",
    "model.add(Dense(4096, activation='relu', input_shape=(5166,)))\n",
    "\n",
    "# h2\n",
    "model.add(Dense(2048, activation='relu'))\n",
    "\n",
    "# h3\n",
    "model.add(Dense(1024, activation='relu'))\n",
    "\n",
    "# h4\n",
    "model.add(Dense(512, activation='relu'))\n",
    "\n",
    "# h5\n",
    "model.add(Dense(256, activation='relu'))\n",
    "\n",
    "# output\n",
    "model.add(Dense(1, activation='sigmoid'))\n",
    "\n",
    "# Compile it\n",
    "model.compile(loss='binary_crossentropy', optimizer='adam')\n",
    "\n",
    "# Fit it\n",
    "results = model.fit(X_train, y_train,\n",
    "                    batch_size=256,\n",
    "                    epochs=20,\n",
    "                    validation_data=(X_test, y_test),\n",
    "                    verbose=1) # <- printing"
   ]
  },
  {
   "cell_type": "code",
   "execution_count": 15,
   "id": "d8135982",
   "metadata": {},
   "outputs": [],
   "source": [
    "preds_loss_a = model.predict(X_test)"
   ]
  },
  {
   "cell_type": "code",
   "execution_count": 16,
   "id": "e882437c",
   "metadata": {},
   "outputs": [],
   "source": [
    "# Visualize the loss\n",
    "train_loss_a = results.history['loss']\n",
    "test_loss_a = results.history['val_loss']"
   ]
  },
  {
   "cell_type": "code",
   "execution_count": 17,
   "id": "15f2c416",
   "metadata": {},
   "outputs": [
    {
     "data": {
      "image/png": "[encoded data removed]",
      "text/plain": [
       "<Figure size 864x576 with 1 Axes>"
      ]
     },
     "metadata": {
      "needs_background": "light"
     },
     "output_type": "display_data"
    }
   ],
   "source": [
    "plt.figure(figsize=(12, 8))\n",
    "\n",
    "plt.plot(train_loss_a, label='Training Loss', color='green')\n",
    "plt.plot(test_loss_a, label='Testing Loss', color='purple')\n",
    "\n",
    "plt.legend();\n",
    "\n",
    "plt.savefig('../images/nn_a.png', bbox_inches='tight')"
   ]
  },
  {
   "cell_type": "markdown",
   "id": "4e501fc7",
   "metadata": {},
   "source": [
    "### Basic Model, 5 layers B"
   ]
  },
  {
   "cell_type": "code",
   "execution_count": 18,
   "id": "459c92e1",
   "metadata": {},
   "outputs": [
    {
     "name": "stdout",
     "output_type": "stream",
     "text": [
      "Epoch 1/20\n",
      "21/21 [==============================] - 10s 403ms/step - loss: 0.6765 - acc: 0.5684 - val_loss: 0.6666 - val_acc: 0.5861\n",
      "Epoch 2/20\n",
      "21/21 [==============================] - 8s 381ms/step - loss: 0.5761 - acc: 0.7066 - val_loss: 0.7155 - val_acc: 0.5708\n",
      "Epoch 3/20\n",
      "21/21 [==============================] - 8s 386ms/step - loss: 0.4373 - acc: 0.8041 - val_loss: 0.7889 - val_acc: 0.5596\n",
      "Epoch 4/20\n",
      "21/21 [==============================] - 8s 385ms/step - loss: 0.3546 - acc: 0.8330 - val_loss: 0.8951 - val_acc: 0.5607\n",
      "Epoch 5/20\n",
      "21/21 [==============================] - 8s 378ms/step - loss: 0.3074 - acc: 0.8520 - val_loss: 0.9445 - val_acc: 0.5599\n",
      "Epoch 6/20\n",
      "21/21 [==============================] - 8s 397ms/step - loss: 0.2825 - acc: 0.8617 - val_loss: 1.0720 - val_acc: 0.5619\n",
      "Epoch 7/20\n",
      "21/21 [==============================] - 8s 381ms/step - loss: 0.2598 - acc: 0.8653 - val_loss: 1.1141 - val_acc: 0.5565\n",
      "Epoch 8/20\n",
      "21/21 [==============================] - 8s 388ms/step - loss: 0.2474 - acc: 0.8649 - val_loss: 1.1041 - val_acc: 0.5563\n",
      "Epoch 9/20\n",
      "21/21 [==============================] - 8s 389ms/step - loss: 0.2413 - acc: 0.8715 - val_loss: 1.2107 - val_acc: 0.5468\n",
      "Epoch 10/20\n",
      "21/21 [==============================] - 8s 385ms/step - loss: 0.2329 - acc: 0.8699 - val_loss: 1.3069 - val_acc: 0.5669\n",
      "Epoch 11/20\n",
      "21/21 [==============================] - 8s 371ms/step - loss: 0.2200 - acc: 0.8744 - val_loss: 1.3990 - val_acc: 0.5565\n",
      "Epoch 12/20\n",
      "21/21 [==============================] - 8s 371ms/step - loss: 0.2155 - acc: 0.8760 - val_loss: 1.4903 - val_acc: 0.5610\n",
      "Epoch 13/20\n",
      "21/21 [==============================] - 8s 385ms/step - loss: 0.2098 - acc: 0.8768 - val_loss: 1.6047 - val_acc: 0.5591\n",
      "Epoch 14/20\n",
      "21/21 [==============================] - 8s 376ms/step - loss: 0.2049 - acc: 0.8797 - val_loss: 1.7455 - val_acc: 0.5641\n",
      "Epoch 15/20\n",
      "21/21 [==============================] - 8s 386ms/step - loss: 0.2042 - acc: 0.8784 - val_loss: 1.9461 - val_acc: 0.5526\n",
      "Epoch 16/20\n",
      "21/21 [==============================] - 8s 393ms/step - loss: 0.2005 - acc: 0.8804 - val_loss: 1.9635 - val_acc: 0.5543\n",
      "Epoch 17/20\n",
      "21/21 [==============================] - 8s 373ms/step - loss: 0.2006 - acc: 0.8766 - val_loss: 1.8332 - val_acc: 0.5602\n",
      "Epoch 18/20\n",
      "21/21 [==============================] - 9s 410ms/step - loss: 0.1996 - acc: 0.8779 - val_loss: 2.1325 - val_acc: 0.5638\n",
      "Epoch 19/20\n",
      "21/21 [==============================] - 8s 378ms/step - loss: 0.1983 - acc: 0.8787 - val_loss: 2.0346 - val_acc: 0.5473\n",
      "Epoch 20/20\n",
      "21/21 [==============================] - 8s 376ms/step - loss: 0.1981 - acc: 0.8835 - val_loss: 2.2432 - val_acc: 0.5646\n"
     ]
    }
   ],
   "source": [
    "# model\n",
    "model = Sequential()\n",
    "\n",
    "# h1\n",
    "model.add(Dense(4096, activation='relu', input_shape=(5166,)))\n",
    "\n",
    "# h2\n",
    "model.add(Dense(1024, activation='relu'))\n",
    "\n",
    "# h3\n",
    "model.add(Dense(256, activation='relu'))\n",
    "\n",
    "# h4\n",
    "model.add(Dense(64, activation='relu'))\n",
    "\n",
    "# h5\n",
    "model.add(Dense(16, activation='relu'))\n",
    "\n",
    "# output\n",
    "model.add(Dense(1, activation='sigmoid'))\n",
    "\n",
    "# Compile it\n",
    "model.compile(loss='binary_crossentropy', optimizer='adam', metrics='acc')\n",
    "\n",
    "# Fit it\n",
    "results = model.fit(X_train, y_train,\n",
    "                    batch_size=512,\n",
    "                    epochs=20,\n",
    "                    validation_data=(X_test, y_test),\n",
    "                    verbose=1) # <- printing"
   ]
  },
  {
   "cell_type": "code",
   "execution_count": 19,
   "id": "8cf11611",
   "metadata": {},
   "outputs": [],
   "source": [
    "preds_loss_b = model.predict(X_test)"
   ]
  },
  {
   "cell_type": "code",
   "execution_count": 20,
   "id": "e7607f2a",
   "metadata": {},
   "outputs": [],
   "source": [
    "# Visualize the loss\n",
    "train_loss_b = results.history['loss']\n",
    "test_loss_b = results.history['val_loss']"
   ]
  },
  {
   "cell_type": "code",
   "execution_count": 21,
   "id": "b8bb788e",
   "metadata": {
    "scrolled": true
   },
   "outputs": [
    {
     "data": {
      "image/png": "[encoded data removed]",
      "text/plain": [
       "<Figure size 864x576 with 1 Axes>"
      ]
     },
     "metadata": {
      "needs_background": "light"
     },
     "output_type": "display_data"
    }
   ],
   "source": [
    "plt.figure(figsize=(12, 8))\n",
    "\n",
    "plt.plot(train_loss_b, label='Training loss', color='navy')\n",
    "plt.plot(test_loss_b, label='Testing loss', color='red')\n",
    "\n",
    "plt.legend();\n",
    "\n",
    "plt.savefig('../images/nn_b.png', bbox_inches='tight')"
   ]
  },
  {
   "cell_type": "markdown",
   "id": "6601982a",
   "metadata": {},
   "source": [
    "==="
   ]
  },
  {
   "cell_type": "markdown",
   "id": "949cb17b",
   "metadata": {},
   "source": [
    "### Model with L2 Regularizer, 5 layers B"
   ]
  },
  {
   "cell_type": "code",
   "execution_count": 22,
   "id": "eab599f2",
   "metadata": {},
   "outputs": [
    {
     "name": "stdout",
     "output_type": "stream",
     "text": [
      "Epoch 1/30\n",
      "42/42 [==============================] - 21s 420ms/step - loss: 2.2021 - acc: 0.5594 - val_loss: 0.8376 - val_acc: 0.5649\n",
      "Epoch 2/30\n",
      "42/42 [==============================] - 17s 411ms/step - loss: 0.7561 - acc: 0.5812 - val_loss: 0.7164 - val_acc: 0.5806\n",
      "Epoch 3/30\n",
      "42/42 [==============================] - 17s 409ms/step - loss: 0.7092 - acc: 0.5973 - val_loss: 0.7059 - val_acc: 0.5831\n",
      "Epoch 4/30\n",
      "42/42 [==============================] - 17s 414ms/step - loss: 0.7041 - acc: 0.6061 - val_loss: 0.7195 - val_acc: 0.5881\n",
      "Epoch 5/30\n",
      "42/42 [==============================] - 18s 419ms/step - loss: 0.6857 - acc: 0.6512 - val_loss: 0.7482 - val_acc: 0.5633\n",
      "Epoch 6/30\n",
      "42/42 [==============================] - 17s 418ms/step - loss: 0.6595 - acc: 0.7076 - val_loss: 0.7622 - val_acc: 0.5725\n",
      "Epoch 7/30\n",
      "42/42 [==============================] - 17s 417ms/step - loss: 0.6134 - acc: 0.7526 - val_loss: 0.7639 - val_acc: 0.5783\n",
      "Epoch 8/30\n",
      "42/42 [==============================] - 17s 395ms/step - loss: 0.5841 - acc: 0.7659 - val_loss: 0.7925 - val_acc: 0.5741\n",
      "Epoch 9/30\n",
      "42/42 [==============================] - 17s 404ms/step - loss: 0.5661 - acc: 0.7713 - val_loss: 0.8082 - val_acc: 0.5789\n",
      "Epoch 10/30\n",
      "42/42 [==============================] - 17s 406ms/step - loss: 0.5547 - acc: 0.7792 - val_loss: 0.8316 - val_acc: 0.5839\n",
      "Epoch 11/30\n",
      "42/42 [==============================] - 17s 410ms/step - loss: 0.5277 - acc: 0.7928 - val_loss: 0.8516 - val_acc: 0.5733\n",
      "Epoch 12/30\n",
      "42/42 [==============================] - 17s 410ms/step - loss: 0.5046 - acc: 0.8042 - val_loss: 0.8793 - val_acc: 0.5607\n",
      "Epoch 13/30\n",
      "42/42 [==============================] - 18s 418ms/step - loss: 0.4757 - acc: 0.8179 - val_loss: 0.9113 - val_acc: 0.5619\n",
      "Epoch 14/30\n",
      "42/42 [==============================] - 17s 410ms/step - loss: 0.4540 - acc: 0.8303 - val_loss: 0.9301 - val_acc: 0.5565\n",
      "Epoch 15/30\n",
      "42/42 [==============================] - 17s 408ms/step - loss: 0.4358 - acc: 0.8360 - val_loss: 0.9743 - val_acc: 0.5655\n",
      "Epoch 16/30\n",
      "42/42 [==============================] - 17s 411ms/step - loss: 0.4172 - acc: 0.8397 - val_loss: 0.9901 - val_acc: 0.5507\n",
      "Epoch 17/30\n",
      "42/42 [==============================] - 17s 412ms/step - loss: 0.4014 - acc: 0.8467 - val_loss: 1.0423 - val_acc: 0.5702\n",
      "Epoch 18/30\n",
      "42/42 [==============================] - 17s 409ms/step - loss: 0.3931 - acc: 0.8470 - val_loss: 1.0193 - val_acc: 0.5552\n",
      "Epoch 19/30\n",
      "42/42 [==============================] - 17s 412ms/step - loss: 0.3820 - acc: 0.8524 - val_loss: 1.0601 - val_acc: 0.5512\n",
      "Epoch 20/30\n",
      "42/42 [==============================] - 17s 404ms/step - loss: 0.3767 - acc: 0.8529 - val_loss: 1.0791 - val_acc: 0.5532\n",
      "Epoch 21/30\n",
      "42/42 [==============================] - 17s 411ms/step - loss: 0.3706 - acc: 0.8545 - val_loss: 1.0978 - val_acc: 0.5672\n",
      "Epoch 22/30\n",
      "42/42 [==============================] - 17s 408ms/step - loss: 0.3630 - acc: 0.8572 - val_loss: 1.1046 - val_acc: 0.5697\n",
      "Epoch 23/30\n",
      "42/42 [==============================] - 16s 388ms/step - loss: 0.3572 - acc: 0.8592 - val_loss: 1.1377 - val_acc: 0.5384\n",
      "Epoch 24/30\n",
      "42/42 [==============================] - 15s 365ms/step - loss: 0.3625 - acc: 0.8551 - val_loss: 1.1192 - val_acc: 0.5644\n",
      "Epoch 25/30\n",
      "42/42 [==============================] - 17s 409ms/step - loss: 0.3548 - acc: 0.8584 - val_loss: 1.1293 - val_acc: 0.5521\n",
      "Epoch 26/30\n",
      "42/42 [==============================] - 17s 406ms/step - loss: 0.3475 - acc: 0.8624 - val_loss: 1.1262 - val_acc: 0.5602\n",
      "Epoch 27/30\n",
      "42/42 [==============================] - 18s 416ms/step - loss: 0.3515 - acc: 0.8593 - val_loss: 1.1360 - val_acc: 0.5543\n",
      "Epoch 28/30\n",
      "42/42 [==============================] - 17s 408ms/step - loss: 0.3509 - acc: 0.8625 - val_loss: 1.1294 - val_acc: 0.5596\n",
      "Epoch 29/30\n",
      "42/42 [==============================] - 17s 404ms/step - loss: 0.3396 - acc: 0.8612 - val_loss: 1.1252 - val_acc: 0.5638\n",
      "Epoch 30/30\n",
      "42/42 [==============================] - 17s 418ms/step - loss: 0.3375 - acc: 0.8607 - val_loss: 1.1338 - val_acc: 0.5588\n"
     ]
    }
   ],
   "source": [
    "# model\n",
    "model = Sequential()\n",
    "\n",
    "# h1\n",
    "model.add(Dense(4096, activation='relu', input_shape=(5166,), kernel_regularizer=l2(.001)))\n",
    "\n",
    "# h2\n",
    "model.add(Dense(1024, activation='relu', kernel_regularizer=l2(.001)))\n",
    "\n",
    "# h3\n",
    "model.add(Dense(256, activation='relu', kernel_regularizer=l2(.001)))\n",
    "\n",
    "# h4\n",
    "model.add(Dense(64, activation='relu', kernel_regularizer=l2(.001)))\n",
    "\n",
    "# h5\n",
    "model.add(Dense(16, activation='relu', kernel_regularizer=l2(.001)))\n",
    "\n",
    "# output\n",
    "model.add(Dense(1, activation='sigmoid'))\n",
    "\n",
    "# Compile it\n",
    "model.compile(loss='binary_crossentropy', optimizer='adam', metrics='acc')\n",
    "\n",
    "# Fit it\n",
    "results = model.fit(X_train, y_train,\n",
    "                    batch_size=256,\n",
    "                    epochs=30,\n",
    "                    validation_data=(X_test, y_test),\n",
    "                    verbose=1) # <- printing"
   ]
  },
  {
   "cell_type": "code",
   "execution_count": 23,
   "id": "987579c1",
   "metadata": {},
   "outputs": [],
   "source": [
    "preds_l2_b = model.predict(X_test)"
   ]
  },
  {
   "cell_type": "code",
   "execution_count": 24,
   "id": "74eaa272",
   "metadata": {},
   "outputs": [],
   "source": [
    "# Visualize loss\n",
    "train_l2_b = results.history['loss']\n",
    "test_l2_b = results.history['val_loss']"
   ]
  },
  {
   "cell_type": "code",
   "execution_count": 25,
   "id": "9894b373",
   "metadata": {
    "scrolled": true
   },
   "outputs": [
    {
     "data": {
      "image/png": "[encoded data removed]",
      "text/plain": [
       "<Figure size 864x576 with 1 Axes>"
      ]
     },
     "metadata": {
      "needs_background": "light"
     },
     "output_type": "display_data"
    }
   ],
   "source": [
    "plt.figure(figsize=(12, 8))\n",
    "\n",
    "plt.plot(train_l2_b, label='L2 Training loss', color='green')\n",
    "plt.plot(test_l2_b, label='L2 Testing loss', color='purple')\n",
    "\n",
    "plt.legend();\n",
    "\n",
    "plt.savefig('../images/nn_rl2b.png', bbox_inches='tight')"
   ]
  },
  {
   "cell_type": "code",
   "execution_count": null,
   "id": "19d7aefd",
   "metadata": {},
   "outputs": [],
   "source": []
  },
  {
   "cell_type": "markdown",
   "id": "da5779ec",
   "metadata": {},
   "source": [
    "### Model with L2 Regularizer, 5 layers A"
   ]
  },
  {
   "cell_type": "code",
   "execution_count": 26,
   "id": "9cfbbc56",
   "metadata": {},
   "outputs": [
    {
     "name": "stdout",
     "output_type": "stream",
     "text": [
      "Epoch 1/20\n",
      "42/42 [==============================] - 26s 559ms/step - loss: 3.0111 - acc: 0.5486 - val_loss: 0.8809 - val_acc: 0.5747\n",
      "Epoch 2/20\n",
      "42/42 [==============================] - 22s 533ms/step - loss: 0.7569 - acc: 0.5762 - val_loss: 0.7042 - val_acc: 0.5741\n",
      "Epoch 3/20\n",
      "42/42 [==============================] - 22s 527ms/step - loss: 0.6996 - acc: 0.5926 - val_loss: 0.6954 - val_acc: 0.5839\n",
      "Epoch 4/20\n",
      "42/42 [==============================] - 23s 538ms/step - loss: 0.6875 - acc: 0.6188 - val_loss: 0.7119 - val_acc: 0.5761\n",
      "Epoch 5/20\n",
      "42/42 [==============================] - 22s 533ms/step - loss: 0.6730 - acc: 0.6724 - val_loss: 0.7479 - val_acc: 0.5582\n",
      "Epoch 6/20\n",
      "42/42 [==============================] - 22s 536ms/step - loss: 0.6391 - acc: 0.7328 - val_loss: 0.7872 - val_acc: 0.5839\n",
      "Epoch 7/20\n",
      "42/42 [==============================] - 22s 528ms/step - loss: 0.6025 - acc: 0.7546 - val_loss: 0.8021 - val_acc: 0.5716\n",
      "Epoch 8/20\n",
      "42/42 [==============================] - 23s 538ms/step - loss: 0.5713 - acc: 0.7708 - val_loss: 0.8263 - val_acc: 0.5677\n",
      "Epoch 9/20\n",
      "42/42 [==============================] - 22s 530ms/step - loss: 0.5412 - acc: 0.7869 - val_loss: 0.8695 - val_acc: 0.5565\n",
      "Epoch 10/20\n",
      "42/42 [==============================] - 23s 540ms/step - loss: 0.5157 - acc: 0.7998 - val_loss: 0.8858 - val_acc: 0.5666\n",
      "Epoch 11/20\n",
      "42/42 [==============================] - 22s 530ms/step - loss: 0.4913 - acc: 0.8093 - val_loss: 0.9175 - val_acc: 0.5769\n",
      "Epoch 12/20\n",
      "42/42 [==============================] - 22s 537ms/step - loss: 0.4653 - acc: 0.8207 - val_loss: 0.9371 - val_acc: 0.5713\n",
      "Epoch 13/20\n",
      "42/42 [==============================] - 22s 536ms/step - loss: 0.4391 - acc: 0.8317 - val_loss: 0.9541 - val_acc: 0.5496\n",
      "Epoch 14/20\n",
      "42/42 [==============================] - 23s 537ms/step - loss: 0.4221 - acc: 0.8350 - val_loss: 0.9502 - val_acc: 0.5339\n",
      "Epoch 15/20\n",
      "42/42 [==============================] - 22s 526ms/step - loss: 0.4175 - acc: 0.8375 - val_loss: 0.9957 - val_acc: 0.5434\n",
      "Epoch 16/20\n",
      "42/42 [==============================] - 23s 538ms/step - loss: 0.3956 - acc: 0.8447 - val_loss: 1.0170 - val_acc: 0.5646\n",
      "Epoch 17/20\n",
      "42/42 [==============================] - 23s 538ms/step - loss: 0.3882 - acc: 0.8469 - val_loss: 0.9916 - val_acc: 0.5638\n",
      "Epoch 18/20\n",
      "42/42 [==============================] - 23s 547ms/step - loss: 0.3748 - acc: 0.8521 - val_loss: 1.0682 - val_acc: 0.5680\n",
      "Epoch 19/20\n",
      "42/42 [==============================] - 22s 535ms/step - loss: 0.3772 - acc: 0.8494 - val_loss: 1.0399 - val_acc: 0.5644\n",
      "Epoch 20/20\n",
      "42/42 [==============================] - 22s 534ms/step - loss: 0.3648 - acc: 0.8529 - val_loss: 1.0238 - val_acc: 0.5538\n"
     ]
    }
   ],
   "source": [
    "# model\n",
    "model = Sequential()\n",
    "\n",
    "# h1\n",
    "model.add(Dense(4096, activation='relu', input_shape=(5166,), kernel_regularizer=l2(.001)))\n",
    "\n",
    "# h2\n",
    "model.add(Dense(2048, activation='relu', kernel_regularizer=l2(.001)))\n",
    "\n",
    "# h3\n",
    "model.add(Dense(1024, activation='relu', kernel_regularizer=l2(.001)))\n",
    "\n",
    "# h4\n",
    "model.add(Dense(512, activation='relu', kernel_regularizer=l2(.001)))\n",
    "\n",
    "# h5\n",
    "model.add(Dense(256, activation='relu', kernel_regularizer=l2(.001)))\n",
    "\n",
    "# output\n",
    "model.add(Dense(1, activation='sigmoid'))\n",
    "\n",
    "# Compile it\n",
    "model.compile(loss='binary_crossentropy',  optimizer='adam', metrics='acc')\n",
    "\n",
    "# Fit it\n",
    "results = model.fit(X_train, y_train,\n",
    "                    batch_size=256,\n",
    "                    epochs=20,\n",
    "                    validation_data=(X_test, y_test),\n",
    "                    verbose=1) # <- printing"
   ]
  },
  {
   "cell_type": "code",
   "execution_count": 27,
   "id": "f1675d11",
   "metadata": {},
   "outputs": [],
   "source": [
    "preds_l2_a = model.predict(X_test)"
   ]
  },
  {
   "cell_type": "code",
   "execution_count": 28,
   "id": "97902e88",
   "metadata": {},
   "outputs": [],
   "source": [
    "# Visualize loss\n",
    "train_l2_a = results.history['loss']\n",
    "test_l2_a = results.history['val_loss']"
   ]
  },
  {
   "cell_type": "code",
   "execution_count": 29,
   "id": "91e2efe5",
   "metadata": {},
   "outputs": [
    {
     "data": {
      "image/png": "[encoded data removed]",
      "text/plain": [
       "<Figure size 864x576 with 1 Axes>"
      ]
     },
     "metadata": {
      "needs_background": "light"
     },
     "output_type": "display_data"
    }
   ],
   "source": [
    "plt.figure(figsize=(12, 8))\n",
    "\n",
    "plt.plot(train_l2_a, label='L2 Training loss', color='green')\n",
    "plt.plot(test_l2_a, label='L2 Testing loss', color='purple')\n",
    "\n",
    "plt.legend();\n",
    "\n",
    "plt.savefig('../images/nn_rl2a.png', bbox_inches='tight')"
   ]
  },
  {
   "cell_type": "markdown",
   "id": "013149c5",
   "metadata": {},
   "source": [
    "==="
   ]
  },
  {
   "cell_type": "markdown",
   "id": "5dfaa186",
   "metadata": {},
   "source": [
    "### Dropout Model, 5 layers B"
   ]
  },
  {
   "cell_type": "code",
   "execution_count": 30,
   "id": "c0b6b2b9",
   "metadata": {},
   "outputs": [
    {
     "name": "stdout",
     "output_type": "stream",
     "text": [
      "Epoch 1/20\n",
      "42/42 [==============================] - 16s 321ms/step - loss: 0.7451 - acc: 0.5135 - val_loss: 0.6914 - val_acc: 0.5557\n",
      "Epoch 2/20\n",
      "42/42 [==============================] - 12s 274ms/step - loss: 0.7024 - acc: 0.5308 - val_loss: 0.6903 - val_acc: 0.5557\n",
      "Epoch 3/20\n",
      "42/42 [==============================] - 11s 267ms/step - loss: 0.6982 - acc: 0.5324 - val_loss: 0.6895 - val_acc: 0.5557\n",
      "Epoch 4/20\n",
      "42/42 [==============================] - 13s 311ms/step - loss: 0.6938 - acc: 0.5388 - val_loss: 0.6888 - val_acc: 0.5557\n",
      "Epoch 5/20\n",
      "42/42 [==============================] - 13s 301ms/step - loss: 0.6932 - acc: 0.5416 - val_loss: 0.6884 - val_acc: 0.5557\n",
      "Epoch 6/20\n",
      "42/42 [==============================] - 13s 301ms/step - loss: 0.6928 - acc: 0.5379 - val_loss: 0.6881 - val_acc: 0.5557\n",
      "Epoch 7/20\n",
      "42/42 [==============================] - 12s 299ms/step - loss: 0.6911 - acc: 0.5423 - val_loss: 0.6879 - val_acc: 0.5557\n",
      "Epoch 8/20\n",
      "42/42 [==============================] - 13s 305ms/step - loss: 0.6907 - acc: 0.5458 - val_loss: 0.6876 - val_acc: 0.5557\n",
      "Epoch 9/20\n",
      "42/42 [==============================] - 13s 308ms/step - loss: 0.6920 - acc: 0.5432 - val_loss: 0.6876 - val_acc: 0.5557\n",
      "Epoch 10/20\n",
      "42/42 [==============================] - 13s 308ms/step - loss: 0.6906 - acc: 0.5432 - val_loss: 0.6875 - val_acc: 0.5557\n",
      "Epoch 11/20\n",
      "42/42 [==============================] - 13s 306ms/step - loss: 0.6895 - acc: 0.5444 - val_loss: 0.6874 - val_acc: 0.5557\n",
      "Epoch 12/20\n",
      "42/42 [==============================] - 13s 305ms/step - loss: 0.6893 - acc: 0.5453 - val_loss: 0.6873 - val_acc: 0.5557\n",
      "Epoch 13/20\n",
      "42/42 [==============================] - 13s 303ms/step - loss: 0.6894 - acc: 0.5457 - val_loss: 0.6874 - val_acc: 0.5557\n",
      "Epoch 14/20\n",
      "42/42 [==============================] - 13s 302ms/step - loss: 0.6895 - acc: 0.5444 - val_loss: 0.6873 - val_acc: 0.5557\n",
      "Epoch 15/20\n",
      "42/42 [==============================] - 13s 304ms/step - loss: 0.6880 - acc: 0.5472 - val_loss: 0.6872 - val_acc: 0.5557\n",
      "Epoch 16/20\n",
      "42/42 [==============================] - 13s 310ms/step - loss: 0.6889 - acc: 0.5479 - val_loss: 0.6873 - val_acc: 0.5557\n",
      "Epoch 17/20\n",
      "42/42 [==============================] - 13s 304ms/step - loss: 0.6893 - acc: 0.5471 - val_loss: 0.6873 - val_acc: 0.5557\n",
      "Epoch 18/20\n",
      "42/42 [==============================] - 13s 302ms/step - loss: 0.6896 - acc: 0.5452 - val_loss: 0.6873 - val_acc: 0.5557\n",
      "Epoch 19/20\n",
      "42/42 [==============================] - 13s 306ms/step - loss: 0.6892 - acc: 0.5442 - val_loss: 0.6873 - val_acc: 0.5557\n",
      "Epoch 20/20\n",
      "42/42 [==============================] - 12s 298ms/step - loss: 0.6881 - acc: 0.5486 - val_loss: 0.6873 - val_acc: 0.5557\n"
     ]
    }
   ],
   "source": [
    "# model\n",
    "model = Sequential()\n",
    "\n",
    "# h1\n",
    "model.add(Dense(4096, activation='relu', input_shape=(5166,)))\n",
    "model.add(Dropout(.8))\n",
    "\n",
    "# h2\n",
    "model.add(Dense(1024, activation='relu'))\n",
    "model.add(Dropout(.8))\n",
    "\n",
    "# h3\n",
    "model.add(Dense(256, activation='relu'))\n",
    "model.add(Dropout(.8))\n",
    "\n",
    "# h4\n",
    "model.add(Dense(64, activation='relu'))\n",
    "model.add(Dropout(.8))\n",
    "\n",
    "# h5\n",
    "model.add(Dense(16, activation='relu'))\n",
    "model.add(Dropout(.8))\n",
    "\n",
    "# output\n",
    "model.add(Dense(1, activation='sigmoid'))\n",
    "\n",
    "# Compile it\n",
    "model.compile(loss='binary_crossentropy', optimizer='adam', metrics='acc')\n",
    "\n",
    "# Fit it\n",
    "results = model.fit(X_train, y_train,\n",
    "                    batch_size=256,\n",
    "                    epochs=20,\n",
    "                    validation_data=(X_test, y_test),\n",
    "                    verbose=1) # <- printing"
   ]
  },
  {
   "cell_type": "code",
   "execution_count": 31,
   "id": "a0254ffc",
   "metadata": {},
   "outputs": [],
   "source": [
    "preds_dropout_b = model.predict(X_test)"
   ]
  },
  {
   "cell_type": "code",
   "execution_count": 32,
   "id": "b039ea56",
   "metadata": {},
   "outputs": [],
   "source": [
    "train_dropout_b = results.history['loss']\n",
    "test_dropout_b = results.history['val_loss']"
   ]
  },
  {
   "cell_type": "code",
   "execution_count": 33,
   "id": "b3c6a17b",
   "metadata": {},
   "outputs": [
    {
     "data": {
      "image/png": "[encoded data removed]",
      "text/plain": [
       "<Figure size 864x576 with 1 Axes>"
      ]
     },
     "metadata": {
      "needs_background": "light"
     },
     "output_type": "display_data"
    }
   ],
   "source": [
    "plt.figure(figsize=(12, 8))\n",
    "\n",
    "plt.plot(train_dropout_b, label='Dropout Training loss', color='navy')\n",
    "plt.plot(test_dropout_b, label='Dropout Testing loss', color='blue')\n",
    "\n",
    "plt.legend();\n",
    "\n",
    "plt.savefig('../images/nn_drop_b.png', bbox_inches='tight')"
   ]
  },
  {
   "cell_type": "markdown",
   "id": "853ab475",
   "metadata": {},
   "source": [
    "==="
   ]
  },
  {
   "cell_type": "markdown",
   "id": "ae990957",
   "metadata": {},
   "source": [
    "### Dropout Model, 5 layers A"
   ]
  },
  {
   "cell_type": "code",
   "execution_count": 34,
   "id": "fc5dc511",
   "metadata": {},
   "outputs": [
    {
     "name": "stdout",
     "output_type": "stream",
     "text": [
      "Epoch 1/20\n",
      "21/21 [==============================] - 12s 456ms/step - loss: 0.7436 - acc: 0.5128 - val_loss: 0.6922 - val_acc: 0.5557\n",
      "Epoch 2/20\n",
      "21/21 [==============================] - 9s 432ms/step - loss: 0.7068 - acc: 0.5160 - val_loss: 0.6913 - val_acc: 0.5557\n",
      "Epoch 3/20\n",
      "21/21 [==============================] - 9s 429ms/step - loss: 0.6981 - acc: 0.5297 - val_loss: 0.6907 - val_acc: 0.5557\n",
      "Epoch 4/20\n",
      "21/21 [==============================] - 9s 446ms/step - loss: 0.6943 - acc: 0.5315 - val_loss: 0.6901 - val_acc: 0.5557\n",
      "Epoch 5/20\n",
      "21/21 [==============================] - 9s 441ms/step - loss: 0.6936 - acc: 0.5362 - val_loss: 0.6896 - val_acc: 0.5557\n",
      "Epoch 6/20\n",
      "21/21 [==============================] - 9s 438ms/step - loss: 0.6929 - acc: 0.5381 - val_loss: 0.6891 - val_acc: 0.5557\n",
      "Epoch 7/20\n",
      "21/21 [==============================] - 9s 440ms/step - loss: 0.6921 - acc: 0.5419 - val_loss: 0.6888 - val_acc: 0.5557\n",
      "Epoch 8/20\n",
      "21/21 [==============================] - 9s 437ms/step - loss: 0.6907 - acc: 0.5399 - val_loss: 0.6885 - val_acc: 0.5557\n",
      "Epoch 9/20\n",
      "21/21 [==============================] - 9s 431ms/step - loss: 0.6920 - acc: 0.5409 - val_loss: 0.6884 - val_acc: 0.5557\n",
      "Epoch 10/20\n",
      "21/21 [==============================] - 9s 429ms/step - loss: 0.6913 - acc: 0.5419 - val_loss: 0.6882 - val_acc: 0.5557\n",
      "Epoch 11/20\n",
      "21/21 [==============================] - 9s 432ms/step - loss: 0.6912 - acc: 0.5429 - val_loss: 0.6880 - val_acc: 0.5557\n",
      "Epoch 12/20\n",
      "21/21 [==============================] - 9s 426ms/step - loss: 0.6908 - acc: 0.5432 - val_loss: 0.6878 - val_acc: 0.5557\n",
      "Epoch 13/20\n",
      "21/21 [==============================] - 9s 449ms/step - loss: 0.6889 - acc: 0.5466 - val_loss: 0.6877 - val_acc: 0.5557\n",
      "Epoch 14/20\n",
      "21/21 [==============================] - 9s 426ms/step - loss: 0.6901 - acc: 0.5452 - val_loss: 0.6876 - val_acc: 0.5557\n",
      "Epoch 15/20\n",
      "21/21 [==============================] - 9s 431ms/step - loss: 0.6897 - acc: 0.5450 - val_loss: 0.6875 - val_acc: 0.5557\n",
      "Epoch 16/20\n",
      "21/21 [==============================] - 9s 428ms/step - loss: 0.6893 - acc: 0.5456 - val_loss: 0.6874 - val_acc: 0.5557\n",
      "Epoch 17/20\n",
      "21/21 [==============================] - 9s 426ms/step - loss: 0.6905 - acc: 0.5462 - val_loss: 0.6874 - val_acc: 0.5557\n",
      "Epoch 18/20\n",
      "21/21 [==============================] - 9s 451ms/step - loss: 0.6891 - acc: 0.5468 - val_loss: 0.6874 - val_acc: 0.5557\n",
      "Epoch 19/20\n",
      "21/21 [==============================] - 9s 434ms/step - loss: 0.6894 - acc: 0.5474 - val_loss: 0.6873 - val_acc: 0.5557\n",
      "Epoch 20/20\n",
      "21/21 [==============================] - 9s 425ms/step - loss: 0.6910 - acc: 0.5445 - val_loss: 0.6873 - val_acc: 0.5557\n"
     ]
    }
   ],
   "source": [
    "# model\n",
    "model = Sequential()\n",
    "\n",
    "# h1\n",
    "model.add(Dense(4096, activation='relu', input_shape=(5166,)))\n",
    "model.add(Dropout(.8))\n",
    "\n",
    "# h2\n",
    "model.add(Dense(1024, activation='relu'))\n",
    "model.add(Dropout(.8))\n",
    "\n",
    "# h3\n",
    "model.add(Dense(256, activation='relu'))\n",
    "model.add(Dropout(.8))\n",
    "\n",
    "# h4\n",
    "model.add(Dense(64, activation='relu'))\n",
    "model.add(Dropout(.8))\n",
    "\n",
    "# h5\n",
    "model.add(Dense(16, activation='relu'))\n",
    "model.add(Dropout(.8))\n",
    "\n",
    "# output\n",
    "model.add(Dense(1, activation='sigmoid'))\n",
    "\n",
    "# Compile it\n",
    "model.compile(loss='binary_crossentropy', optimizer='adam', metrics='acc')\n",
    "\n",
    "# Fit it\n",
    "results = model.fit(X_train, y_train,\n",
    "                    batch_size=512,\n",
    "                    epochs=20,\n",
    "                    validation_data=(X_test, y_test),\n",
    "                    verbose=1) # <- printing"
   ]
  },
  {
   "cell_type": "code",
   "execution_count": 35,
   "id": "51a6e277",
   "metadata": {},
   "outputs": [],
   "source": [
    "preds_dropout_a = model.predict(X_test)"
   ]
  },
  {
   "cell_type": "code",
   "execution_count": 36,
   "id": "e995943f",
   "metadata": {},
   "outputs": [],
   "source": [
    "train_dropout_a = results.history['loss']\n",
    "test_dropout_a = results.history['val_loss']"
   ]
  },
  {
   "cell_type": "code",
   "execution_count": 37,
   "id": "fcc6b5aa",
   "metadata": {},
   "outputs": [
    {
     "data": {
      "image/png": "[encoded data removed]",
      "text/plain": [
       "<Figure size 864x576 with 1 Axes>"
      ]
     },
     "metadata": {
      "needs_background": "light"
     },
     "output_type": "display_data"
    }
   ],
   "source": [
    "plt.figure(figsize=(12, 8))\n",
    "\n",
    "plt.plot(train_dropout_a, label='Dropout Training loss', color='darkgreen')\n",
    "plt.plot(test_dropout_a, label='Dropout Testing loss', color='lightgreen')\n",
    "\n",
    "plt.legend();\n",
    "\n",
    "plt.savefig('../images/nn_drop_a.png', bbox_inches='tight')"
   ]
  },
  {
   "cell_type": "markdown",
   "id": "e1f031dd",
   "metadata": {},
   "source": [
    "==="
   ]
  },
  {
   "cell_type": "markdown",
   "id": "9cb2ac25",
   "metadata": {},
   "source": [
    "### Add early stops"
   ]
  },
  {
   "cell_type": "code",
   "execution_count": 38,
   "id": "56a539f4",
   "metadata": {},
   "outputs": [
    {
     "name": "stdout",
     "output_type": "stream",
     "text": [
      "Epoch 1/20\n",
      "21/21 [==============================] - 12s 443ms/step - loss: 0.7501 - acc: 0.5194 - val_loss: 0.6927 - val_acc: 0.5557\n",
      "Epoch 2/20\n",
      "21/21 [==============================] - 9s 428ms/step - loss: 0.7076 - acc: 0.5219 - val_loss: 0.6918 - val_acc: 0.5557\n",
      "Epoch 3/20\n",
      "21/21 [==============================] - 9s 430ms/step - loss: 0.6984 - acc: 0.5296 - val_loss: 0.6910 - val_acc: 0.5557\n",
      "Epoch 4/20\n",
      "21/21 [==============================] - 9s 429ms/step - loss: 0.6952 - acc: 0.5333 - val_loss: 0.6902 - val_acc: 0.5557\n",
      "Epoch 5/20\n",
      "21/21 [==============================] - 9s 439ms/step - loss: 0.6936 - acc: 0.5381 - val_loss: 0.6897 - val_acc: 0.5557\n",
      "Epoch 6/20\n",
      "21/21 [==============================] - 9s 436ms/step - loss: 0.6916 - acc: 0.5454 - val_loss: 0.6893 - val_acc: 0.5557\n",
      "Epoch 7/20\n",
      "21/21 [==============================] - 9s 443ms/step - loss: 0.6916 - acc: 0.5444 - val_loss: 0.6889 - val_acc: 0.5557\n",
      "Epoch 8/20\n",
      "21/21 [==============================] - 9s 430ms/step - loss: 0.6930 - acc: 0.5420 - val_loss: 0.6886 - val_acc: 0.5557\n",
      "Epoch 9/20\n",
      "21/21 [==============================] - 9s 448ms/step - loss: 0.6906 - acc: 0.5421 - val_loss: 0.6883 - val_acc: 0.5557\n",
      "Epoch 10/20\n",
      "21/21 [==============================] - 9s 435ms/step - loss: 0.6915 - acc: 0.5421 - val_loss: 0.6882 - val_acc: 0.5557\n",
      "Epoch 11/20\n",
      "21/21 [==============================] - 9s 434ms/step - loss: 0.6905 - acc: 0.5459 - val_loss: 0.6880 - val_acc: 0.5557\n",
      "Epoch 12/20\n",
      "21/21 [==============================] - 9s 431ms/step - loss: 0.6891 - acc: 0.5446 - val_loss: 0.6878 - val_acc: 0.5557\n",
      "Epoch 13/20\n",
      "21/21 [==============================] - 9s 436ms/step - loss: 0.6906 - acc: 0.5451 - val_loss: 0.6877 - val_acc: 0.5557\n",
      "Epoch 14/20\n",
      "21/21 [==============================] - 9s 436ms/step - loss: 0.6898 - acc: 0.5444 - val_loss: 0.6876 - val_acc: 0.5557\n",
      "Epoch 15/20\n",
      "21/21 [==============================] - 8s 404ms/step - loss: 0.6900 - acc: 0.5445 - val_loss: 0.6876 - val_acc: 0.5557\n",
      "Epoch 16/20\n",
      "21/21 [==============================] - 6s 289ms/step - loss: 0.6886 - acc: 0.5472 - val_loss: 0.6875 - val_acc: 0.5557\n",
      "Epoch 17/20\n",
      "21/21 [==============================] - 9s 434ms/step - loss: 0.6895 - acc: 0.5466 - val_loss: 0.6874 - val_acc: 0.5557\n",
      "Epoch 18/20\n",
      "21/21 [==============================] - 9s 434ms/step - loss: 0.6883 - acc: 0.5458 - val_loss: 0.6874 - val_acc: 0.5557\n",
      "Epoch 19/20\n",
      "21/21 [==============================] - 9s 434ms/step - loss: 0.6893 - acc: 0.5452 - val_loss: 0.6874 - val_acc: 0.5557\n",
      "Epoch 20/20\n",
      "21/21 [==============================] - 9s 425ms/step - loss: 0.6892 - acc: 0.5454 - val_loss: 0.6874 - val_acc: 0.5557\n"
     ]
    }
   ],
   "source": [
    "# model\n",
    "model = Sequential()\n",
    "\n",
    "# h1\n",
    "model.add(Dense(4096, activation='relu', input_shape=(5166,)))\n",
    "model.add(Dropout(.8))\n",
    "\n",
    "# h2\n",
    "model.add(Dense(1024, activation='relu'))\n",
    "model.add(Dropout(.8))\n",
    "\n",
    "# h3\n",
    "model.add(Dense(256, activation='relu'))\n",
    "model.add(Dropout(.8))\n",
    "\n",
    "# h4\n",
    "model.add(Dense(64, activation='relu'))\n",
    "model.add(Dropout(.8))\n",
    "\n",
    "# h5\n",
    "model.add(Dense(16, activation='relu'))\n",
    "model.add(Dropout(.8))\n",
    "\n",
    "# output\n",
    "model.add(Dense(1, activation='sigmoid'))\n",
    "early_stop = EarlyStopping(patience=5)\n",
    "\n",
    "# Compile it\n",
    "model.compile(loss='binary_crossentropy', optimizer='adam', metrics='acc')\n",
    "\n",
    "# Fit it\n",
    "results = model.fit(X_train, y_train,\n",
    "                    batch_size=512,\n",
    "                    epochs=20,\n",
    "                    validation_data=(X_test, y_test),\n",
    "                    callbacks=[early_stop],\n",
    "                    verbose=1) # <- printing"
   ]
  },
  {
   "cell_type": "code",
   "execution_count": 39,
   "id": "6f96e294",
   "metadata": {},
   "outputs": [],
   "source": [
    "preds_es = model.predict(X_test)"
   ]
  },
  {
   "cell_type": "code",
   "execution_count": 40,
   "id": "142d3401",
   "metadata": {},
   "outputs": [],
   "source": [
    "# Visualize loss\n",
    "train_es = results.history['loss']\n",
    "test_es = results.history['val_loss']"
   ]
  },
  {
   "cell_type": "code",
   "execution_count": 41,
   "id": "0322747e",
   "metadata": {},
   "outputs": [
    {
     "data": {
      "image/png": "[encoded data removed]",
      "text/plain": [
       "<Figure size 864x576 with 1 Axes>"
      ]
     },
     "metadata": {
      "needs_background": "light"
     },
     "output_type": "display_data"
    }
   ],
   "source": [
    "plt.figure(figsize=(12, 8))\n",
    "\n",
    "plt.plot(train_es, label='ES Training loss', color='blue')\n",
    "plt.plot(test_es, label='ES Testing loss', color='red')\n",
    "\n",
    "plt.legend();\n",
    "\n",
    "plt.savefig('../images/nn_es.png', bbox_inches='tight')"
   ]
  },
  {
   "cell_type": "code",
   "execution_count": null,
   "id": "52cb3f30",
   "metadata": {},
   "outputs": [],
   "source": []
  },
  {
   "cell_type": "markdown",
   "id": "b38db553",
   "metadata": {},
   "source": [
    "### Add early stops, drop and regularizer"
   ]
  },
  {
   "cell_type": "code",
   "execution_count": 42,
   "id": "d42c0dc8",
   "metadata": {},
   "outputs": [
    {
     "name": "stdout",
     "output_type": "stream",
     "text": [
      "Epoch 1/50\n",
      "21/21 [==============================] - 16s 606ms/step - loss: 4.4448 - acc: 0.5048 - val_loss: 2.7351 - val_acc: 0.5557\n",
      "Epoch 2/50\n",
      "21/21 [==============================] - 12s 565ms/step - loss: 2.4623 - acc: 0.5160 - val_loss: 2.2077 - val_acc: 0.5557\n",
      "Epoch 3/50\n",
      "21/21 [==============================] - 12s 566ms/step - loss: 2.0202 - acc: 0.5258 - val_loss: 1.8304 - val_acc: 0.5557\n",
      "Epoch 4/50\n",
      "21/21 [==============================] - 12s 565ms/step - loss: 1.6973 - acc: 0.5322 - val_loss: 1.5588 - val_acc: 0.5557\n",
      "Epoch 5/50\n",
      "21/21 [==============================] - 12s 566ms/step - loss: 1.4582 - acc: 0.5436 - val_loss: 1.3539 - val_acc: 0.5557\n",
      "Epoch 6/50\n",
      "21/21 [==============================] - 12s 569ms/step - loss: 1.2779 - acc: 0.5435 - val_loss: 1.1982 - val_acc: 0.5557\n",
      "Epoch 7/50\n",
      "21/21 [==============================] - 12s 564ms/step - loss: 1.1404 - acc: 0.5467 - val_loss: 1.0816 - val_acc: 0.5557\n",
      "Epoch 8/50\n",
      "21/21 [==============================] - 12s 581ms/step - loss: 1.0394 - acc: 0.5477 - val_loss: 0.9957 - val_acc: 0.5557\n",
      "Epoch 9/50\n",
      "21/21 [==============================] - 12s 579ms/step - loss: 0.9651 - acc: 0.5478 - val_loss: 0.9315 - val_acc: 0.5557\n",
      "Epoch 10/50\n",
      "21/21 [==============================] - 12s 566ms/step - loss: 0.9078 - acc: 0.5475 - val_loss: 0.8819 - val_acc: 0.5557\n",
      "Epoch 11/50\n",
      "21/21 [==============================] - 12s 572ms/step - loss: 0.8641 - acc: 0.5478 - val_loss: 0.8437 - val_acc: 0.5557\n",
      "Epoch 12/50\n",
      "21/21 [==============================] - 12s 578ms/step - loss: 0.8304 - acc: 0.5479 - val_loss: 0.8139 - val_acc: 0.5557\n",
      "Epoch 13/50\n",
      "21/21 [==============================] - 12s 586ms/step - loss: 0.8033 - acc: 0.5478 - val_loss: 0.7905 - val_acc: 0.5557\n",
      "Epoch 14/50\n",
      "21/21 [==============================] - 12s 586ms/step - loss: 0.7826 - acc: 0.5478 - val_loss: 0.7719 - val_acc: 0.5557\n",
      "Epoch 15/50\n",
      "21/21 [==============================] - 12s 566ms/step - loss: 0.7659 - acc: 0.5478 - val_loss: 0.7571 - val_acc: 0.5557\n",
      "Epoch 16/50\n",
      "21/21 [==============================] - 12s 574ms/step - loss: 0.7529 - acc: 0.5478 - val_loss: 0.7454 - val_acc: 0.5557\n",
      "Epoch 17/50\n",
      "21/21 [==============================] - 12s 563ms/step - loss: 0.7421 - acc: 0.5478 - val_loss: 0.7359 - val_acc: 0.5557\n",
      "Epoch 18/50\n",
      "21/21 [==============================] - 12s 584ms/step - loss: 0.7337 - acc: 0.5478 - val_loss: 0.7282 - val_acc: 0.5557\n",
      "Epoch 19/50\n",
      "21/21 [==============================] - 12s 560ms/step - loss: 0.7265 - acc: 0.5478 - val_loss: 0.7219 - val_acc: 0.5557\n",
      "Epoch 20/50\n",
      "21/21 [==============================] - 12s 565ms/step - loss: 0.7208 - acc: 0.5478 - val_loss: 0.7166 - val_acc: 0.5557\n",
      "Epoch 21/50\n",
      "21/21 [==============================] - 12s 574ms/step - loss: 0.7158 - acc: 0.5478 - val_loss: 0.7123 - val_acc: 0.5557\n",
      "Epoch 22/50\n",
      "21/21 [==============================] - 12s 584ms/step - loss: 0.7118 - acc: 0.5478 - val_loss: 0.7086 - val_acc: 0.5557\n",
      "Epoch 23/50\n",
      "21/21 [==============================] - 12s 580ms/step - loss: 0.7086 - acc: 0.5478 - val_loss: 0.7056 - val_acc: 0.5557\n",
      "Epoch 24/50\n",
      "21/21 [==============================] - 12s 578ms/step - loss: 0.7060 - acc: 0.5478 - val_loss: 0.7031 - val_acc: 0.5557\n",
      "Epoch 25/50\n",
      "21/21 [==============================] - 12s 565ms/step - loss: 0.7038 - acc: 0.5478 - val_loss: 0.7010 - val_acc: 0.5557\n",
      "Epoch 26/50\n",
      "21/21 [==============================] - 12s 564ms/step - loss: 0.7016 - acc: 0.5478 - val_loss: 0.6992 - val_acc: 0.5557\n",
      "Epoch 27/50\n",
      "21/21 [==============================] - 12s 579ms/step - loss: 0.6999 - acc: 0.5478 - val_loss: 0.6977 - val_acc: 0.5557\n",
      "Epoch 28/50\n",
      "21/21 [==============================] - 12s 569ms/step - loss: 0.6986 - acc: 0.5478 - val_loss: 0.6963 - val_acc: 0.5557\n",
      "Epoch 29/50\n",
      "21/21 [==============================] - 12s 576ms/step - loss: 0.6972 - acc: 0.5478 - val_loss: 0.6952 - val_acc: 0.5557\n",
      "Epoch 30/50\n",
      "21/21 [==============================] - 12s 589ms/step - loss: 0.6964 - acc: 0.5478 - val_loss: 0.6943 - val_acc: 0.5557\n",
      "Epoch 31/50\n",
      "21/21 [==============================] - 12s 577ms/step - loss: 0.6953 - acc: 0.5478 - val_loss: 0.6934 - val_acc: 0.5557\n",
      "Epoch 32/50\n",
      "21/21 [==============================] - 12s 582ms/step - loss: 0.6945 - acc: 0.5478 - val_loss: 0.6926 - val_acc: 0.5557\n",
      "Epoch 33/50\n",
      "21/21 [==============================] - 12s 593ms/step - loss: 0.6939 - acc: 0.5478 - val_loss: 0.6920 - val_acc: 0.5557\n",
      "Epoch 34/50\n",
      "21/21 [==============================] - 12s 587ms/step - loss: 0.6931 - acc: 0.5478 - val_loss: 0.6914 - val_acc: 0.5557\n",
      "Epoch 35/50\n",
      "21/21 [==============================] - 12s 578ms/step - loss: 0.6928 - acc: 0.5478 - val_loss: 0.6910 - val_acc: 0.5557\n",
      "Epoch 36/50\n",
      "21/21 [==============================] - 12s 584ms/step - loss: 0.6922 - acc: 0.5478 - val_loss: 0.6905 - val_acc: 0.5557\n",
      "Epoch 37/50\n",
      "21/21 [==============================] - 12s 568ms/step - loss: 0.6920 - acc: 0.5478 - val_loss: 0.6902 - val_acc: 0.5557\n",
      "Epoch 38/50\n",
      "21/21 [==============================] - 12s 578ms/step - loss: 0.6916 - acc: 0.5478 - val_loss: 0.6899 - val_acc: 0.5557\n",
      "Epoch 39/50\n",
      "21/21 [==============================] - 12s 574ms/step - loss: 0.6911 - acc: 0.5478 - val_loss: 0.6896 - val_acc: 0.5557\n",
      "Epoch 40/50\n",
      "21/21 [==============================] - 12s 569ms/step - loss: 0.6910 - acc: 0.5478 - val_loss: 0.6893 - val_acc: 0.5557\n",
      "Epoch 41/50\n",
      "21/21 [==============================] - 12s 576ms/step - loss: 0.6908 - acc: 0.5478 - val_loss: 0.6891 - val_acc: 0.5557\n",
      "Epoch 42/50\n",
      "21/21 [==============================] - 12s 574ms/step - loss: 0.6907 - acc: 0.5478 - val_loss: 0.6889 - val_acc: 0.5557\n",
      "Epoch 43/50\n",
      "21/21 [==============================] - 12s 576ms/step - loss: 0.6903 - acc: 0.5478 - val_loss: 0.6887 - val_acc: 0.5557\n",
      "Epoch 44/50\n",
      "21/21 [==============================] - 12s 573ms/step - loss: 0.6901 - acc: 0.5478 - val_loss: 0.6886 - val_acc: 0.5557\n",
      "Epoch 45/50\n",
      "21/21 [==============================] - 12s 571ms/step - loss: 0.6900 - acc: 0.5478 - val_loss: 0.6884 - val_acc: 0.5557\n",
      "Epoch 46/50\n",
      "21/21 [==============================] - 12s 566ms/step - loss: 0.6898 - acc: 0.5478 - val_loss: 0.6883 - val_acc: 0.5557\n",
      "Epoch 47/50\n",
      "21/21 [==============================] - 11s 517ms/step - loss: 0.6897 - acc: 0.5478 - val_loss: 0.6882 - val_acc: 0.5557\n",
      "Epoch 48/50\n",
      "21/21 [==============================] - 10s 500ms/step - loss: 0.6897 - acc: 0.5478 - val_loss: 0.6881 - val_acc: 0.5557\n",
      "Epoch 49/50\n",
      "21/21 [==============================] - 12s 597ms/step - loss: 0.6896 - acc: 0.5478 - val_loss: 0.6880 - val_acc: 0.5557\n",
      "Epoch 50/50\n",
      "21/21 [==============================] - 12s 571ms/step - loss: 0.6894 - acc: 0.5478 - val_loss: 0.6879 - val_acc: 0.5557\n"
     ]
    }
   ],
   "source": [
    "# model\n",
    "model = Sequential()\n",
    "\n",
    "# h1\n",
    "model.add(Dense(4096, activation='relu', input_shape=(5166,), kernel_regularizer=l2(.001)))\n",
    "model.add(Dropout(.8))\n",
    "\n",
    "# h2\n",
    "model.add(Dense(1024, activation='relu', kernel_regularizer=l2(.001)))\n",
    "model.add(Dropout(.8))\n",
    "\n",
    "# h3\n",
    "model.add(Dense(256, activation='relu', kernel_regularizer=l2(.001)))\n",
    "model.add(Dropout(.8))\n",
    "\n",
    "# h4\n",
    "model.add(Dense(64, activation='relu', kernel_regularizer=l2(.001)))\n",
    "model.add(Dropout(.8))\n",
    "\n",
    "# h5\n",
    "model.add(Dense(16, activation='relu', kernel_regularizer=l2(.001)))\n",
    "model.add(Dropout(.8))\n",
    "\n",
    "# output\n",
    "model.add(Dense(1, activation='sigmoid'))\n",
    "early_stop = EarlyStopping(patience=5)\n",
    "\n",
    "# Compile it\n",
    "model.compile(loss='binary_crossentropy', optimizer='adam', metrics='acc')\n",
    "\n",
    "# Fit it\n",
    "results = model.fit(X_train, y_train,\n",
    "                    batch_size=512,\n",
    "                    epochs=50,\n",
    "                    validation_data=(X_test, y_test),\n",
    "                    callbacks=[early_stop],\n",
    "                    verbose=1) # <- printing"
   ]
  },
  {
   "cell_type": "code",
   "execution_count": 43,
   "id": "e05304e7",
   "metadata": {},
   "outputs": [],
   "source": [
    "preds_es_rg = model.predict(X_test)"
   ]
  },
  {
   "cell_type": "code",
   "execution_count": 44,
   "id": "f168df24",
   "metadata": {},
   "outputs": [],
   "source": [
    "# Visualize loss\n",
    "train_es_rg = results.history['loss']\n",
    "test_es_rg = results.history['val_loss']"
   ]
  },
  {
   "cell_type": "code",
   "execution_count": 45,
   "id": "04808e11",
   "metadata": {},
   "outputs": [
    {
     "data": {
      "image/png": "[encoded data removed]",
      "text/plain": [
       "<Figure size 864x576 with 1 Axes>"
      ]
     },
     "metadata": {
      "needs_background": "light"
     },
     "output_type": "display_data"
    }
   ],
   "source": [
    "plt.figure(figsize=(12, 8))\n",
    "\n",
    "plt.plot(train_es_rg, label='ES Training loss', color='Red')\n",
    "plt.plot(test_es_rg, label='ES Testing loss', color='green')\n",
    "\n",
    "plt.legend();\n",
    "\n",
    "plt.savefig('../images/nn_es_rg.png', bbox_inches='tight')"
   ]
  },
  {
   "cell_type": "code",
   "execution_count": null,
   "id": "5d01c41a",
   "metadata": {},
   "outputs": [],
   "source": []
  }
 ],
 "metadata": {
  "kernelspec": {
   "display_name": "Python 3",
   "language": "python",
   "name": "python3"
  },
  "language_info": {
   "codemirror_mode": {
    "name": "ipython",
    "version": 3
   },
   "file_extension": ".py",
   "mimetype": "text/x-python",
   "name": "python",
   "nbconvert_exporter": "python",
   "pygments_lexer": "ipython3",
   "version": "3.8.8"
  }
 },
 "nbformat": 4,
 "nbformat_minor": 5
}
