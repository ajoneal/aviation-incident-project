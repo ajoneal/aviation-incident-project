{
 "cells": [
  {
   "cell_type": "code",
   "execution_count": 4,
   "id": "59927578",
   "metadata": {},
   "outputs": [],
   "source": [
    "import pandas as pd\n",
    "import numpy as np\n",
    "import sklearn.metrics as metrics\n",
    "import matplotlib.pyplot as plt\n",
    "\n",
    "from sklearn.ensemble import RandomForestClassifier, ExtraTreesClassifier\n",
    "from sklearn.model_selection import train_test_split, cross_val_score, GridSearchCV\n",
    "from sklearn.pipeline import Pipeline"
   ]
  },
  {
   "cell_type": "code",
   "execution_count": 5,
   "id": "8da97fc7",
   "metadata": {},
   "outputs": [],
   "source": [
    "df = pd.read_csv('../dataset/cleaned.csv')"
   ]
  },
  {
   "cell_type": "code",
   "execution_count": 6,
   "id": "2d99839f",
   "metadata": {},
   "outputs": [],
   "source": [
    "df_dummies = df.filter(['event_type', 'flight_condition','flight_operation', 'sightseeing', 'second_pilot'], axis=1)"
   ]
  },
  {
   "cell_type": "code",
   "execution_count": 7,
   "id": "dea9081b",
   "metadata": {},
   "outputs": [],
   "source": [
    "df_dummies = pd.get_dummies(df_dummies, columns=['event_type', 'flight_condition', 'flight_operation', 'sightseeing',  'second_pilot'], drop_first=True)"
   ]
  },
  {
   "cell_type": "code",
   "execution_count": 8,
   "id": "6d2a58be",
   "metadata": {
    "scrolled": true
   },
   "outputs": [
    {
     "data": {
      "text/html": [
       "<div>\n",
       "<style scoped>\n",
       "    .dataframe tbody tr th:only-of-type {\n",
       "        vertical-align: middle;\n",
       "    }\n",
       "\n",
       "    .dataframe tbody tr th {\n",
       "        vertical-align: top;\n",
       "    }\n",
       "\n",
       "    .dataframe thead th {\n",
       "        text-align: right;\n",
       "    }\n",
       "</style>\n",
       "<table border=\"1\" class=\"dataframe\">\n",
       "  <thead>\n",
       "    <tr style=\"text-align: right;\">\n",
       "      <th></th>\n",
       "      <th>event_type_INC</th>\n",
       "      <th>flight_condition_Unknown</th>\n",
       "      <th>flight_condition_VMC</th>\n",
       "      <th>flight_operation_ADRP</th>\n",
       "      <th>flight_operation_AOBV</th>\n",
       "      <th>flight_operation_ASHO</th>\n",
       "      <th>flight_operation_BANT</th>\n",
       "      <th>flight_operation_BUS</th>\n",
       "      <th>flight_operation_EXEC</th>\n",
       "      <th>flight_operation_EXLD</th>\n",
       "      <th>...</th>\n",
       "      <th>flight_operation_PERS</th>\n",
       "      <th>flight_operation_POSI</th>\n",
       "      <th>flight_operation_PUBF</th>\n",
       "      <th>flight_operation_PUBL</th>\n",
       "      <th>flight_operation_PUBS</th>\n",
       "      <th>flight_operation_PUBU</th>\n",
       "      <th>flight_operation_SKYD</th>\n",
       "      <th>flight_operation_UNK</th>\n",
       "      <th>sightseeing_True</th>\n",
       "      <th>second_pilot_True</th>\n",
       "    </tr>\n",
       "  </thead>\n",
       "  <tbody>\n",
       "    <tr>\n",
       "      <th>0</th>\n",
       "      <td>0</td>\n",
       "      <td>0</td>\n",
       "      <td>1</td>\n",
       "      <td>0</td>\n",
       "      <td>0</td>\n",
       "      <td>0</td>\n",
       "      <td>0</td>\n",
       "      <td>0</td>\n",
       "      <td>0</td>\n",
       "      <td>0</td>\n",
       "      <td>...</td>\n",
       "      <td>1</td>\n",
       "      <td>0</td>\n",
       "      <td>0</td>\n",
       "      <td>0</td>\n",
       "      <td>0</td>\n",
       "      <td>0</td>\n",
       "      <td>0</td>\n",
       "      <td>0</td>\n",
       "      <td>0</td>\n",
       "      <td>0</td>\n",
       "    </tr>\n",
       "  </tbody>\n",
       "</table>\n",
       "<p>1 rows × 26 columns</p>\n",
       "</div>"
      ],
      "text/plain": [
       "   event_type_INC  flight_condition_Unknown  flight_condition_VMC  \\\n",
       "0               0                         0                     1   \n",
       "\n",
       "   flight_operation_ADRP  flight_operation_AOBV  flight_operation_ASHO  \\\n",
       "0                      0                      0                      0   \n",
       "\n",
       "   flight_operation_BANT  flight_operation_BUS  flight_operation_EXEC  \\\n",
       "0                      0                     0                      0   \n",
       "\n",
       "   flight_operation_EXLD  ...  flight_operation_PERS  flight_operation_POSI  \\\n",
       "0                      0  ...                      1                      0   \n",
       "\n",
       "   flight_operation_PUBF  flight_operation_PUBL  flight_operation_PUBS  \\\n",
       "0                      0                      0                      0   \n",
       "\n",
       "   flight_operation_PUBU  flight_operation_SKYD  flight_operation_UNK  \\\n",
       "0                      0                      0                     0   \n",
       "\n",
       "   sightseeing_True  second_pilot_True  \n",
       "0                 0                  0  \n",
       "\n",
       "[1 rows x 26 columns]"
      ]
     },
     "execution_count": 8,
     "metadata": {},
     "output_type": "execute_result"
    }
   ],
   "source": [
    "df_dummies.head(1)"
   ]
  },
  {
   "cell_type": "code",
   "execution_count": 9,
   "id": "12af7617",
   "metadata": {
    "scrolled": false
   },
   "outputs": [
    {
     "name": "stderr",
     "output_type": "stream",
     "text": [
      "<ipython-input-9-4febe336a289>:5: SettingWithCopyWarning: \n",
      "A value is trying to be set on a copy of a slice from a DataFrame\n",
      "\n",
      "See the caveats in the documentation: https://pandas.pydata.org/pandas-docs/stable/user_guide/indexing.html#returning-a-view-versus-a-copy\n",
      "  df['deaths_and_injuries'][i] = 1\n"
     ]
    }
   ],
   "source": [
    "# making death and injuries as either 1 or 0\n",
    "\n",
    "for i in range(len(df['deaths_and_injuries'])):\n",
    "    if df['deaths_and_injuries'][i] > 0:\n",
    "        df['deaths_and_injuries'][i] = 1"
   ]
  },
  {
   "cell_type": "code",
   "execution_count": 10,
   "id": "05565b34",
   "metadata": {
    "scrolled": true
   },
   "outputs": [
    {
     "data": {
      "text/plain": [
       "0        0.0\n",
       "1        0.0\n",
       "2        1.0\n",
       "3        1.0\n",
       "4        0.0\n",
       "        ... \n",
       "14317    0.0\n",
       "14318    1.0\n",
       "14319    1.0\n",
       "14320    0.0\n",
       "14321    1.0\n",
       "Name: deaths_and_injuries, Length: 14322, dtype: float64"
      ]
     },
     "execution_count": 10,
     "metadata": {},
     "output_type": "execute_result"
    }
   ],
   "source": [
    "df['deaths_and_injuries']"
   ]
  },
  {
   "cell_type": "code",
   "execution_count": 11,
   "id": "e0acc9f6",
   "metadata": {},
   "outputs": [],
   "source": [
    "X = df_dummies\n",
    "y = df['deaths_and_injuries']\n",
    "\n",
    "X_train, X_test, y_train, y_test = train_test_split(X, y, random_state=42)"
   ]
  },
  {
   "cell_type": "code",
   "execution_count": 12,
   "id": "927ed5e5",
   "metadata": {},
   "outputs": [
    {
     "data": {
      "text/plain": [
       "0.0    0.549784\n",
       "1.0    0.450216\n",
       "Name: deaths_and_injuries, dtype: float64"
      ]
     },
     "execution_count": 12,
     "metadata": {},
     "output_type": "execute_result"
    }
   ],
   "source": [
    "y.value_counts(normalize=True)  # Baseline"
   ]
  },
  {
   "cell_type": "code",
   "execution_count": 13,
   "id": "a99ad578",
   "metadata": {},
   "outputs": [
    {
     "data": {
      "text/plain": [
       "(0.5810435411039563, 0.5811366076465342)"
      ]
     },
     "execution_count": 13,
     "metadata": {},
     "output_type": "execute_result"
    }
   ],
   "source": [
    "rf = RandomForestClassifier(random_state=42)\n",
    "et = ExtraTreesClassifier(random_state=42)\n",
    "cross_val_score(rf, X_train, y_train).mean(), cross_val_score(et, X_train, y_train).mean()"
   ]
  },
  {
   "cell_type": "code",
   "execution_count": 14,
   "id": "f398fa1a",
   "metadata": {},
   "outputs": [],
   "source": [
    "rf_pipe = Pipeline([\n",
    "    ('rf', RandomForestClassifier())\n",
    "])"
   ]
  },
  {
   "cell_type": "code",
   "execution_count": 15,
   "id": "720b41f4",
   "metadata": {},
   "outputs": [],
   "source": [
    "params = {\n",
    "    'rf__random_state': [42],\n",
    "    'rf__n_estimators': [180, 200, 220],\n",
    "    'rf__max_depth': [23, 24, 25, 26]\n",
    "}"
   ]
  },
  {
   "cell_type": "code",
   "execution_count": 16,
   "id": "2639f48f",
   "metadata": {},
   "outputs": [
    {
     "name": "stdout",
     "output_type": "stream",
     "text": [
      "0.5812297608432487\n"
     ]
    },
    {
     "data": {
      "text/plain": [
       "{'rf__max_depth': 24, 'rf__n_estimators': 200, 'rf__random_state': 42}"
      ]
     },
     "execution_count": 16,
     "metadata": {},
     "output_type": "execute_result"
    }
   ],
   "source": [
    "gs = GridSearchCV(rf_pipe, param_grid=params)\n",
    "gs.fit(X_train, y_train)\n",
    "print(gs.best_score_)\n",
    "gs.best_params_"
   ]
  },
  {
   "cell_type": "code",
   "execution_count": 18,
   "id": "cfe4291a",
   "metadata": {},
   "outputs": [
    {
     "data": {
      "image/png": "[encoded data removed]",
      "text/plain": [
       "<Figure size 432x288 with 2 Axes>"
      ]
     },
     "metadata": {
      "needs_background": "light"
     },
     "output_type": "display_data"
    }
   ],
   "source": [
    "cm = metrics.plot_confusion_matrix(gs, X_test, y_test, display_labels=['None', 'Injury/Death'])\n",
    "plt.savefig('../images/rf_cm.png', bbox_inches='tight')\n",
    "plt.show(cm)"
   ]
  },
  {
   "cell_type": "code",
   "execution_count": null,
   "id": "5d01c41a",
   "metadata": {},
   "outputs": [],
   "source": []
  }
 ],
 "metadata": {
  "kernelspec": {
   "display_name": "Python 3",
   "language": "python",
   "name": "python3"
  },
  "language_info": {
   "codemirror_mode": {
    "name": "ipython",
    "version": 3
   },
   "file_extension": ".py",
   "mimetype": "text/x-python",
   "name": "python",
   "nbconvert_exporter": "python",
   "pygments_lexer": "ipython3",
   "version": "3.8.8"
  }
 },
 "nbformat": 4,
 "nbformat_minor": 5
}
