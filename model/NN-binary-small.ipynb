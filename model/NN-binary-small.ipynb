{
 "cells": [
  {
   "cell_type": "code",
   "execution_count": 10,
   "id": "59927578",
   "metadata": {},
   "outputs": [],
   "source": [
    "import pandas as pd\n",
    "import matplotlib.pyplot as plt\n",
    "\n",
    "from sklearn.model_selection import train_test_split\n",
    "from sklearn.metrics import r2_score\n",
    "\n",
    "from tensorflow.keras.models import Sequential, Model\n",
    "from tensorflow.keras.layers import Dense, Dropout, Input\n",
    "\n",
    "from tensorflow.keras import regularizers\n",
    "from tensorflow.keras.regularizers import l2\n",
    "from tensorflow.keras.callbacks import EarlyStopping\n"
   ]
  },
  {
   "cell_type": "code",
   "execution_count": 2,
   "id": "8da97fc7",
   "metadata": {},
   "outputs": [],
   "source": [
    "df = pd.read_csv('./dataset/cleaned.csv')"
   ]
  },
  {
   "cell_type": "code",
   "execution_count": 3,
   "id": "2d99839f",
   "metadata": {},
   "outputs": [],
   "source": [
    "df_dummies = df.filter(['event_type', 'flight_condition','flight_operation', 'sightseeing', 'second_pilot'], axis=1)"
   ]
  },
  {
   "cell_type": "code",
   "execution_count": 4,
   "id": "4e7890f2",
   "metadata": {},
   "outputs": [],
   "source": [
    "# One-hot encode 'city', 'state', 'event_type', 'flight_condition','flight_operation', 'sightseeing', 'second_pilot'\n",
    "\n",
    "df_dummies = pd.get_dummies(df_dummies, columns=['event_type', 'flight_condition', 'flight_operation', 'sightseeing',  'second_pilot'], drop_first=True)"
   ]
  },
  {
   "cell_type": "code",
   "execution_count": 5,
   "id": "6d2a58be",
   "metadata": {
    "scrolled": true
   },
   "outputs": [
    {
     "data": {
      "text/html": [
       "<div>\n",
       "<style scoped>\n",
       "    .dataframe tbody tr th:only-of-type {\n",
       "        vertical-align: middle;\n",
       "    }\n",
       "\n",
       "    .dataframe tbody tr th {\n",
       "        vertical-align: top;\n",
       "    }\n",
       "\n",
       "    .dataframe thead th {\n",
       "        text-align: right;\n",
       "    }\n",
       "</style>\n",
       "<table border=\"1\" class=\"dataframe\">\n",
       "  <thead>\n",
       "    <tr style=\"text-align: right;\">\n",
       "      <th></th>\n",
       "      <th>event_type_INC</th>\n",
       "      <th>flight_condition_Unknown</th>\n",
       "      <th>flight_condition_VMC</th>\n",
       "      <th>flight_operation_ADRP</th>\n",
       "      <th>flight_operation_AOBV</th>\n",
       "      <th>flight_operation_ASHO</th>\n",
       "      <th>flight_operation_BANT</th>\n",
       "      <th>flight_operation_BUS</th>\n",
       "      <th>flight_operation_EXEC</th>\n",
       "      <th>flight_operation_EXLD</th>\n",
       "      <th>...</th>\n",
       "      <th>flight_operation_PERS</th>\n",
       "      <th>flight_operation_POSI</th>\n",
       "      <th>flight_operation_PUBF</th>\n",
       "      <th>flight_operation_PUBL</th>\n",
       "      <th>flight_operation_PUBS</th>\n",
       "      <th>flight_operation_PUBU</th>\n",
       "      <th>flight_operation_SKYD</th>\n",
       "      <th>flight_operation_UNK</th>\n",
       "      <th>sightseeing_True</th>\n",
       "      <th>second_pilot_True</th>\n",
       "    </tr>\n",
       "  </thead>\n",
       "  <tbody>\n",
       "    <tr>\n",
       "      <th>0</th>\n",
       "      <td>0</td>\n",
       "      <td>0</td>\n",
       "      <td>1</td>\n",
       "      <td>0</td>\n",
       "      <td>0</td>\n",
       "      <td>0</td>\n",
       "      <td>0</td>\n",
       "      <td>0</td>\n",
       "      <td>0</td>\n",
       "      <td>0</td>\n",
       "      <td>...</td>\n",
       "      <td>1</td>\n",
       "      <td>0</td>\n",
       "      <td>0</td>\n",
       "      <td>0</td>\n",
       "      <td>0</td>\n",
       "      <td>0</td>\n",
       "      <td>0</td>\n",
       "      <td>0</td>\n",
       "      <td>0</td>\n",
       "      <td>0</td>\n",
       "    </tr>\n",
       "  </tbody>\n",
       "</table>\n",
       "<p>1 rows × 26 columns</p>\n",
       "</div>"
      ],
      "text/plain": [
       "   event_type_INC  flight_condition_Unknown  flight_condition_VMC  \\\n",
       "0               0                         0                     1   \n",
       "\n",
       "   flight_operation_ADRP  flight_operation_AOBV  flight_operation_ASHO  \\\n",
       "0                      0                      0                      0   \n",
       "\n",
       "   flight_operation_BANT  flight_operation_BUS  flight_operation_EXEC  \\\n",
       "0                      0                     0                      0   \n",
       "\n",
       "   flight_operation_EXLD  ...  flight_operation_PERS  flight_operation_POSI  \\\n",
       "0                      0  ...                      1                      0   \n",
       "\n",
       "   flight_operation_PUBF  flight_operation_PUBL  flight_operation_PUBS  \\\n",
       "0                      0                      0                      0   \n",
       "\n",
       "   flight_operation_PUBU  flight_operation_SKYD  flight_operation_UNK  \\\n",
       "0                      0                      0                     0   \n",
       "\n",
       "   sightseeing_True  second_pilot_True  \n",
       "0                 0                  0  \n",
       "\n",
       "[1 rows x 26 columns]"
      ]
     },
     "execution_count": 5,
     "metadata": {},
     "output_type": "execute_result"
    }
   ],
   "source": [
    "df_dummies.head(1)"
   ]
  },
  {
   "cell_type": "code",
   "execution_count": 6,
   "id": "12af7617",
   "metadata": {
    "scrolled": false
   },
   "outputs": [
    {
     "name": "stderr",
     "output_type": "stream",
     "text": [
      "<ipython-input-6-4febe336a289>:5: SettingWithCopyWarning: \n",
      "A value is trying to be set on a copy of a slice from a DataFrame\n",
      "\n",
      "See the caveats in the documentation: https://pandas.pydata.org/pandas-docs/stable/user_guide/indexing.html#returning-a-view-versus-a-copy\n",
      "  df['deaths_and_injuries'][i] = 1\n"
     ]
    }
   ],
   "source": [
    "# making death and injuries as either 1 or 0\n",
    "\n",
    "for i in range(len(df['deaths_and_injuries'])):\n",
    "    if df['deaths_and_injuries'][i] > 0:\n",
    "        df['deaths_and_injuries'][i] = 1"
   ]
  },
  {
   "cell_type": "code",
   "execution_count": 7,
   "id": "05565b34",
   "metadata": {},
   "outputs": [
    {
     "data": {
      "text/plain": [
       "0        0.0\n",
       "1        0.0\n",
       "2        1.0\n",
       "3        1.0\n",
       "4        0.0\n",
       "        ... \n",
       "14317    0.0\n",
       "14318    1.0\n",
       "14319    1.0\n",
       "14320    0.0\n",
       "14321    1.0\n",
       "Name: deaths_and_injuries, Length: 14322, dtype: float64"
      ]
     },
     "execution_count": 7,
     "metadata": {},
     "output_type": "execute_result"
    }
   ],
   "source": [
    "df['deaths_and_injuries']"
   ]
  },
  {
   "cell_type": "code",
   "execution_count": 8,
   "id": "e0acc9f6",
   "metadata": {},
   "outputs": [],
   "source": [
    "X = df_dummies.values\n",
    "y = df['deaths_and_injuries'].astype(int).values"
   ]
  },
  {
   "cell_type": "code",
   "execution_count": 11,
   "id": "6a05cd12",
   "metadata": {},
   "outputs": [],
   "source": [
    "X_train, X_test, y_train, y_test = train_test_split(X, y, random_state=42)"
   ]
  },
  {
   "cell_type": "code",
   "execution_count": 12,
   "id": "a99ad578",
   "metadata": {},
   "outputs": [
    {
     "data": {
      "text/plain": [
       "(26,)"
      ]
     },
     "execution_count": 12,
     "metadata": {},
     "output_type": "execute_result"
    }
   ],
   "source": [
    "X_train[0].shape"
   ]
  },
  {
   "cell_type": "markdown",
   "id": "1983af54",
   "metadata": {},
   "source": [
    "### Basic Model"
   ]
  },
  {
   "cell_type": "code",
   "execution_count": 13,
   "id": "620bf9f3",
   "metadata": {},
   "outputs": [
    {
     "name": "stdout",
     "output_type": "stream",
     "text": [
      "Epoch 1/20\n",
      "672/672 [==============================] - 7s 7ms/step - loss: 0.6906 - val_loss: 0.6880\n",
      "Epoch 2/20\n",
      "672/672 [==============================] - 5s 7ms/step - loss: 0.6804 - val_loss: 0.6737\n",
      "Epoch 3/20\n",
      "672/672 [==============================] - 5s 7ms/step - loss: 0.6749 - val_loss: 0.6728\n",
      "Epoch 4/20\n",
      "672/672 [==============================] - 4s 7ms/step - loss: 0.6738 - val_loss: 0.6731\n",
      "Epoch 5/20\n",
      "672/672 [==============================] - 5s 7ms/step - loss: 0.6734 - val_loss: 0.6733\n",
      "Epoch 6/20\n",
      "672/672 [==============================] - 5s 7ms/step - loss: 0.6736 - val_loss: 0.6730\n",
      "Epoch 7/20\n",
      "672/672 [==============================] - 4s 7ms/step - loss: 0.6731 - val_loss: 0.6742\n",
      "Epoch 8/20\n",
      "672/672 [==============================] - 5s 7ms/step - loss: 0.6731 - val_loss: 0.6730\n",
      "Epoch 9/20\n",
      "672/672 [==============================] - 5s 7ms/step - loss: 0.6727 - val_loss: 0.6732\n",
      "Epoch 10/20\n",
      "672/672 [==============================] - 4s 6ms/step - loss: 0.6707 - val_loss: 0.6709\n",
      "Epoch 11/20\n",
      "672/672 [==============================] - 5s 7ms/step - loss: 0.6689 - val_loss: 0.6690\n",
      "Epoch 12/20\n",
      "672/672 [==============================] - 5s 7ms/step - loss: 0.6681 - val_loss: 0.6685\n",
      "Epoch 13/20\n",
      "672/672 [==============================] - 4s 6ms/step - loss: 0.6671 - val_loss: 0.6677\n",
      "Epoch 14/20\n",
      "672/672 [==============================] - 4s 7ms/step - loss: 0.6666 - val_loss: 0.6671\n",
      "Epoch 15/20\n",
      "672/672 [==============================] - 4s 7ms/step - loss: 0.6665 - val_loss: 0.6674\n",
      "Epoch 16/20\n",
      "672/672 [==============================] - 4s 6ms/step - loss: 0.6662 - val_loss: 0.6678\n",
      "Epoch 17/20\n",
      "672/672 [==============================] - 4s 6ms/step - loss: 0.6658 - val_loss: 0.6667\n",
      "Epoch 18/20\n",
      "672/672 [==============================] - 5s 7ms/step - loss: 0.6656 - val_loss: 0.6685\n",
      "Epoch 19/20\n",
      "672/672 [==============================] - 4s 7ms/step - loss: 0.6654 - val_loss: 0.6661\n",
      "Epoch 20/20\n",
      "672/672 [==============================] - 4s 7ms/step - loss: 0.6654 - val_loss: 0.6664\n"
     ]
    }
   ],
   "source": [
    "# model\n",
    "model = Sequential()\n",
    "\n",
    "# h1\n",
    "model.add(Dense(32, activation='relu', input_shape=(26,)))\n",
    "\n",
    "# h2\n",
    "model.add(Dense(16, activation='relu'))\n",
    "\n",
    "# h3\n",
    "model.add(Dense(8, activation='relu'))\n",
    "\n",
    "# # h4\n",
    "model.add(Dense(4, activation='relu'))\n",
    "\n",
    "# # h5\n",
    "model.add(Dense(2, activation='relu'))\n",
    "\n",
    "# # output\n",
    "model.add(Dense(1, activation='sigmoid'))\n",
    "\n",
    "# Compile it\n",
    "model.compile(loss='binary_crossentropy', optimizer='adam')\n",
    "\n",
    "# Fit it\n",
    "results = model.fit(X_train, y_train,\n",
    "                    batch_size=16,\n",
    "                    epochs=20,\n",
    "                    validation_data=(X_test, y_test),\n",
    "                    verbose=1) # <- printing"
   ]
  },
  {
   "cell_type": "code",
   "execution_count": 14,
   "id": "1fedc94c",
   "metadata": {},
   "outputs": [],
   "source": [
    "preds_loss = model.predict(X_test)"
   ]
  },
  {
   "cell_type": "code",
   "execution_count": 15,
   "id": "6643d8e1",
   "metadata": {},
   "outputs": [],
   "source": [
    "# Visualize the loss\n",
    "train_loss = results.history['loss']\n",
    "test_loss = results.history['val_loss']"
   ]
  },
  {
   "cell_type": "code",
   "execution_count": 16,
   "id": "79c0a5a9",
   "metadata": {},
   "outputs": [
    {
     "data": {
      "image/png": "[encoded data removed]",
      "text/plain": [
       "<Figure size 864x576 with 1 Axes>"
      ]
     },
     "metadata": {
      "needs_background": "light"
     },
     "output_type": "display_data"
    }
   ],
   "source": [
    "plt.figure(figsize=(12, 8))\n",
    "plt.plot(train_loss, label='Training loss', color='navy')\n",
    "plt.plot(test_loss, label='Testing loss', color='skyblue')\n",
    "plt.legend();\n",
    "\n",
    "plt.savefig('../images/small_nn.png', bbox_inches='tight')"
   ]
  },
  {
   "cell_type": "markdown",
   "id": "6601982a",
   "metadata": {},
   "source": [
    "==="
   ]
  },
  {
   "cell_type": "markdown",
   "id": "949cb17b",
   "metadata": {},
   "source": [
    "### Model with L2 Regularizer"
   ]
  },
  {
   "cell_type": "code",
   "execution_count": 17,
   "id": "eab599f2",
   "metadata": {},
   "outputs": [
    {
     "name": "stdout",
     "output_type": "stream",
     "text": [
      "Epoch 1/20\n",
      "672/672 [==============================] - 7s 6ms/step - loss: 0.7036 - val_loss: 0.6858\n",
      "Epoch 2/20\n",
      "672/672 [==============================] - 4s 6ms/step - loss: 0.6853 - val_loss: 0.6832\n",
      "Epoch 3/20\n",
      "672/672 [==============================] - 4s 6ms/step - loss: 0.6821 - val_loss: 0.6795\n",
      "Epoch 4/20\n",
      "672/672 [==============================] - 4s 6ms/step - loss: 0.6808 - val_loss: 0.6787\n",
      "Epoch 5/20\n",
      "672/672 [==============================] - 4s 6ms/step - loss: 0.6793 - val_loss: 0.6796\n",
      "Epoch 6/20\n",
      "672/672 [==============================] - 4s 6ms/step - loss: 0.6787 - val_loss: 0.6775\n",
      "Epoch 7/20\n",
      "672/672 [==============================] - 4s 6ms/step - loss: 0.6778 - val_loss: 0.6764\n",
      "Epoch 8/20\n",
      "672/672 [==============================] - 4s 6ms/step - loss: 0.6772 - val_loss: 0.6768\n",
      "Epoch 9/20\n",
      "672/672 [==============================] - 4s 6ms/step - loss: 0.6766 - val_loss: 0.6751\n",
      "Epoch 10/20\n",
      "672/672 [==============================] - 4s 6ms/step - loss: 0.6760 - val_loss: 0.6771\n",
      "Epoch 11/20\n",
      "672/672 [==============================] - 4s 6ms/step - loss: 0.6760 - val_loss: 0.6752\n",
      "Epoch 12/20\n",
      "672/672 [==============================] - 2s 4ms/step - loss: 0.6751 - val_loss: 0.6742\n",
      "Epoch 13/20\n",
      "672/672 [==============================] - 1s 1ms/step - loss: 0.6749 - val_loss: 0.6737\n",
      "Epoch 14/20\n",
      "672/672 [==============================] - 1s 1ms/step - loss: 0.6750 - val_loss: 0.6735\n",
      "Epoch 15/20\n",
      "672/672 [==============================] - 2s 2ms/step - loss: 0.6742 - val_loss: 0.6736\n",
      "Epoch 16/20\n",
      "672/672 [==============================] - 4s 5ms/step - loss: 0.6744 - val_loss: 0.6733\n",
      "Epoch 17/20\n",
      "672/672 [==============================] - 3s 5ms/step - loss: 0.6738 - val_loss: 0.6730\n",
      "Epoch 18/20\n",
      "672/672 [==============================] - 4s 5ms/step - loss: 0.6734 - val_loss: 0.6793\n",
      "Epoch 19/20\n",
      "672/672 [==============================] - 4s 5ms/step - loss: 0.6734 - val_loss: 0.6725\n",
      "Epoch 20/20\n",
      "672/672 [==============================] - 3s 5ms/step - loss: 0.6732 - val_loss: 0.6732\n"
     ]
    }
   ],
   "source": [
    "# model\n",
    "model = Sequential()\n",
    "\n",
    "# h1\n",
    "model.add(Dense(32, activation='relu', input_shape=(26,), kernel_regularizer=l2(.001)))\n",
    "\n",
    "# h2\n",
    "model.add(Dense(16, activation='relu', kernel_regularizer=l2(.001)))\n",
    "\n",
    "# h3\n",
    "model.add(Dense(8, activation='relu', kernel_regularizer=l2(.001)))\n",
    "\n",
    "# # h4\n",
    "model.add(Dense(4, activation='relu', kernel_regularizer=l2(.001)))\n",
    "\n",
    "# # h5\n",
    "model.add(Dense(2, activation='relu', kernel_regularizer=l2(.001)))\n",
    "\n",
    "# # output\n",
    "model.add(Dense(1, activation='sigmoid'))\n",
    "\n",
    "# Compile it\n",
    "model.compile(loss='binary_crossentropy', optimizer='adam')\n",
    "\n",
    "# Fit it\n",
    "results = model.fit(X_train, y_train,\n",
    "                    batch_size=16,\n",
    "                    epochs=20,\n",
    "                    validation_data=(X_test, y_test),\n",
    "                    verbose=1) # <- printing"
   ]
  },
  {
   "cell_type": "code",
   "execution_count": 18,
   "id": "987579c1",
   "metadata": {},
   "outputs": [],
   "source": [
    "preds_l2 = model.predict(X_test)"
   ]
  },
  {
   "cell_type": "code",
   "execution_count": 19,
   "id": "74eaa272",
   "metadata": {},
   "outputs": [],
   "source": [
    "# Visualize loss\n",
    "train_l2 = results.history['loss']\n",
    "test_l2 = results.history['val_loss']"
   ]
  },
  {
   "cell_type": "code",
   "execution_count": 20,
   "id": "9894b373",
   "metadata": {
    "scrolled": true
   },
   "outputs": [
    {
     "data": {
      "image/png": "[encoded data removed]",
      "text/plain": [
       "<Figure size 864x576 with 1 Axes>"
      ]
     },
     "metadata": {
      "needs_background": "light"
     },
     "output_type": "display_data"
    }
   ],
   "source": [
    "plt.figure(figsize=(12, 8))\n",
    "\n",
    "plt.plot(train_l2, label='L2 Training loss', color='green')\n",
    "plt.plot(test_l2, label='L2 Testing loss', color='purple')\n",
    "\n",
    "plt.legend();\n",
    "\n",
    "plt.savefig('../images/small_nn_rl2.png', bbox_inches='tight')"
   ]
  },
  {
   "cell_type": "code",
   "execution_count": null,
   "id": "19d7aefd",
   "metadata": {},
   "outputs": [],
   "source": []
  },
  {
   "cell_type": "markdown",
   "id": "013149c5",
   "metadata": {},
   "source": [
    "==="
   ]
  },
  {
   "cell_type": "markdown",
   "id": "5dfaa186",
   "metadata": {},
   "source": [
    "### Model with Dropout"
   ]
  },
  {
   "cell_type": "code",
   "execution_count": 21,
   "id": "c0b6b2b9",
   "metadata": {},
   "outputs": [
    {
     "name": "stdout",
     "output_type": "stream",
     "text": [
      "Epoch 1/20\n",
      "672/672 [==============================] - 6s 6ms/step - loss: 0.7412 - val_loss: 0.6879\n",
      "Epoch 2/20\n",
      "672/672 [==============================] - 3s 5ms/step - loss: 0.6996 - val_loss: 0.6871\n",
      "Epoch 3/20\n",
      "672/672 [==============================] - 4s 5ms/step - loss: 0.6932 - val_loss: 0.6871\n",
      "Epoch 4/20\n",
      "672/672 [==============================] - 3s 5ms/step - loss: 0.6888 - val_loss: 0.6871\n",
      "Epoch 5/20\n",
      "672/672 [==============================] - 4s 5ms/step - loss: 0.6920 - val_loss: 0.6871\n",
      "Epoch 6/20\n",
      "672/672 [==============================] - 3s 5ms/step - loss: 0.6891 - val_loss: 0.6871\n",
      "Epoch 7/20\n",
      "672/672 [==============================] - 4s 5ms/step - loss: 0.6893 - val_loss: 0.6871\n",
      "Epoch 8/20\n",
      "672/672 [==============================] - 3s 5ms/step - loss: 0.6886 - val_loss: 0.6872\n",
      "Epoch 9/20\n",
      "672/672 [==============================] - 3s 5ms/step - loss: 0.6890 - val_loss: 0.6871\n",
      "Epoch 10/20\n",
      "672/672 [==============================] - 3s 5ms/step - loss: 0.6886 - val_loss: 0.6870\n",
      "Epoch 11/20\n",
      "672/672 [==============================] - 3s 4ms/step - loss: 0.6888 - val_loss: 0.6871\n",
      "Epoch 12/20\n",
      "672/672 [==============================] - 3s 5ms/step - loss: 0.6886 - val_loss: 0.6871\n",
      "Epoch 13/20\n",
      "672/672 [==============================] - 3s 5ms/step - loss: 0.6889 - val_loss: 0.6870\n",
      "Epoch 14/20\n",
      "672/672 [==============================] - 3s 5ms/step - loss: 0.6886 - val_loss: 0.6870\n",
      "Epoch 15/20\n",
      "672/672 [==============================] - 4s 6ms/step - loss: 0.6886 - val_loss: 0.6872\n",
      "Epoch 16/20\n",
      "672/672 [==============================] - 3s 5ms/step - loss: 0.6887 - val_loss: 0.6871\n",
      "Epoch 17/20\n",
      "672/672 [==============================] - 4s 5ms/step - loss: 0.6886 - val_loss: 0.6871\n",
      "Epoch 18/20\n",
      "672/672 [==============================] - 3s 5ms/step - loss: 0.6887 - val_loss: 0.6870 - loss: 0. - ET\n",
      "Epoch 19/20\n",
      "672/672 [==============================] - 4s 5ms/step - loss: 0.6886 - val_loss: 0.6870: 0\n",
      "Epoch 20/20\n",
      "672/672 [==============================] - 3s 5ms/step - loss: 0.6886 - val_loss: 0.6870\n"
     ]
    }
   ],
   "source": [
    "# model\n",
    "model = Sequential()\n",
    "\n",
    "# h1\n",
    "model.add(Dense(32, activation='relu', input_shape=(26,)))\n",
    "model.add(Dropout(.8))\n",
    "\n",
    "# h2\n",
    "model.add(Dense(16, activation='relu'))\n",
    "model.add(Dropout(.8))\n",
    "\n",
    "# h3\n",
    "model.add(Dense(8, activation='relu'))\n",
    "model.add(Dropout(.8))\n",
    "\n",
    "# h4\n",
    "model.add(Dense(4, activation='relu'))\n",
    "model.add(Dropout(.8))\n",
    "\n",
    "# h5\n",
    "model.add(Dense(2, activation='relu'))\n",
    "model.add(Dropout(.8))\n",
    "\n",
    "# output\n",
    "model.add(Dense(1, activation='sigmoid'))\n",
    "\n",
    "# Compile it\n",
    "model.compile(loss='binary_crossentropy', optimizer='adam')\n",
    "\n",
    "# Fit it\n",
    "results = model.fit(X_train, y_train,\n",
    "                    batch_size=16,\n",
    "                    epochs=20,\n",
    "                    validation_data=(X_test, y_test),\n",
    "                    verbose=1) # <- printing"
   ]
  },
  {
   "cell_type": "code",
   "execution_count": 22,
   "id": "a0254ffc",
   "metadata": {},
   "outputs": [],
   "source": [
    "preds_dropout = model.predict(X_test)"
   ]
  },
  {
   "cell_type": "code",
   "execution_count": 23,
   "id": "b039ea56",
   "metadata": {},
   "outputs": [],
   "source": [
    "train_dropout = results.history['loss']\n",
    "test_dropout = results.history['val_loss']"
   ]
  },
  {
   "cell_type": "code",
   "execution_count": 24,
   "id": "b3c6a17b",
   "metadata": {},
   "outputs": [
    {
     "data": {
      "image/png": "[encoded data removed]",
      "text/plain": [
       "<Figure size 864x576 with 1 Axes>"
      ]
     },
     "metadata": {
      "needs_background": "light"
     },
     "output_type": "display_data"
    }
   ],
   "source": [
    "plt.figure(figsize=(12, 8))\n",
    "\n",
    "plt.plot(train_dropout, label='Dropout Training loss', color='darkgreen')\n",
    "plt.plot(test_dropout, label='Dropout Testing loss', color='lightgreen')\n",
    "\n",
    "plt.legend();\n",
    "\n",
    "plt.savefig('../images/small_nn_drop.png', bbox_inches='tight')"
   ]
  },
  {
   "cell_type": "markdown",
   "id": "e1f031dd",
   "metadata": {},
   "source": [
    "==="
   ]
  },
  {
   "cell_type": "markdown",
   "id": "9cb2ac25",
   "metadata": {},
   "source": [
    "### Add early stops"
   ]
  },
  {
   "cell_type": "code",
   "execution_count": 25,
   "id": "56a539f4",
   "metadata": {},
   "outputs": [
    {
     "name": "stdout",
     "output_type": "stream",
     "text": [
      "Epoch 1/20\n",
      "672/672 [==============================] - 7s 6ms/step - loss: 0.8429 - val_loss: 0.6877\n",
      "Epoch 2/20\n",
      "672/672 [==============================] - 4s 5ms/step - loss: 0.7160 - val_loss: 0.6871\n",
      "Epoch 3/20\n",
      "672/672 [==============================] - 4s 6ms/step - loss: 0.6995 - val_loss: 0.6871\n",
      "Epoch 4/20\n",
      "672/672 [==============================] - 3s 5ms/step - loss: 0.6938 - val_loss: 0.6871\n",
      "Epoch 5/20\n",
      "672/672 [==============================] - 4s 6ms/step - loss: 0.6929 - val_loss: 0.6871\n",
      "Epoch 6/20\n",
      "672/672 [==============================] - 4s 6ms/step - loss: 0.6891 - val_loss: 0.6870\n",
      "Epoch 7/20\n",
      "672/672 [==============================] - 4s 5ms/step - loss: 0.6891 - val_loss: 0.6871\n",
      "Epoch 8/20\n",
      "672/672 [==============================] - 4s 6ms/step - loss: 0.6895 - val_loss: 0.6871\n",
      "Epoch 9/20\n",
      "672/672 [==============================] - 4s 6ms/step - loss: 0.6909 - val_loss: 0.6870\n",
      "Epoch 10/20\n",
      "672/672 [==============================] - 3s 5ms/step - loss: 0.6890 - val_loss: 0.6870\n",
      "Epoch 11/20\n",
      "672/672 [==============================] - 4s 6ms/step - loss: 0.6887 - val_loss: 0.6871\n",
      "Epoch 12/20\n",
      "672/672 [==============================] - 3s 4ms/step - loss: 0.6886 - val_loss: 0.6871\n",
      "Epoch 13/20\n",
      "672/672 [==============================] - 1s 2ms/step - loss: 0.6886 - val_loss: 0.6871\n",
      "Epoch 14/20\n",
      "672/672 [==============================] - 1s 2ms/step - loss: 0.6904 - val_loss: 0.6871\n"
     ]
    }
   ],
   "source": [
    "# model\n",
    "model = Sequential()\n",
    "\n",
    "# h1\n",
    "model.add(Dense(32, activation='relu', input_shape=(26,)))\n",
    "model.add(Dropout(.8))\n",
    "\n",
    "# h2\n",
    "model.add(Dense(16, activation='relu'))\n",
    "model.add(Dropout(.8))\n",
    "\n",
    "# h3\n",
    "model.add(Dense(8, activation='relu'))\n",
    "model.add(Dropout(.8))\n",
    "\n",
    "# h4\n",
    "model.add(Dense(4, activation='relu'))\n",
    "model.add(Dropout(.8))\n",
    "\n",
    "# h5\n",
    "model.add(Dense(2, activation='relu'))\n",
    "model.add(Dropout(.8))\n",
    "\n",
    "# output\n",
    "model.add(Dense(1, activation='sigmoid'))\n",
    "early_stop = EarlyStopping(patience=5)\n",
    "\n",
    "# Compile it\n",
    "model.compile(loss='binary_crossentropy', optimizer='adam')\n",
    "\n",
    "# Fit it\n",
    "results = model.fit(X_train, y_train,\n",
    "                    batch_size=16,\n",
    "                    epochs=20,\n",
    "                    validation_data=(X_test, y_test),\n",
    "                    callbacks=[early_stop],\n",
    "                    verbose=1) # <- printing"
   ]
  },
  {
   "cell_type": "code",
   "execution_count": 26,
   "id": "6f96e294",
   "metadata": {},
   "outputs": [],
   "source": [
    "preds_es = model.predict(X_test)"
   ]
  },
  {
   "cell_type": "code",
   "execution_count": 27,
   "id": "142d3401",
   "metadata": {},
   "outputs": [],
   "source": [
    "# Visualize loss\n",
    "train_es = results.history['loss']\n",
    "test_es = results.history['val_loss']"
   ]
  },
  {
   "cell_type": "code",
   "execution_count": 28,
   "id": "0322747e",
   "metadata": {},
   "outputs": [
    {
     "data": {
      "image/png": "[encoded data removed]",
      "text/plain": [
       "<Figure size 864x576 with 1 Axes>"
      ]
     },
     "metadata": {
      "needs_background": "light"
     },
     "output_type": "display_data"
    }
   ],
   "source": [
    "plt.figure(figsize=(12, 8))\n",
    "\n",
    "plt.plot(train_es, label='ES Training loss', color='violet')\n",
    "plt.plot(test_es, label='ES Testing loss', color='red')\n",
    "\n",
    "plt.legend();\n",
    "\n",
    "plt.savefig('../images/small_nn_es.png', bbox_inches='tight')"
   ]
  },
  {
   "cell_type": "code",
   "execution_count": null,
   "id": "52cb3f30",
   "metadata": {},
   "outputs": [],
   "source": []
  },
  {
   "cell_type": "markdown",
   "id": "b38db553",
   "metadata": {},
   "source": [
    "### Add early stops, drop and regularizer"
   ]
  },
  {
   "cell_type": "code",
   "execution_count": 29,
   "id": "d42c0dc8",
   "metadata": {},
   "outputs": [
    {
     "name": "stdout",
     "output_type": "stream",
     "text": [
      "Epoch 1/20\n",
      "672/672 [==============================] - 7s 7ms/step - loss: 0.7191 - val_loss: 0.6986\n",
      "Epoch 2/20\n",
      "672/672 [==============================] - 4s 5ms/step - loss: 0.6975 - val_loss: 0.6946\n",
      "Epoch 3/20\n",
      "672/672 [==============================] - 4s 5ms/step - loss: 0.6950 - val_loss: 0.6920\n",
      "Epoch 4/20\n",
      "672/672 [==============================] - 4s 6ms/step - loss: 0.6927 - val_loss: 0.6905\n",
      "Epoch 5/20\n",
      "672/672 [==============================] - 3s 5ms/step - loss: 0.6914 - val_loss: 0.6893\n",
      "Epoch 6/20\n",
      "672/672 [==============================] - 3s 5ms/step - loss: 0.6905 - val_loss: 0.6885\n",
      "Epoch 7/20\n",
      "672/672 [==============================] - 4s 5ms/step - loss: 0.6898 - val_loss: 0.6880\n",
      "Epoch 8/20\n",
      "672/672 [==============================] - 3s 5ms/step - loss: 0.6893 - val_loss: 0.6876\n",
      "Epoch 9/20\n",
      "672/672 [==============================] - 4s 6ms/step - loss: 0.6890 - val_loss: 0.6873\n",
      "Epoch 10/20\n",
      "672/672 [==============================] - 3s 5ms/step - loss: 0.6888 - val_loss: 0.6871\n",
      "Epoch 11/20\n",
      "672/672 [==============================] - 3s 5ms/step - loss: 0.6887 - val_loss: 0.6871\n",
      "Epoch 12/20\n",
      "672/672 [==============================] - 4s 5ms/step - loss: 0.6886 - val_loss: 0.6870\n",
      "Epoch 13/20\n",
      "672/672 [==============================] - 3s 4ms/step - loss: 0.6886 - val_loss: 0.6871\n",
      "Epoch 14/20\n",
      "672/672 [==============================] - 2s 3ms/step - loss: 0.6886 - val_loss: 0.6871\n",
      "Epoch 15/20\n",
      "672/672 [==============================] - 1s 1ms/step - loss: 0.6886 - val_loss: 0.6871\n",
      "Epoch 16/20\n",
      "672/672 [==============================] - 1s 2ms/step - loss: 0.6886 - val_loss: 0.6870\n",
      "Epoch 17/20\n",
      "672/672 [==============================] - 1s 2ms/step - loss: 0.6886 - val_loss: 0.6870\n"
     ]
    }
   ],
   "source": [
    "# model\n",
    "model = Sequential()\n",
    "\n",
    "# h1\n",
    "model.add(Dense(32, activation='relu', input_shape=(26,), kernel_regularizer=l2(.001)))\n",
    "model.add(Dropout(.8))\n",
    "\n",
    "# h2\n",
    "model.add(Dense(16, activation='relu', kernel_regularizer=l2(.001)))\n",
    "model.add(Dropout(.8))\n",
    "\n",
    "# h3\n",
    "model.add(Dense(8, activation='relu', kernel_regularizer=l2(.001)))\n",
    "model.add(Dropout(.8))\n",
    "\n",
    "# h4\n",
    "model.add(Dense(4, activation='relu', kernel_regularizer=l2(.001)))\n",
    "model.add(Dropout(.8))\n",
    "\n",
    "# h5\n",
    "model.add(Dense(2, activation='relu', kernel_regularizer=l2(.001)))\n",
    "model.add(Dropout(.8))\n",
    "\n",
    "# output\n",
    "model.add(Dense(1, activation='sigmoid'))\n",
    "early_stop = EarlyStopping(patience=5)\n",
    "\n",
    "# Compile it\n",
    "model.compile(loss='binary_crossentropy', optimizer='adam')\n",
    "\n",
    "# Fit it\n",
    "results = model.fit(X_train, y_train,\n",
    "                    batch_size=16,\n",
    "                    epochs=20,\n",
    "                    validation_data=(X_test, y_test),\n",
    "                    callbacks=[early_stop],\n",
    "                    verbose=1) # <- printing"
   ]
  },
  {
   "cell_type": "code",
   "execution_count": 30,
   "id": "a4d86b32",
   "metadata": {},
   "outputs": [],
   "source": [
    "preds_es_rg = model.predict(X_test)"
   ]
  },
  {
   "cell_type": "code",
   "execution_count": 31,
   "id": "f168df24",
   "metadata": {},
   "outputs": [],
   "source": [
    "# Visualize loss\n",
    "train_es_rg = results.history['loss']\n",
    "test_es_rg = results.history['val_loss']"
   ]
  },
  {
   "cell_type": "code",
   "execution_count": 32,
   "id": "f53a2c08",
   "metadata": {},
   "outputs": [
    {
     "data": {
      "image/png": "[encoded data removed]",
      "text/plain": [
       "<Figure size 864x576 with 1 Axes>"
      ]
     },
     "metadata": {
      "needs_background": "light"
     },
     "output_type": "display_data"
    }
   ],
   "source": [
    "plt.figure(figsize=(12, 8))\n",
    "\n",
    "plt.plot(train_es_rg, label='ES w/reg Training loss', color='violet')\n",
    "plt.plot(test_es_rg, label='ES w/reg Testing loss', color='red')\n",
    "\n",
    "plt.legend();\n",
    "\n",
    "plt.savefig('../images/ssmall_nn_es_rg.png', bbox_inches='tight')"
   ]
  },
  {
   "cell_type": "code",
   "execution_count": null,
   "id": "c30c9577",
   "metadata": {},
   "outputs": [],
   "source": []
  }
 ],
 "metadata": {
  "kernelspec": {
   "display_name": "Python 3",
   "language": "python",
   "name": "python3"
  },
  "language_info": {
   "codemirror_mode": {
    "name": "ipython",
    "version": 3
   },
   "file_extension": ".py",
   "mimetype": "text/x-python",
   "name": "python",
   "nbconvert_exporter": "python",
   "pygments_lexer": "ipython3",
   "version": "3.8.8"
  }
 },
 "nbformat": 4,
 "nbformat_minor": 5
}
