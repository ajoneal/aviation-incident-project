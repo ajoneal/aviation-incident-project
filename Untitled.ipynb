{
 "cells": [
  {
   "cell_type": "code",
   "execution_count": 2,
   "id": "d73c0491",
   "metadata": {},
   "outputs": [],
   "source": [
    "import pandas as pd\n",
    "import numpy as np"
   ]
  },
  {
   "cell_type": "code",
   "execution_count": 3,
   "id": "c68890e5",
   "metadata": {},
   "outputs": [],
   "source": [
    "df10 = pd.read_csv('./data/2010_aviation.csv')"
   ]
  },
  {
   "cell_type": "code",
   "execution_count": 4,
   "id": "af9d4172",
   "metadata": {},
   "outputs": [],
   "source": [
    "df11 = pd.read_csv('./data/2011_aviation.csv')"
   ]
  },
  {
   "cell_type": "code",
   "execution_count": 5,
   "id": "ed808af5",
   "metadata": {},
   "outputs": [],
   "source": [
    "df12 = pd.read_csv('./data/2012_aviation.csv')"
   ]
  },
  {
   "cell_type": "code",
   "execution_count": 6,
   "id": "f56616f5",
   "metadata": {},
   "outputs": [],
   "source": [
    "df13 = pd.read_csv('./data/2013_aviation.csv')"
   ]
  },
  {
   "cell_type": "code",
   "execution_count": 7,
   "id": "a3b4b4fc",
   "metadata": {},
   "outputs": [],
   "source": [
    "df14 = pd.read_csv('./data/2014_aviation.csv')"
   ]
  },
  {
   "cell_type": "code",
   "execution_count": 8,
   "id": "7c00ce5d",
   "metadata": {},
   "outputs": [],
   "source": [
    "df15 = pd.read_csv('./data/2015_aviation.csv')"
   ]
  },
  {
   "cell_type": "code",
   "execution_count": 9,
   "id": "8068bd5c",
   "metadata": {},
   "outputs": [],
   "source": [
    "df16 = pd.read_csv('./data/2016_aviation.csv')"
   ]
  },
  {
   "cell_type": "code",
   "execution_count": 10,
   "id": "3cd0ee53",
   "metadata": {},
   "outputs": [],
   "source": [
    "df17 = pd.read_csv('./data/2017_aviation.csv')"
   ]
  },
  {
   "cell_type": "code",
   "execution_count": 11,
   "id": "679f3b3a",
   "metadata": {},
   "outputs": [],
   "source": [
    "df18 = pd.read_csv('./data/2018_aviation.csv')"
   ]
  },
  {
   "cell_type": "code",
   "execution_count": 12,
   "id": "3fa1b992",
   "metadata": {},
   "outputs": [],
   "source": [
    "df19 = pd.read_csv('./data/2019_aviation.csv')"
   ]
  },
  {
   "cell_type": "code",
   "execution_count": 13,
   "id": "7da73c74",
   "metadata": {},
   "outputs": [],
   "source": [
    "df20 = pd.read_csv('./data/2020_aviation.csv')"
   ]
  },
  {
   "cell_type": "code",
   "execution_count": 14,
   "id": "e2803f49",
   "metadata": {},
   "outputs": [],
   "source": [
    "df21 = pd.read_csv('./data/2021_aviation.csv')"
   ]
  },
  {
   "cell_type": "code",
   "execution_count": 15,
   "id": "5d3b0fa9",
   "metadata": {},
   "outputs": [
    {
     "ename": "TypeError",
     "evalue": "first argument must be an iterable of pandas objects, you passed an object of type \"DataFrame\"",
     "output_type": "error",
     "traceback": [
      "\u001b[1;31m---------------------------------------------------------------------------\u001b[0m",
      "\u001b[1;31mTypeError\u001b[0m                                 Traceback (most recent call last)",
      "\u001b[1;32m<ipython-input-15-cec2b952805e>\u001b[0m in \u001b[0;36m<module>\u001b[1;34m\u001b[0m\n\u001b[1;32m----> 1\u001b[1;33m \u001b[0mdf\u001b[0m \u001b[1;33m=\u001b[0m \u001b[0mpd\u001b[0m\u001b[1;33m.\u001b[0m\u001b[0mconcat\u001b[0m\u001b[1;33m(\u001b[0m\u001b[0mdf10\u001b[0m\u001b[1;33m,\u001b[0m \u001b[0mdf11\u001b[0m\u001b[1;33m)\u001b[0m\u001b[1;33m\u001b[0m\u001b[1;33m\u001b[0m\u001b[0m\n\u001b[0m",
      "\u001b[1;32m~\\anaconda3\\lib\\site-packages\\pandas\\core\\reshape\\concat.py\u001b[0m in \u001b[0;36mconcat\u001b[1;34m(objs, axis, join, ignore_index, keys, levels, names, verify_integrity, sort, copy)\u001b[0m\n\u001b[0;32m    283\u001b[0m     \u001b[0mValueError\u001b[0m\u001b[1;33m:\u001b[0m \u001b[0mIndexes\u001b[0m \u001b[0mhave\u001b[0m \u001b[0moverlapping\u001b[0m \u001b[0mvalues\u001b[0m\u001b[1;33m:\u001b[0m \u001b[1;33m[\u001b[0m\u001b[1;34m'a'\u001b[0m\u001b[1;33m]\u001b[0m\u001b[1;33m\u001b[0m\u001b[1;33m\u001b[0m\u001b[0m\n\u001b[0;32m    284\u001b[0m     \"\"\"\n\u001b[1;32m--> 285\u001b[1;33m     op = _Concatenator(\n\u001b[0m\u001b[0;32m    286\u001b[0m         \u001b[0mobjs\u001b[0m\u001b[1;33m,\u001b[0m\u001b[1;33m\u001b[0m\u001b[1;33m\u001b[0m\u001b[0m\n\u001b[0;32m    287\u001b[0m         \u001b[0maxis\u001b[0m\u001b[1;33m=\u001b[0m\u001b[0maxis\u001b[0m\u001b[1;33m,\u001b[0m\u001b[1;33m\u001b[0m\u001b[1;33m\u001b[0m\u001b[0m\n",
      "\u001b[1;32m~\\anaconda3\\lib\\site-packages\\pandas\\core\\reshape\\concat.py\u001b[0m in \u001b[0;36m__init__\u001b[1;34m(self, objs, axis, join, keys, levels, names, ignore_index, verify_integrity, copy, sort)\u001b[0m\n\u001b[0;32m    318\u001b[0m     ):\n\u001b[0;32m    319\u001b[0m         \u001b[1;32mif\u001b[0m \u001b[0misinstance\u001b[0m\u001b[1;33m(\u001b[0m\u001b[0mobjs\u001b[0m\u001b[1;33m,\u001b[0m \u001b[1;33m(\u001b[0m\u001b[0mABCSeries\u001b[0m\u001b[1;33m,\u001b[0m \u001b[0mABCDataFrame\u001b[0m\u001b[1;33m,\u001b[0m \u001b[0mstr\u001b[0m\u001b[1;33m)\u001b[0m\u001b[1;33m)\u001b[0m\u001b[1;33m:\u001b[0m\u001b[1;33m\u001b[0m\u001b[1;33m\u001b[0m\u001b[0m\n\u001b[1;32m--> 320\u001b[1;33m             raise TypeError(\n\u001b[0m\u001b[0;32m    321\u001b[0m                 \u001b[1;34m\"first argument must be an iterable of pandas \"\u001b[0m\u001b[1;33m\u001b[0m\u001b[1;33m\u001b[0m\u001b[0m\n\u001b[0;32m    322\u001b[0m                 \u001b[1;34mf'objects, you passed an object of type \"{type(objs).__name__}\"'\u001b[0m\u001b[1;33m\u001b[0m\u001b[1;33m\u001b[0m\u001b[0m\n",
      "\u001b[1;31mTypeError\u001b[0m: first argument must be an iterable of pandas objects, you passed an object of type \"DataFrame\""
     ]
    }
   ],
   "source": [
    "df = pd.concat()"
   ]
  },
  {
   "cell_type": "code",
   "execution_count": null,
   "id": "baa1fdfd",
   "metadata": {},
   "outputs": [],
   "source": []
  }
 ],
 "metadata": {
  "kernelspec": {
   "display_name": "Python 3",
   "language": "python",
   "name": "python3"
  },
  "language_info": {
   "codemirror_mode": {
    "name": "ipython",
    "version": 3
   },
   "file_extension": ".py",
   "mimetype": "text/x-python",
   "name": "python",
   "nbconvert_exporter": "python",
   "pygments_lexer": "ipython3",
   "version": "3.8.8"
  }
 },
 "nbformat": 4,
 "nbformat_minor": 5
}
